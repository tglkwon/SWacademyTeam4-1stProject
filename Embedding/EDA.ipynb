{
 "cells": [
  {
   "cell_type": "code",
   "execution_count": 3,
   "metadata": {
    "collapsed": true
   },
   "outputs": [],
   "source": [
    "import matplotlib.pyplot as plt\n",
    "import numpy as np\n",
    "import pandas as pd\n",
    "import sqlite3\n",
    "import missingno\n",
    "from konlpy.tag import Okt, Hannanum, Mecab\n",
    "import re\n",
    "from tqdm import tqdm, trange\n",
    "import pickle\n",
    "from sklearn.feature_extraction.text import TfidfTransformer, CountVectorizer\n",
    "from sklearn.pipeline import Pipeline\n",
    "from sklearn.preprocessing import OneHotEncoder, MultiLabelBinarizer\n",
    "\n",
    "ma = Okt()"
   ]
  },
  {
   "cell_type": "code",
   "execution_count": 4,
   "outputs": [],
   "source": [
    "# crawl to db\n",
    "con = sqlite3.connect('../news_Crawl.db')\n",
    "cur = con.cursor()"
   ],
   "metadata": {
    "collapsed": false
   }
  },
  {
   "cell_type": "code",
   "execution_count": 1,
   "outputs": [
    {
     "ename": "NameError",
     "evalue": "name 'con' is not defined",
     "output_type": "error",
     "traceback": [
      "\u001B[1;31m---------------------------------------------------------------------------\u001B[0m",
      "\u001B[1;31mNameError\u001B[0m                                 Traceback (most recent call last)",
      "Cell \u001B[1;32mIn [1], line 1\u001B[0m\n\u001B[1;32m----> 1\u001B[0m con\u001B[38;5;241m.\u001B[39mclose()\n",
      "\u001B[1;31mNameError\u001B[0m: name 'con' is not defined"
     ]
    }
   ],
   "source": [
    "# con.close()"
   ],
   "metadata": {
    "collapsed": false
   }
  },
  {
   "cell_type": "code",
   "execution_count": 5,
   "outputs": [],
   "source": [
    "cur.execute('''\n",
    "    SELECT id, title, content, category, dateNews FROM news WHERE content != '';\n",
    "''')\n",
    "articles = cur.fetchall()"
   ],
   "metadata": {
    "collapsed": false
   }
  },
  {
   "cell_type": "code",
   "execution_count": 6,
   "outputs": [
    {
     "data": {
      "text/plain": "(156127, (159929,))"
     },
     "execution_count": 6,
     "metadata": {},
     "output_type": "execute_result"
    }
   ],
   "source": [
    "len(articles)"
   ],
   "metadata": {
    "collapsed": false
   }
  },
  {
   "cell_type": "code",
   "execution_count": 8,
   "outputs": [],
   "source": [
    "articles = pd.DataFrame(articles)"
   ],
   "metadata": {
    "collapsed": false
   }
  },
  {
   "cell_type": "code",
   "execution_count": 10,
   "outputs": [
    {
     "data": {
      "text/plain": "                      0                                              1  \\\n0  AKR20221207132500001   \"이태원참사 다음날 대통령 주재 회의서 &apos압사&apos 빼라 지시 나와\"   \n1  AKR20221207135900051           [부산 대학가 소식] 동의대 부속 동의어린이집, 보육공모전 우수상   \n2  AKR20221207133900111  &aposUAE 우주포럼&apos 첫 회의, \"패권 경쟁보다 협력\" 강조하며 폐막   \n3  AKR20221207111000009         대만 TSMC, 미국서 4나노 2024년·3나노 2026년 생산 시작   \n4  AKR20221207123800009                러 전직 장관이 우크라 농지 싹쓸이…\"뉴욕시 면적 2배\"   \n5  AKR20221207134500053                  진화에만 2시간…소방당국, 전기차 화재 대응에 골머리   \n6  AKR20221207128100805                  [여행소식] 해외 명품 아웃렛 잇달아 한국 시장 공략   \n7  AKR20221207135600054              한국마이크로소프트 혁신허브, 전남대서 개소…\"스타트업 지원\"   \n8  AKR20221206140251004    중랑구에 &apos서울형 키즈카페&apos 2호점…놀이기구 14종 구비(종합)   \n9  AKR20221207124700001            대통령실 \"일많은데 무슨 한동훈 차출이냐? 그게 尹대통령 생각\"   \n\n                                                   2     3          4  \n0   (서울=연합뉴스) 조민정 박경준 기자 = 이태원 압사 참사 다음 날 윤석열 대통령...    정치  221207132  \n1  [동의대 제공] 수근종합건설, 동아대 경영대학원 장학기금 3억원 조성 (부산=연합뉴...    사회  221207135  \n2   (아부다비=연합뉴스) 이승민 특파원 = '아부다비 스페이스 디베이트 포럼'(ADS...    국제  221207133  \n3   (타이베이=연합뉴스) 김철문 통신원 = 세계 최대 파운드리(반도체 위탁생산) 업체...    국제  221207111  \n4   (서울=연합뉴스) 오진송 기자 = 러시아 전직 장관이 민간인 신분으로 우크라이나 ...    국제  221207123  \n5   (영주=연합뉴스) 김선형 기자 = 사람이 탑승한 전기차 화재에 마땅한 구조 방법이...  사건사고  221207134  \n6  맥아더글렌 디자이너 아웃렛 한국 사무소 개소 10주년 기념식 [사진/성연재 기자] ...    경제  221207128  \n7   (광주=연합뉴스) 손상원 기자 = 중소기업, 스타트업을 지원하는 '한국마이크로소프...    사회  221207135  \n8   (서울=연합뉴스) 김준태 기자 = 서울시는 중랑구에 '서울형 키즈카페' 2호점을 ...    사회  221206140  \n9   (서울=연합뉴스) 정아란 한지훈 기자 = 윤석열 대통령이 여당 전당대회를 앞두고 ...    정치  221207124  ",
      "text/html": "<div>\n<style scoped>\n    .dataframe tbody tr th:only-of-type {\n        vertical-align: middle;\n    }\n\n    .dataframe tbody tr th {\n        vertical-align: top;\n    }\n\n    .dataframe thead th {\n        text-align: right;\n    }\n</style>\n<table border=\"1\" class=\"dataframe\">\n  <thead>\n    <tr style=\"text-align: right;\">\n      <th></th>\n      <th>0</th>\n      <th>1</th>\n      <th>2</th>\n      <th>3</th>\n      <th>4</th>\n    </tr>\n  </thead>\n  <tbody>\n    <tr>\n      <th>0</th>\n      <td>AKR20221207132500001</td>\n      <td>\"이태원참사 다음날 대통령 주재 회의서 &amp;apos압사&amp;apos 빼라 지시 나와\"</td>\n      <td>(서울=연합뉴스) 조민정 박경준 기자 = 이태원 압사 참사 다음 날 윤석열 대통령...</td>\n      <td>정치</td>\n      <td>221207132</td>\n    </tr>\n    <tr>\n      <th>1</th>\n      <td>AKR20221207135900051</td>\n      <td>[부산 대학가 소식] 동의대 부속 동의어린이집, 보육공모전 우수상</td>\n      <td>[동의대 제공] 수근종합건설, 동아대 경영대학원 장학기금 3억원 조성 (부산=연합뉴...</td>\n      <td>사회</td>\n      <td>221207135</td>\n    </tr>\n    <tr>\n      <th>2</th>\n      <td>AKR20221207133900111</td>\n      <td>&amp;aposUAE 우주포럼&amp;apos 첫 회의, \"패권 경쟁보다 협력\" 강조하며 폐막</td>\n      <td>(아부다비=연합뉴스) 이승민 특파원 = '아부다비 스페이스 디베이트 포럼'(ADS...</td>\n      <td>국제</td>\n      <td>221207133</td>\n    </tr>\n    <tr>\n      <th>3</th>\n      <td>AKR20221207111000009</td>\n      <td>대만 TSMC, 미국서 4나노 2024년·3나노 2026년 생산 시작</td>\n      <td>(타이베이=연합뉴스) 김철문 통신원 = 세계 최대 파운드리(반도체 위탁생산) 업체...</td>\n      <td>국제</td>\n      <td>221207111</td>\n    </tr>\n    <tr>\n      <th>4</th>\n      <td>AKR20221207123800009</td>\n      <td>러 전직 장관이 우크라 농지 싹쓸이…\"뉴욕시 면적 2배\"</td>\n      <td>(서울=연합뉴스) 오진송 기자 = 러시아 전직 장관이 민간인 신분으로 우크라이나 ...</td>\n      <td>국제</td>\n      <td>221207123</td>\n    </tr>\n    <tr>\n      <th>5</th>\n      <td>AKR20221207134500053</td>\n      <td>진화에만 2시간…소방당국, 전기차 화재 대응에 골머리</td>\n      <td>(영주=연합뉴스) 김선형 기자 = 사람이 탑승한 전기차 화재에 마땅한 구조 방법이...</td>\n      <td>사건사고</td>\n      <td>221207134</td>\n    </tr>\n    <tr>\n      <th>6</th>\n      <td>AKR20221207128100805</td>\n      <td>[여행소식] 해외 명품 아웃렛 잇달아 한국 시장 공략</td>\n      <td>맥아더글렌 디자이너 아웃렛 한국 사무소 개소 10주년 기념식 [사진/성연재 기자] ...</td>\n      <td>경제</td>\n      <td>221207128</td>\n    </tr>\n    <tr>\n      <th>7</th>\n      <td>AKR20221207135600054</td>\n      <td>한국마이크로소프트 혁신허브, 전남대서 개소…\"스타트업 지원\"</td>\n      <td>(광주=연합뉴스) 손상원 기자 = 중소기업, 스타트업을 지원하는 '한국마이크로소프...</td>\n      <td>사회</td>\n      <td>221207135</td>\n    </tr>\n    <tr>\n      <th>8</th>\n      <td>AKR20221206140251004</td>\n      <td>중랑구에 &amp;apos서울형 키즈카페&amp;apos 2호점…놀이기구 14종 구비(종합)</td>\n      <td>(서울=연합뉴스) 김준태 기자 = 서울시는 중랑구에 '서울형 키즈카페' 2호점을 ...</td>\n      <td>사회</td>\n      <td>221206140</td>\n    </tr>\n    <tr>\n      <th>9</th>\n      <td>AKR20221207124700001</td>\n      <td>대통령실 \"일많은데 무슨 한동훈 차출이냐? 그게 尹대통령 생각\"</td>\n      <td>(서울=연합뉴스) 정아란 한지훈 기자 = 윤석열 대통령이 여당 전당대회를 앞두고 ...</td>\n      <td>정치</td>\n      <td>221207124</td>\n    </tr>\n  </tbody>\n</table>\n</div>"
     },
     "execution_count": 10,
     "metadata": {},
     "output_type": "execute_result"
    }
   ],
   "source": [
    "articles.head(10)"
   ],
   "metadata": {
    "collapsed": false
   }
  },
  {
   "cell_type": "code",
   "execution_count": 11,
   "outputs": [
    {
     "data": {
      "text/plain": "count     156127\nunique        13\ntop           정치\nfreq       32974\nName: 3, dtype: object"
     },
     "execution_count": 11,
     "metadata": {},
     "output_type": "execute_result"
    }
   ],
   "source": [
    "articles[3].describe()"
   ],
   "metadata": {
    "collapsed": false
   }
  },
  {
   "cell_type": "code",
   "execution_count": 12,
   "outputs": [
    {
     "data": {
      "text/plain": "<Figure size 2500x1000 with 2 Axes>",
      "image/png": "[encoded data removed]"
     },
     "metadata": {},
     "output_type": "display_data"
    }
   ],
   "source": [
    "missingno.matrix(articles)\n",
    "plt.show()"
   ],
   "metadata": {
    "collapsed": false
   }
  },
  {
   "cell_type": "code",
   "execution_count": 23,
   "outputs": [
    {
     "data": {
      "text/plain": "221207    958\n221206    829\n221205    820\n220127    664\n220602    637\n         ... \n210928      1\n211012      1\n201015      1\n211016      1\n211018      1\nName: 4, Length: 405, dtype: int64"
     },
     "execution_count": 23,
     "metadata": {},
     "output_type": "execute_result"
    }
   ],
   "source": [
    "articles[4] = articles[4].apply(lambda x: str(x)[:6])\n",
    "articles[4].value_counts()\n",
    "# plt.hist(articles[3])\n",
    "# plt.show()"
   ],
   "metadata": {
    "collapsed": false
   }
  },
  {
   "cell_type": "code",
   "execution_count": 26,
   "outputs": [
    {
     "data": {
      "text/plain": "0      서 울   연 합 뉴 스   조 민 정   박 경 준   기 자   이 태 원 ...\n1      동 의 대   제 공   수 근 종 합 건 설   동 아 대   경 영 대 학 ...\n2      아 부 다 비   연 합 뉴 스   이 승 민   특 파 원   아 부 다 비 ...\n3      타 이 베 이   연 합 뉴 스   김 철 문   통 신 원   세 계   최 ...\n4      서 울   연 합 뉴 스   오 진 송   기 자   러 시 아   전 직   ...\n5      영 주   연 합 뉴 스   김 선 형   기 자   사 람 이   탑 승 한 ...\n6    맥 아 더 글 렌   디 자 이 너   아 웃 렛   한 국   사 무 소   개 ...\n7      광 주   연 합 뉴 스   손 상 원   기 자   중 소 기 업   스 타 ...\n8      서 울   연 합 뉴 스   김 준 태   기 자   서 울 시 는   중 랑 ...\n9      서 울   연 합 뉴 스   정 아 란   한 지 훈   기 자   윤 석 열 ...\nName: 5, dtype: object"
     },
     "execution_count": 26,
     "metadata": {},
     "output_type": "execute_result"
    }
   ],
   "source": [
    "# 전처리\n",
    "articles[5] = articles[2].apply(lambda x: re.sub('[^0-9A-Za-zㄱ-ㅎㅏ-ㅣ가-힣 ]', ' ', x))\n",
    "articles[5] = articles[5].apply(lambda x: re.sub(r'\\s{2,}', ' ', x))\n",
    "articles[5] = articles[5].apply(lambda x: ma.phras(x))\n",
    "corpus = articles[5].apply(lambda x: ' '.join(x))\n",
    "corpus.head(10)"
   ],
   "metadata": {
    "collapsed": false
   }
  },
  {
   "cell_type": "code",
   "execution_count": 73,
   "outputs": [],
   "source": [
    "CV = CountVectorizer()\n",
    "x = CV.fit_transform(corpus)\n",
    "tfid = TfidfTransformer(sublinear_tf=True)\n",
    "x = tfid.fit_transform(x)\n",
    "# corpus"
   ],
   "metadata": {
    "collapsed": false
   }
  },
  {
   "cell_type": "code",
   "execution_count": 74,
   "outputs": [],
   "source": [
    "# TF-IDF - 어떻게 해석해야 하는가\n",
    "pipe = Pipeline([('count', CountVectorizer()),\n",
    "                 ('tfidf', TfidfTransformer(sublinear_tf=True))]).fit_transform(corpus)"
   ],
   "metadata": {
    "collapsed": false
   }
  },
  {
   "cell_type": "code",
   "execution_count": 76,
   "outputs": [],
   "source": [
    "with open('news_TFIDF.pickle', 'wb') as f:\n",
    "    pickle.dump(pipe, f)"
   ],
   "metadata": {
    "collapsed": false
   }
  },
  {
   "cell_type": "code",
   "execution_count": 32,
   "outputs": [],
   "source": [
    "# stopwords = stopwords.split()"
   ],
   "metadata": {
    "collapsed": false
   }
  },
  {
   "cell_type": "code",
   "execution_count": 33,
   "outputs": [],
   "source": [
    "# with open('stopwords.pickle', 'wb') as f:\n",
    "#     pickle.dump(stopwords, f)"
   ],
   "metadata": {
    "collapsed": false
   }
  },
  {
   "cell_type": "code",
   "execution_count": null,
   "outputs": [],
   "source": [
    "# remove stopwords\n"
   ],
   "metadata": {
    "collapsed": false
   }
  }
 ],
 "metadata": {
  "kernelspec": {
   "display_name": "Python 3",
   "language": "python",
   "name": "python3"
  },
  "language_info": {
   "codemirror_mode": {
    "name": "ipython",
    "version": 2
   },
   "file_extension": ".py",
   "mimetype": "text/x-python",
   "name": "python",
   "nbconvert_exporter": "python",
   "pygments_lexer": "ipython2",
   "version": "2.7.6"
  }
 },
 "nbformat": 4,
 "nbformat_minor": 0
}
