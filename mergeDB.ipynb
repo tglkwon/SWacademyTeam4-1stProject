{
 "cells": [
  {
   "cell_type": "code",
   "execution_count": 1,
   "metadata": {
    "collapsed": true
   },
   "outputs": [],
   "source": [
    "import sqlite3"
   ]
  },
  {
   "cell_type": "code",
   "execution_count": 2,
   "outputs": [],
   "source": [
    "# merge dbs\n",
    "\n",
    "con = sqlite3.connect('news_Crawl.db')\n",
    "cur = con.cursor()\n",
    "\n",
    "con_home = sqlite3.connect('news_Crawl_home.db')\n",
    "cur_home = con_home.cursor()"
   ],
   "metadata": {
    "collapsed": false
   }
  },
  {
   "cell_type": "code",
   "execution_count": 3,
   "outputs": [
    {
     "data": {
      "text/plain": "(137367, 50685, 50051)"
     },
     "execution_count": 3,
     "metadata": {},
     "output_type": "execute_result"
    }
   ],
   "source": [
    "# news id를 기준으로 visited bool 정리\n",
    "cur.execute('''\n",
    "    SELECT count(id) FROM visited\n",
    "''')\n",
    "result = cur.fetchone()\n",
    "cur.execute('''\n",
    "    SELECT count(id) FROM visited WHERE bool = 1\n",
    "''')\n",
    "result_1 = cur.fetchone()\n",
    "\n",
    "cur.execute('''\n",
    "    SELECT count(url) FROM news\n",
    "''')\n",
    "result_news = cur.fetchone()\n",
    "result[0], result_1[0], result_news[0]"
   ],
   "metadata": {
    "collapsed": false
   }
  },
  {
   "cell_type": "code",
   "execution_count": 4,
   "outputs": [],
   "source": [
    "# news id를 기준으로 visited bool 정리\n",
    "\n",
    "cur.execute('''\n",
    "    SELECT id, content FROM news\n",
    "''')\n",
    "result_news = cur.fetchall()\n",
    "\n",
    "cur.execute('''\n",
    "      UPDATE visited SET bool = 0\n",
    "    ''')\n",
    "\n",
    "for idd in result_news:\n",
    "    article_id = idd[0]\n",
    "\n",
    "    cur.execute('''\n",
    "      UPDATE visited SET bool = 1 where id = ?\n",
    "    ''', [article_id])"
   ],
   "metadata": {
    "collapsed": false
   }
  },
  {
   "cell_type": "code",
   "execution_count": 12,
   "outputs": [
    {
     "ename": "ProgrammingError",
     "evalue": "Cannot operate on a closed database.",
     "output_type": "error",
     "traceback": [
      "\u001B[1;31m---------------------------------------------------------------------------\u001B[0m",
      "\u001B[1;31mProgrammingError\u001B[0m                          Traceback (most recent call last)",
      "Cell \u001B[1;32mIn [12], line 1\u001B[0m\n\u001B[1;32m----> 1\u001B[0m con_home\u001B[38;5;241m.\u001B[39mcommit()\n\u001B[0;32m      2\u001B[0m con_home\u001B[38;5;241m.\u001B[39mclose()\n",
      "\u001B[1;31mProgrammingError\u001B[0m: Cannot operate on a closed database."
     ]
    }
   ],
   "source": [
    "con_home.commit()\n",
    "con_home.close()"
   ],
   "metadata": {
    "collapsed": false
   }
  },
  {
   "cell_type": "code",
   "execution_count": 11,
   "outputs": [
    {
     "ename": "ProgrammingError",
     "evalue": "Cannot operate on a closed database.",
     "output_type": "error",
     "traceback": [
      "\u001B[1;31m---------------------------------------------------------------------------\u001B[0m",
      "\u001B[1;31mProgrammingError\u001B[0m                          Traceback (most recent call last)",
      "Cell \u001B[1;32mIn [11], line 1\u001B[0m\n\u001B[1;32m----> 1\u001B[0m con\u001B[38;5;241m.\u001B[39mcommit()\n\u001B[0;32m      2\u001B[0m con\u001B[38;5;241m.\u001B[39mclose()\n",
      "\u001B[1;31mProgrammingError\u001B[0m: Cannot operate on a closed database."
     ]
    }
   ],
   "source": [
    "con.commit()\n",
    "con.close()"
   ],
   "metadata": {
    "collapsed": false
   }
  },
  {
   "cell_type": "code",
   "execution_count": 5,
   "outputs": [],
   "source": [
    "# merge db\n",
    "\n",
    "cur.execute('''\n",
    "    SELECT id, url, title, content, dateNews, category FROM news\n",
    "''')\n",
    "result = cur.fetchall()\n",
    "\n",
    "for query in result:\n",
    "    cur_home.execute('''\n",
    "        INSERT OR IGNORE INTO news\n",
    "        (id, url, title, content, dateNews, category)\n",
    "        VALUES (:id, :url, :title, :content, :dateNews, :category);\n",
    "    ''', query)\n",
    "    cur_home.execute('''\n",
    "        UPDATE visited SET bool = 1 where id = ?\n",
    "    ''', [query[0]])"
   ],
   "metadata": {
    "collapsed": false
   }
  },
  {
   "cell_type": "code",
   "execution_count": 13,
   "outputs": [
    {
     "data": {
      "text/plain": "6"
     },
     "execution_count": 13,
     "metadata": {},
     "output_type": "execute_result"
    }
   ],
   "source": [
    "len(result[0])"
   ],
   "metadata": {
    "collapsed": false
   }
  },
  {
   "cell_type": "code",
   "execution_count": 8,
   "outputs": [
    {
     "data": {
      "text/plain": "(171533, 112824, 113584)"
     },
     "execution_count": 8,
     "metadata": {},
     "output_type": "execute_result"
    }
   ],
   "source": [
    "# news id를 기준으로 visited bool 정리\n",
    "cur_home.execute('''\n",
    "    SELECT count(id) FROM visited\n",
    "''')\n",
    "result = cur_home.fetchone()\n",
    "cur_home.execute('''\n",
    "    SELECT count(id) FROM visited WHERE bool = 1\n",
    "''')\n",
    "result_1 = cur_home.fetchone()\n",
    "\n",
    "cur_home.execute('''\n",
    "    SELECT count(url) FROM news\n",
    "''')\n",
    "result_news = cur_home.fetchone()\n",
    "result[0], result_1[0], result_news[0]"
   ],
   "metadata": {
    "collapsed": false
   }
  },
  {
   "cell_type": "code",
   "execution_count": 7,
   "outputs": [],
   "source": [
    "cur.execute('''\n",
    "    SELECT id FROM visited WHERE bool = 0\n",
    "''')\n",
    "result = cur.fetchall()\n",
    "\n",
    "for idd in result:\n",
    "    cur_home.execute('''\n",
    "        INSERT OR IGNORE INTO visited (id) VALUES (:id)\n",
    "    ''', idd)"
   ],
   "metadata": {
    "collapsed": false
   }
  },
  {
   "cell_type": "code",
   "execution_count": null,
   "outputs": [],
   "source": [],
   "metadata": {
    "collapsed": false
   }
  }
 ],
 "metadata": {
  "kernelspec": {
   "display_name": "Python 3",
   "language": "python",
   "name": "python3"
  },
  "language_info": {
   "codemirror_mode": {
    "name": "ipython",
    "version": 2
   },
   "file_extension": ".py",
   "mimetype": "text/x-python",
   "name": "python",
   "nbconvert_exporter": "python",
   "pygments_lexer": "ipython2",
   "version": "2.7.6"
  }
 },
 "nbformat": 4,
 "nbformat_minor": 0
}
