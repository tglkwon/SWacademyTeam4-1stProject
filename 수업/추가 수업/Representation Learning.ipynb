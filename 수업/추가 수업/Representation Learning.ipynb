{
 "cells": [
  {
   "cell_type": "markdown",
   "source": [
    "# 221123\n",
    "# representation learning\n",
    "모든 딥러닝은 representation learning이다.\n",
    "latent feature\n",
    "feature는 representation이다.\n",
    "\n",
    "e.g. word embedding : distribute representation -> 자료를 인간이 해석하고 다루기 좋게 바꿈\n",
    "one hot vector는 sparse하므로 dense and compact하게 바꾸는 방법\n",
    "\n",
    "# encoder : representation 만드는 것\n",
    "input data를 표현하는 것 - feature extraction하는 것\n",
    "\n",
    "% BERT : bidirectional encoder represenatation with transformer\n",
    "% Attention :\n",
    "\n",
    "# autoencoder : input을 넣고 저차원으로 representation하고 다시 원래 input으로 output하는 모델"
   ],
   "metadata": {
    "collapsed": false
   }
  },
  {
   "cell_type": "markdown",
   "source": [
    "# Normalization 여부\n",
    "# Loss 여러가지 바꿔보기\n",
    "# 전처리를 Model 내/외부에서 처리하기"
   ],
   "metadata": {
    "collapsed": false
   }
  },
  {
   "cell_type": "code",
   "execution_count": 1,
   "outputs": [],
   "source": [
    "import tensorflow as tf\n",
    "import matplotlib.pyplot as plt"
   ],
   "metadata": {
    "collapsed": false
   }
  },
  {
   "cell_type": "code",
   "execution_count": null,
   "outputs": [],
   "source": [
    "# mnist\n",
    "(X_train, y_train), (X_test, y_test) = tf.keras.datasets.mnist.load_data()\n",
    "size = 28\n",
    "chennel = 1"
   ],
   "metadata": {
    "collapsed": false
   }
  },
  {
   "cell_type": "code",
   "execution_count": 6,
   "outputs": [],
   "source": [
    "# cifar10 에서 다시해보자\n",
    "(X_train, y_train), (X_test, y_test) = tf.keras.datasets.cifar10.load_data()\n",
    "size = 32\n",
    "chennel = 3"
   ],
   "metadata": {
    "collapsed": false
   }
  },
  {
   "cell_type": "code",
   "execution_count": 8,
   "outputs": [],
   "source": [
    "# 전처리를 모델 외부에서 처리하기\n",
    "X_train = X_train.reshape(-1,size*size*chennel)\n",
    "X_test = X_test.reshape(-1,size*size*chennel)\n",
    "X_train, X_test = X_train/255, X_test/255"
   ],
   "metadata": {
    "collapsed": false
   }
  },
  {
   "cell_type": "code",
   "execution_count": null,
   "outputs": [],
   "source": [
    "# mnist\n",
    "input_ = tf.keras.Input((size*size*chennel,))\n",
    "x = tf.keras.layers.Dense(128, activation='relu')(input_)\n",
    "x = tf.keras.layers.Dense(784)(x)"
   ],
   "metadata": {
    "collapsed": false
   }
  },
  {
   "cell_type": "code",
   "execution_count": null,
   "outputs": [],
   "source": [
    "# # 전처리(flatten)을 모델 내부에서 처리하기\n",
    "# input_ = tf.keras.Input((size,size))\n",
    "# x = tf.keras.layers.Flatten()(input_)\n",
    "# x = tf.keras.layers.Dense(128, activation='relu')(x)\n",
    "# x = tf.keras.layers.Dense(784)(x)\n",
    "# x = tf.keras.layers.Reshape((size,size))(x)"
   ],
   "metadata": {
    "collapsed": false
   }
  },
  {
   "cell_type": "code",
   "execution_count": 11,
   "outputs": [],
   "source": [
    "# cifar10\n",
    "input_ = tf.keras.layers.Input((size*size*chennel,))\n",
    "x = tf.keras.layers.Dense(256, activation='relu')(input_)\n",
    "x = tf.keras.layers.Dense(128, activation='relu')(x)\n",
    "x = tf.keras.layers.Dense(64, activation='relu')(x)\n",
    "x = tf.keras.layers.Dense(128, activation='relu')(x)\n",
    "x = tf.keras.layers.Dense(256, activation='relu')(x)\n",
    "x = tf.keras.layers.Dense(size*size*3)(x)"
   ],
   "metadata": {
    "collapsed": false
   }
  },
  {
   "cell_type": "code",
   "execution_count": 12,
   "outputs": [
    {
     "name": "stdout",
     "output_type": "stream",
     "text": [
      "Model: \"model_2\"\n",
      "_________________________________________________________________\n",
      " Layer (type)                Output Shape              Param #   \n",
      "=================================================================\n",
      " input_2 (InputLayer)        [(None, 3072)]            0         \n",
      "                                                                 \n",
      " dense_4 (Dense)             (None, 256)               786688    \n",
      "                                                                 \n",
      " dense_5 (Dense)             (None, 128)               32896     \n",
      "                                                                 \n",
      " dense_6 (Dense)             (None, 64)                8256      \n",
      "                                                                 \n",
      " dense_7 (Dense)             (None, 128)               8320      \n",
      "                                                                 \n",
      " dense_8 (Dense)             (None, 256)               33024     \n",
      "                                                                 \n",
      " dense_9 (Dense)             (None, 3072)              789504    \n",
      "                                                                 \n",
      "=================================================================\n",
      "Total params: 1,658,688\n",
      "Trainable params: 1,658,688\n",
      "Non-trainable params: 0\n",
      "_________________________________________________________________\n"
     ]
    }
   ],
   "source": [
    "model = tf.keras.Model(input_,x)\n",
    "# model.compile(loss=tf.keras.losses.BinaryCrossentropy(), optimizer='adam')\n",
    "model.compile(loss=tf.keras.losses.MeanSquaredError(), optimizer='adam')\n",
    "# 원래 input과 같냐 아니냐라는 이진문제로 보면 binary_crossentropy가 편함. 다른 loss를 사용해도 된다. MeanAbsoluteError()\n",
    "model.summary()"
   ],
   "metadata": {
    "collapsed": false
   }
  },
  {
   "cell_type": "code",
   "execution_count": 13,
   "outputs": [
    {
     "name": "stdout",
     "output_type": "stream",
     "text": [
      "Epoch 1/30\n",
      "1563/1563 [==============================] - 11s 7ms/step - loss: 0.0219\n",
      "Epoch 2/30\n",
      "1563/1563 [==============================] - 11s 7ms/step - loss: 0.0156\n",
      "Epoch 3/30\n",
      "1563/1563 [==============================] - 10s 7ms/step - loss: 0.0146\n",
      "Epoch 4/30\n",
      "1563/1563 [==============================] - 10s 7ms/step - loss: 0.0144\n",
      "Epoch 5/30\n",
      "1563/1563 [==============================] - 10s 7ms/step - loss: 0.0141\n",
      "Epoch 6/30\n",
      "1563/1563 [==============================] - 10s 7ms/step - loss: 0.0140\n",
      "Epoch 7/30\n",
      "1563/1563 [==============================] - 10s 7ms/step - loss: 0.0140\n",
      "Epoch 8/30\n",
      "1563/1563 [==============================] - 10s 7ms/step - loss: 0.0139\n",
      "Epoch 9/30\n",
      "1563/1563 [==============================] - 10s 7ms/step - loss: 0.0137\n",
      "Epoch 10/30\n",
      "1563/1563 [==============================] - 10s 7ms/step - loss: 0.0136\n",
      "Epoch 11/30\n",
      "1563/1563 [==============================] - 10s 7ms/step - loss: 0.0136\n",
      "Epoch 12/30\n",
      "1563/1563 [==============================] - 10s 7ms/step - loss: 0.0136\n",
      "Epoch 13/30\n",
      "1563/1563 [==============================] - 10s 7ms/step - loss: 0.0133\n",
      "Epoch 14/30\n",
      "1563/1563 [==============================] - 11s 7ms/step - loss: 0.0131\n",
      "Epoch 15/30\n",
      "1563/1563 [==============================] - 11s 7ms/step - loss: 0.0131\n",
      "Epoch 16/30\n",
      "1563/1563 [==============================] - 11s 7ms/step - loss: 0.0131\n",
      "Epoch 17/30\n",
      "1563/1563 [==============================] - 10s 7ms/step - loss: 0.0131\n",
      "Epoch 18/30\n",
      "1563/1563 [==============================] - 10s 7ms/step - loss: 0.0130\n",
      "Epoch 19/30\n",
      "1563/1563 [==============================] - 10s 6ms/step - loss: 0.0130\n",
      "Epoch 20/30\n",
      "1563/1563 [==============================] - 11s 7ms/step - loss: 0.0130\n",
      "Epoch 21/30\n",
      "1563/1563 [==============================] - 10s 6ms/step - loss: 0.0130\n",
      "Epoch 22/30\n",
      "1563/1563 [==============================] - 10s 6ms/step - loss: 0.0130\n",
      "Epoch 23/30\n",
      "1563/1563 [==============================] - 10s 6ms/step - loss: 0.0130\n",
      "Epoch 24/30\n",
      "1563/1563 [==============================] - 10s 6ms/step - loss: 0.0129\n",
      "Epoch 25/30\n",
      "1563/1563 [==============================] - 10s 6ms/step - loss: 0.0129\n",
      "Epoch 26/30\n",
      "1563/1563 [==============================] - 10s 6ms/step - loss: 0.0129\n",
      "Epoch 27/30\n",
      "1563/1563 [==============================] - 10s 6ms/step - loss: 0.0129\n",
      "Epoch 28/30\n",
      "1563/1563 [==============================] - 10s 6ms/step - loss: 0.0129\n",
      "Epoch 29/30\n",
      "1563/1563 [==============================] - 10s 7ms/step - loss: 0.0129\n",
      "Epoch 30/30\n",
      "1563/1563 [==============================] - 10s 6ms/step - loss: 0.0129\n"
     ]
    },
    {
     "data": {
      "text/plain": "<keras.callbacks.History at 0x21e0d09d570>"
     },
     "execution_count": 13,
     "metadata": {},
     "output_type": "execute_result"
    }
   ],
   "source": [
    "# 입력값이 출력값으로 나오는 모델 - self supervised learning\n",
    "model.fit(X_train, X_train, epochs=30)"
   ],
   "metadata": {
    "collapsed": false
   }
  },
  {
   "cell_type": "code",
   "execution_count": 14,
   "outputs": [],
   "source": [
    "test = X_test[0].flatten()[tf.newaxis]"
   ],
   "metadata": {
    "collapsed": false
   }
  },
  {
   "cell_type": "code",
   "execution_count": 17,
   "outputs": [
    {
     "data": {
      "text/plain": "<matplotlib.image.AxesImage at 0x21e090272e0>"
     },
     "execution_count": 17,
     "metadata": {},
     "output_type": "execute_result"
    },
    {
     "data": {
      "text/plain": "<Figure size 640x480 with 1 Axes>",
      "image/png": "[encoded data removed]"
     },
     "metadata": {},
     "output_type": "display_data"
    }
   ],
   "source": [
    "plt.imshow(X_test[0].reshape(size,size,chennel), cmap='gray')"
   ],
   "metadata": {
    "collapsed": false
   }
  },
  {
   "cell_type": "code",
   "execution_count": 18,
   "outputs": [
    {
     "data": {
      "text/plain": "<matplotlib.image.AxesImage at 0x21e092ad780>"
     },
     "execution_count": 18,
     "metadata": {},
     "output_type": "execute_result"
    },
    {
     "data": {
      "text/plain": "<Figure size 640x480 with 1 Axes>",
      "image/png": "[encoded data removed]"
     },
     "metadata": {},
     "output_type": "display_data"
    }
   ],
   "source": [
    "plt.imshow(model(test).numpy().reshape(size,size,chennel), cmap='gray')"
   ],
   "metadata": {
    "collapsed": false
   }
  },
  {
   "cell_type": "markdown",
   "source": [
    "# convolution 의 경우 layer가 쌓일 수록 사이즈가 작아기는 문제가 있으므로 decode하면서 사이즈를 다시 어떻게 복구 하는지 논문마다 확인할 것"
   ],
   "metadata": {
    "collapsed": false
   }
  }
 ],
 "metadata": {
  "kernelspec": {
   "display_name": "Python 3",
   "language": "python",
   "name": "python3"
  },
  "language_info": {
   "codemirror_mode": {
    "name": "ipython",
    "version": 2
   },
   "file_extension": ".py",
   "mimetype": "text/x-python",
   "name": "python",
   "nbconvert_exporter": "python",
   "pygments_lexer": "ipython2",
   "version": "2.7.6"
  }
 },
 "nbformat": 4,
 "nbformat_minor": 0
}
