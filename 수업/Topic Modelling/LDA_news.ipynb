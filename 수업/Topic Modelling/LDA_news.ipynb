{
 "cells": [
  {
   "cell_type": "code",
   "execution_count": 1,
   "metadata": {
    "collapsed": true
   },
   "outputs": [],
   "source": [
    "from random import randint, choices\n",
    "from nltk.tokenize import word_tokenize\n",
    "from konlpy.tag import Okt\n",
    "import re\n",
    "from tqdm import tqdm, trange"
   ]
  },
  {
   "cell_type": "code",
   "execution_count": 2,
   "outputs": [],
   "source": [
    "K = 4\n",
    "alpha = .1\n",
    "beta = .1"
   ],
   "metadata": {
    "collapsed": false
   }
  },
  {
   "cell_type": "code",
   "execution_count": 3,
   "outputs": [],
   "source": [
    "from os import listdir\n",
    "\n",
    "def fileids(path, ext='txt'):\n",
    "    path = path if path[-1] == '/' else path+'/'\n",
    "    fileList = list()\n",
    "    for fileName in listdir(path):\n",
    "        if fileName.endswith(ext):\n",
    "            fileList.append(path+fileName)\n",
    "    return fileList\n"
   ],
   "metadata": {
    "collapsed": false
   }
  },
  {
   "cell_type": "code",
   "execution_count": 5,
   "outputs": [],
   "source": [
    "ma = Okt()\n",
    "path = '../../../SWacademy/Data collecting/news'\n",
    "\n",
    "corpus = list()\n",
    "\n",
    "for filename in fileids(path):\n",
    "    with open(filename, encoding='utf-8') as fp:\n",
    "        cate = re.search((r'(\\d{3})'), filename).groups(1)[0]\n",
    "        cleanText = re.sub(r'\\s{2,}', ' ', fp.read().strip())\n",
    "        corpus.append(ma.nouns(cleanText))\n",
    "        # corpus.append(ma.nouns(sent_tokenize(cleanText)))\n",
    "\n",
    "# word"
   ],
   "metadata": {
    "collapsed": false
   }
  },
  {
   "cell_type": "code",
   "execution_count": 6,
   "outputs": [
    {
     "data": {
      "text/plain": "['고민정',\n '민주당',\n '의원',\n '고민정',\n '민주당',\n '의원',\n '윤석열',\n '대통령',\n '향',\n '문재인',\n '학생',\n '열등감',\n '학생',\n '보이지',\n '고',\n '지적',\n '고',\n '의원',\n '자신',\n '페이스북',\n '해외',\n '현직',\n '국가원수',\n '임자',\n '폄훼',\n '비난',\n '경우',\n '처음',\n '자기',\n '얼굴',\n '침',\n '모습',\n '보이지',\n '며',\n '모든',\n '학생',\n '반',\n '리더십',\n '반장',\n '면서',\n '우리',\n '반',\n '옆',\n '반',\n '학생',\n '신망',\n '반장',\n '열등감',\n '더',\n '귀',\n '더',\n '만남',\n '고',\n '비판',\n '현재',\n '감사원',\n '전',\n '정부',\n '대한',\n '먼지털이',\n '감사',\n '진행',\n '국민',\n '힘',\n '사사건건',\n '민주당',\n '의원',\n '전',\n '정부',\n '인사',\n '고발',\n '면서',\n '얼마',\n '전',\n '국민',\n '힘',\n '기무사',\n '계엄령',\n '문건',\n '관련',\n '전',\n '정부',\n '인사',\n '고발',\n '날',\n '국민',\n '힘',\n '송영',\n '무',\n '이석구',\n '임태훈',\n '등',\n '관련',\n '인사',\n '직권남용',\n '등',\n '혐의',\n '고발',\n '고',\n '최근',\n '사건',\n '언급',\n '또',\n '감사원',\n '국민',\n '힘',\n '모두',\n '전',\n '정부',\n '대한',\n '열등감',\n '똘똘',\n '것',\n '생각',\n '면서',\n '최근',\n '민주당',\n '감사원',\n '정치',\n '개입',\n '방지법',\n '민주당',\n '삼권분립',\n '입법부',\n '역할',\n '고',\n '강조',\n '여기',\n '국민',\n '힘',\n '정당',\n '본연',\n '임무',\n '모두',\n '검찰',\n '바치',\n '윤',\n '대통령',\n '그림자',\n '역할',\n '게',\n '정당',\n '모습',\n '물',\n '뒤',\n '법',\n '풀',\n '일',\n '협상',\n '논의',\n '정치가',\n '것',\n '스스로',\n '권한',\n '팽',\n '말',\n '것',\n '요청',\n '며',\n '거듭',\n '비판',\n '지난',\n '판문점',\n '남',\n '지역',\n '문재인',\n '전',\n '대통령',\n '김정은',\n '국무위원',\n '뉴시스',\n '앞서',\n '윤',\n '대통령',\n '문재인',\n '전',\n '대통령',\n '향',\n '북한',\n '집착',\n '고',\n '비판',\n '북한',\n '위협',\n '대응',\n '차원',\n '한미',\n '일',\n '국',\n '안보',\n '협력',\n '불가피',\n '역설',\n '바',\n '윤',\n '대통령',\n '지난',\n '서울',\n '진행',\n '미국',\n '뉴욕타임스',\n '인터뷰',\n '북한',\n '무력',\n '도발',\n '대해',\n '한미',\n '동맹',\n '기반',\n '확장',\n '억제',\n '더',\n '실화',\n '데',\n '해답',\n '고',\n '지난',\n '정부',\n '대북',\n '정책',\n '대해',\n '지난',\n '정부',\n '북한',\n '교우',\n '대해',\n '만',\n '좀',\n '집착',\n '고',\n '비판',\n '공교',\n '롭',\n '도',\n '날',\n '문',\n '전',\n '대통령',\n '재임',\n '중',\n '군사',\n '합의',\n '등',\n '관련',\n '정부',\n '존중',\n '이행',\n '약속',\n '라며',\n '윤',\n '대통령',\n '대북',\n '정책',\n '우회',\n '비판',\n '문',\n '전',\n '대통령',\n '지난',\n '퇴임',\n '이후',\n '공식',\n '현안',\n '언급',\n '것',\n '이번',\n '처음',\n '잠복',\n '현',\n '정부',\n '전임',\n '정부',\n '간',\n '대북',\n '노선',\n '충돌',\n '다시',\n '불',\n '분위기',\n '한편',\n '윤',\n '정부',\n '문',\n '정부',\n '상징',\n '한반도',\n '평화',\n '프로세스',\n '를',\n '실패',\n '규정',\n '사실',\n '폐기',\n '상태',\n '주간조선',\n '온라인',\n '기사',\n '김혜인',\n '기자',\n '기자',\n '프로필',\n '구독',\n '구독',\n '김혜인',\n '기자',\n '독자',\n '응원',\n '수',\n '고민정',\n '김건희',\n '여사',\n '순방',\n '동행',\n '사고',\n '걱정',\n '김병민',\n '민주당',\n '도움',\n '발언',\n '속보',\n '신당역',\n '살인',\n '주환',\n '신상',\n '공개',\n '과거',\n '공개',\n '범죄자',\n '주간조선',\n '구독',\n '기자',\n '주간조선',\n '기사',\n '더',\n '보고',\n '구독',\n '주간조선',\n '언론사',\n '구독',\n '메인',\n '뉴스판',\n '주간조선',\n '뉴스',\n '볼',\n '수',\n '주간조선',\n '언론사',\n '구독',\n '해지',\n '주간조선',\n '무단',\n '재',\n '및',\n '재',\n '배포',\n '금지',\n '이',\n '기사',\n '언론사',\n '정치',\n '섹션',\n '분류',\n '기사',\n '섹션',\n '분류',\n '안내',\n '기사',\n '섹션',\n '정보',\n '해당',\n '언론사',\n '분류',\n '언론사',\n '개별',\n '기사',\n '개',\n '이상',\n '섹션',\n '중복',\n '분류',\n '수',\n '구독',\n '메인',\n '바로',\n '언론사',\n '편집',\n '뉴스',\n '지금',\n '바로',\n '구독',\n '구독',\n '메인',\n '바로',\n '언론사',\n '편집',\n '뉴스',\n '지금',\n '바로',\n '확인',\n '뉴스',\n '해당',\n '언론사',\n '선정',\n '언론사',\n '페이지',\n '아웃',\n '링크',\n '로',\n '이동해',\n '볼',\n '수',\n '빠루',\n '설전',\n '나경원',\n '사과',\n '먼저',\n '박용진',\n '고발',\n '사주',\n '영빈',\n '관',\n '신축',\n '파문',\n '탁현민',\n '경고',\n '일',\n '계속',\n '것',\n '홍준표',\n '구육',\n '이준석',\n '세상',\n '본인',\n '중심',\n '문',\n '차범근',\n '축구',\n '교실',\n '무슨',\n '케이트',\n '미들턴',\n '조문',\n '윤',\n '대통령',\n '한국',\n '이',\n '기사',\n '추천',\n '기사',\n '추천',\n '내',\n '참여',\n '수',\n '쏠쏠',\n '정보',\n '흥미진진',\n '공감',\n '백배',\n '분석',\n '탁월',\n '후속',\n '강추',\n '모두',\n '기사',\n '라면',\n '이',\n '기사',\n '추천',\n '버튼',\n '집계',\n '기간',\n '동안',\n '추천',\n '기사',\n '네이버',\n '자동',\n '기사',\n '배열',\n '영역',\n '추천',\n '요소',\n '활용',\n '레이어',\n '주간조선',\n '언론사',\n '홈',\n '바로가기',\n '언론사',\n '구독',\n '후',\n '기사',\n '보기',\n '구독',\n '계속',\n '보기']"
     },
     "execution_count": 6,
     "metadata": {},
     "output_type": "execute_result"
    }
   ],
   "source": [
    "corpus[0]"
   ],
   "metadata": {
    "collapsed": false
   }
  },
  {
   "cell_type": "code",
   "execution_count": 5,
   "outputs": [],
   "source": [
    "theta = dict() # 문서-토픽 분포(빈도) => m번째 문서, k번째 토픽 => {m:{k:빈도}}\n",
    "phi = dict() # 단어픽 분포(빈도) => m번째 문서, k번째 토픽 => {m:{k:빈도}}\n",
    "z = dict() # 문서-단어 토픽 할당 정보 => m번째 문서, l번째 단어 => {m:{l:k}}\n",
    "\n",
    "V = list()\n",
    "for m, d in enumerate(corpus):\n",
    "    for l, w in enumerate(d):\n",
    "        V.append(w.lower())\n",
    "        if m not in z:\n",
    "            z[m] = dict()\n",
    "        if l not in z[m]:\n",
    "            z[m][l] = 0\n",
    "        z[m][l] = randint(1,K) # 토픽 할당\n",
    "\n",
    "V = set(V)\n",
    "i2w = {i: v for i, v in enumerate(V)}\n",
    "w2i = {v: i for i, v in enumerate(V)}\n",
    "\n",
    "for m, L in z.items():\n",
    "    if m not in theta:\n",
    "        theta[m] = dict()\n",
    "    for l, t in L.items():\n",
    "        if t not in theta[m]:\n",
    "            theta[m][t] = 0\n",
    "        theta[m][t] += 1\n",
    "\n",
    "        v = w2i[corpus[m][l].lower()]\n",
    "\n",
    "        if v not in phi:\n",
    "            phi[v] = dict()\n",
    "        if t not in phi[v]:\n",
    "            phi[v][t] = 0\n",
    "        phi[v][t] += 1"
   ],
   "metadata": {
    "collapsed": false
   }
  },
  {
   "cell_type": "code",
   "execution_count": null,
   "outputs": [
    {
     "ename": "KeyboardInterrupt",
     "evalue": "",
     "output_type": "error",
     "traceback": [
      "\u001B[1;31m---------------------------------------------------------------------------\u001B[0m",
      "\u001B[1;31mKeyboardInterrupt\u001B[0m                         Traceback (most recent call last)",
      "Cell \u001B[1;32mIn [6], line 14\u001B[0m\n\u001B[0;32m     12\u001B[0m topic \u001B[38;5;241m=\u001B[39m \u001B[38;5;28mlist\u001B[39m()\n\u001B[0;32m     13\u001B[0m \u001B[38;5;28;01mfor\u001B[39;00m t \u001B[38;5;129;01min\u001B[39;00m \u001B[38;5;28mrange\u001B[39m(K):\n\u001B[1;32m---> 14\u001B[0m     A \u001B[38;5;241m=\u001B[39m (phi[v]\u001B[38;5;241m.\u001B[39mget(t\u001B[38;5;241m+\u001B[39m\u001B[38;5;241m1\u001B[39m,\u001B[38;5;241m0\u001B[39m) \u001B[38;5;241m+\u001B[39m beta) \u001B[38;5;241m/\u001B[39m \u001B[38;5;28msum\u001B[39m([T\u001B[38;5;241m.\u001B[39mget(t\u001B[38;5;241m+\u001B[39m\u001B[38;5;241m1\u001B[39m,\u001B[38;5;241m0\u001B[39m)\u001B[38;5;241m+\u001B[39mbeta \u001B[38;5;28;01mfor\u001B[39;00m v, T \u001B[38;5;129;01min\u001B[39;00m phi\u001B[38;5;241m.\u001B[39mitems()])\n\u001B[0;32m     15\u001B[0m     B \u001B[38;5;241m=\u001B[39m theta[m]\u001B[38;5;241m.\u001B[39mget(t\u001B[38;5;241m+\u001B[39m\u001B[38;5;241m1\u001B[39m,\u001B[38;5;241m0\u001B[39m) \u001B[38;5;241m+\u001B[39m alpha\n\u001B[0;32m     16\u001B[0m     topic\u001B[38;5;241m.\u001B[39mappend(A\u001B[38;5;241m*\u001B[39mB)\n",
      "Cell \u001B[1;32mIn [6], line 14\u001B[0m, in \u001B[0;36m<listcomp>\u001B[1;34m(.0)\u001B[0m\n\u001B[0;32m     12\u001B[0m topic \u001B[38;5;241m=\u001B[39m \u001B[38;5;28mlist\u001B[39m()\n\u001B[0;32m     13\u001B[0m \u001B[38;5;28;01mfor\u001B[39;00m t \u001B[38;5;129;01min\u001B[39;00m \u001B[38;5;28mrange\u001B[39m(K):\n\u001B[1;32m---> 14\u001B[0m     A \u001B[38;5;241m=\u001B[39m (phi[v]\u001B[38;5;241m.\u001B[39mget(t\u001B[38;5;241m+\u001B[39m\u001B[38;5;241m1\u001B[39m,\u001B[38;5;241m0\u001B[39m) \u001B[38;5;241m+\u001B[39m beta) \u001B[38;5;241m/\u001B[39m \u001B[38;5;28msum\u001B[39m([\u001B[43mT\u001B[49m\u001B[38;5;241;43m.\u001B[39;49m\u001B[43mget\u001B[49m\u001B[43m(\u001B[49m\u001B[43mt\u001B[49m\u001B[38;5;241;43m+\u001B[39;49m\u001B[38;5;241;43m1\u001B[39;49m\u001B[43m,\u001B[49m\u001B[38;5;241;43m0\u001B[39;49m\u001B[43m)\u001B[49m\u001B[38;5;241m+\u001B[39mbeta \u001B[38;5;28;01mfor\u001B[39;00m v, T \u001B[38;5;129;01min\u001B[39;00m phi\u001B[38;5;241m.\u001B[39mitems()])\n\u001B[0;32m     15\u001B[0m     B \u001B[38;5;241m=\u001B[39m theta[m]\u001B[38;5;241m.\u001B[39mget(t\u001B[38;5;241m+\u001B[39m\u001B[38;5;241m1\u001B[39m,\u001B[38;5;241m0\u001B[39m) \u001B[38;5;241m+\u001B[39m alpha\n\u001B[0;32m     16\u001B[0m     topic\u001B[38;5;241m.\u001B[39mappend(A\u001B[38;5;241m*\u001B[39mB)\n",
      "\u001B[1;31mKeyboardInterrupt\u001B[0m: "
     ]
    }
   ],
   "source": [
    "iteration = 100\n",
    "\n",
    "for _ in trange(iteration):\n",
    "    for m, d in enumerate(corpus):\n",
    "        for l, w in enumerate(d):\n",
    "            v = w2i[w.lower()]\n",
    "\n",
    "            k = z[m][l] # gibb's 대상 삭제\n",
    "            theta[m][k] -= 1\n",
    "            phi[v][k] -= 1\n",
    "\n",
    "            topic = list()\n",
    "            for t in range(K):\n",
    "                A = (phi[v].get(t+1,0) + beta) / sum([T.get(t+1,0)+beta for v, T in phi.items()])\n",
    "                B = theta[m].get(t+1,0) + alpha\n",
    "                topic.append(A*B)\n",
    "\n",
    "            k = choices(range(K), weights=topic, k=1)[0]+1\n",
    "\n",
    "            z[m][l] = k\n",
    "            theta[m][k] = (theta[m][k] if k in theta[m] else 0) + 1\n",
    "            phi[v][k] = (phi[v][k] if k in phi[v] else 0) + 1\n",
    "    print('{}%'.format(_))"
   ],
   "metadata": {
    "collapsed": false,
    "pycharm": {
     "is_executing": true
    }
   }
  },
  {
   "cell_type": "code",
   "execution_count": null,
   "outputs": [],
   "source": [
    "for l, T in phi.items():\n",
    "    if T[1] > 0:\n",
    "        print(i2w[l], T[1])"
   ],
   "metadata": {
    "collapsed": false,
    "pycharm": {
     "is_executing": true
    }
   }
  },
  {
   "cell_type": "code",
   "execution_count": null,
   "outputs": [],
   "source": [
    "phi"
   ],
   "metadata": {
    "collapsed": false
   }
  },
  {
   "cell_type": "code",
   "execution_count": null,
   "outputs": [],
   "source": [],
   "metadata": {
    "collapsed": false
   }
  }
 ],
 "metadata": {
  "kernelspec": {
   "display_name": "Python 3",
   "language": "python",
   "name": "python3"
  },
  "language_info": {
   "codemirror_mode": {
    "name": "ipython",
    "version": 2
   },
   "file_extension": ".py",
   "mimetype": "text/x-python",
   "name": "python",
   "nbconvert_exporter": "python",
   "pygments_lexer": "ipython2",
   "version": "2.7.6"
  }
 },
 "nbformat": 4,
 "nbformat_minor": 0
}
