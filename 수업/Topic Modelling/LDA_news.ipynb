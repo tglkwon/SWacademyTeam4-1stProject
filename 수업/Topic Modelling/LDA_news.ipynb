{
 "cells": [
  {
   "cell_type": "code",
   "execution_count": 1,
   "metadata": {
    "collapsed": true
   },
   "outputs": [],
   "source": [
    "from random import randint, choices\n",
    "from nltk.tokenize import word_tokenize\n",
    "from konlpy.tag import Okt\n",
    "import re\n",
    "from tqdm import tqdm, trange"
   ]
  },
  {
   "cell_type": "code",
   "execution_count": 2,
   "outputs": [],
   "source": [
    "K = 4\n",
    "alpha = .1\n",
    "beta = .1"
   ],
   "metadata": {
    "collapsed": false
   }
  },
  {
   "cell_type": "code",
   "execution_count": 3,
   "outputs": [],
   "source": [
    "from os import listdir\n",
    "\n",
    "def fileids(path, ext='txt'):\n",
    "    path = path if path[-1] == '/' else path+'/'\n",
    "    fileList = list()\n",
    "    for fileName in listdir(path):\n",
    "        if fileName.endswith(ext):\n",
    "            fileList.append(path+fileName)\n",
    "    return fileList\n"
   ],
   "metadata": {
    "collapsed": false
   }
  },
  {
   "cell_type": "code",
   "execution_count": 4,
   "outputs": [],
   "source": [
    "ma = Okt()\n",
    "path = '../Data collecting/news'\n",
    "\n",
    "corpus = list()\n",
    "\n",
    "for filename in fileids(path):\n",
    "    with open(filename, encoding='utf-8') as fp:\n",
    "        cate = re.search((r'(\\d{3})'), filename).groups(1)[0]\n",
    "        cleanText = re.sub(r'\\s{2,}', ' ', fp.read().strip())\n",
    "        corpus.append(ma.nouns(cleanText))\n",
    "        # corpus.append(ma.nouns(sent_tokenize(cleanText)))\n",
    "\n",
    "# word"
   ],
   "metadata": {
    "collapsed": false
   }
  },
  {
   "cell_type": "code",
   "execution_count": null,
   "outputs": [],
   "source": [
    "corpus[0]"
   ],
   "metadata": {
    "collapsed": false
   }
  },
  {
   "cell_type": "code",
   "execution_count": 5,
   "outputs": [],
   "source": [
    "theta = dict() # 문서-토픽 분포(빈도) => m번째 문서, k번째 토픽 => {m:{k:빈도}}\n",
    "phi = dict() # 단어픽 분포(빈도) => m번째 문서, k번째 토픽 => {m:{k:빈도}}\n",
    "z = dict() # 문서-단어 토픽 할당 정보 => m번째 문서, l번째 단어 => {m:{l:k}}\n",
    "\n",
    "V = list()\n",
    "for m, d in enumerate(corpus):\n",
    "    for l, w in enumerate(d):\n",
    "        V.append(w.lower())\n",
    "        if m not in z:\n",
    "            z[m] = dict()\n",
    "        if l not in z[m]:\n",
    "            z[m][l] = 0\n",
    "        z[m][l] = randint(1,K) # 토픽 할당\n",
    "\n",
    "V = set(V)\n",
    "i2w = {i: v for i, v in enumerate(V)}\n",
    "w2i = {v: i for i, v in enumerate(V)}\n",
    "\n",
    "for m, L in z.items():\n",
    "    if m not in theta:\n",
    "        theta[m] = dict()\n",
    "    for l, t in L.items():\n",
    "        if t not in theta[m]:\n",
    "            theta[m][t] = 0\n",
    "        theta[m][t] += 1\n",
    "\n",
    "        v = w2i[corpus[m][l].lower()]\n",
    "\n",
    "        if v not in phi:\n",
    "            phi[v] = dict()\n",
    "        if t not in phi[v]:\n",
    "            phi[v][t] = 0\n",
    "        phi[v][t] += 1"
   ],
   "metadata": {
    "collapsed": false
   }
  },
  {
   "cell_type": "code",
   "execution_count": null,
   "outputs": [
    {
     "ename": "KeyboardInterrupt",
     "evalue": "",
     "output_type": "error",
     "traceback": [
      "\u001B[1;31m---------------------------------------------------------------------------\u001B[0m",
      "\u001B[1;31mKeyboardInterrupt\u001B[0m                         Traceback (most recent call last)",
      "Cell \u001B[1;32mIn [6], line 14\u001B[0m\n\u001B[0;32m     12\u001B[0m topic \u001B[38;5;241m=\u001B[39m \u001B[38;5;28mlist\u001B[39m()\n\u001B[0;32m     13\u001B[0m \u001B[38;5;28;01mfor\u001B[39;00m t \u001B[38;5;129;01min\u001B[39;00m \u001B[38;5;28mrange\u001B[39m(K):\n\u001B[1;32m---> 14\u001B[0m     A \u001B[38;5;241m=\u001B[39m (phi[v]\u001B[38;5;241m.\u001B[39mget(t\u001B[38;5;241m+\u001B[39m\u001B[38;5;241m1\u001B[39m,\u001B[38;5;241m0\u001B[39m) \u001B[38;5;241m+\u001B[39m beta) \u001B[38;5;241m/\u001B[39m \u001B[38;5;28msum\u001B[39m([T\u001B[38;5;241m.\u001B[39mget(t\u001B[38;5;241m+\u001B[39m\u001B[38;5;241m1\u001B[39m,\u001B[38;5;241m0\u001B[39m)\u001B[38;5;241m+\u001B[39mbeta \u001B[38;5;28;01mfor\u001B[39;00m v, T \u001B[38;5;129;01min\u001B[39;00m phi\u001B[38;5;241m.\u001B[39mitems()])\n\u001B[0;32m     15\u001B[0m     B \u001B[38;5;241m=\u001B[39m theta[m]\u001B[38;5;241m.\u001B[39mget(t\u001B[38;5;241m+\u001B[39m\u001B[38;5;241m1\u001B[39m,\u001B[38;5;241m0\u001B[39m) \u001B[38;5;241m+\u001B[39m alpha\n\u001B[0;32m     16\u001B[0m     topic\u001B[38;5;241m.\u001B[39mappend(A\u001B[38;5;241m*\u001B[39mB)\n",
      "Cell \u001B[1;32mIn [6], line 14\u001B[0m, in \u001B[0;36m<listcomp>\u001B[1;34m(.0)\u001B[0m\n\u001B[0;32m     12\u001B[0m topic \u001B[38;5;241m=\u001B[39m \u001B[38;5;28mlist\u001B[39m()\n\u001B[0;32m     13\u001B[0m \u001B[38;5;28;01mfor\u001B[39;00m t \u001B[38;5;129;01min\u001B[39;00m \u001B[38;5;28mrange\u001B[39m(K):\n\u001B[1;32m---> 14\u001B[0m     A \u001B[38;5;241m=\u001B[39m (phi[v]\u001B[38;5;241m.\u001B[39mget(t\u001B[38;5;241m+\u001B[39m\u001B[38;5;241m1\u001B[39m,\u001B[38;5;241m0\u001B[39m) \u001B[38;5;241m+\u001B[39m beta) \u001B[38;5;241m/\u001B[39m \u001B[38;5;28msum\u001B[39m([\u001B[43mT\u001B[49m\u001B[38;5;241;43m.\u001B[39;49m\u001B[43mget\u001B[49m\u001B[43m(\u001B[49m\u001B[43mt\u001B[49m\u001B[38;5;241;43m+\u001B[39;49m\u001B[38;5;241;43m1\u001B[39;49m\u001B[43m,\u001B[49m\u001B[38;5;241;43m0\u001B[39;49m\u001B[43m)\u001B[49m\u001B[38;5;241m+\u001B[39mbeta \u001B[38;5;28;01mfor\u001B[39;00m v, T \u001B[38;5;129;01min\u001B[39;00m phi\u001B[38;5;241m.\u001B[39mitems()])\n\u001B[0;32m     15\u001B[0m     B \u001B[38;5;241m=\u001B[39m theta[m]\u001B[38;5;241m.\u001B[39mget(t\u001B[38;5;241m+\u001B[39m\u001B[38;5;241m1\u001B[39m,\u001B[38;5;241m0\u001B[39m) \u001B[38;5;241m+\u001B[39m alpha\n\u001B[0;32m     16\u001B[0m     topic\u001B[38;5;241m.\u001B[39mappend(A\u001B[38;5;241m*\u001B[39mB)\n",
      "\u001B[1;31mKeyboardInterrupt\u001B[0m: "
     ]
    }
   ],
   "source": [
    "iteration = 100\n",
    "\n",
    "for _ in trange(iteration):\n",
    "    for m, d in enumerate(corpus):\n",
    "        for l, w in enumerate(d):\n",
    "            v = w2i[w.lower()]\n",
    "\n",
    "            k = z[m][l] # gibb's 대상 삭제\n",
    "            theta[m][k] -= 1\n",
    "            phi[v][k] -= 1\n",
    "\n",
    "            topic = list()\n",
    "            for t in range(K):\n",
    "                A = (phi[v].get(t+1,0) + beta) / sum([T.get(t+1,0)+beta for v, T in phi.items()])\n",
    "                B = theta[m].get(t+1,0) + alpha\n",
    "                topic.append(A*B)\n",
    "\n",
    "            k = choices(range(K), weights=topic, k=1)[0]+1\n",
    "\n",
    "            z[m][l] = k\n",
    "            theta[m][k] = (theta[m][k] if k in theta[m] else 0) + 1\n",
    "            phi[v][k] = (phi[v][k] if k in phi[v] else 0) + 1\n",
    "    print('{}%'.format(_))"
   ],
   "metadata": {
    "collapsed": false,
    "pycharm": {
     "is_executing": true
    }
   }
  },
  {
   "cell_type": "code",
   "execution_count": null,
   "outputs": [],
   "source": [
    "for l, T in phi.items():\n",
    "    if T[1] > 0:\n",
    "        print(i2w[l], T[1])"
   ],
   "metadata": {
    "collapsed": false,
    "pycharm": {
     "is_executing": true
    }
   }
  },
  {
   "cell_type": "code",
   "execution_count": null,
   "outputs": [],
   "source": [
    "phi"
   ],
   "metadata": {
    "collapsed": false
   }
  },
  {
   "cell_type": "code",
   "execution_count": null,
   "outputs": [],
   "source": [],
   "metadata": {
    "collapsed": false
   }
  }
 ],
 "metadata": {
  "kernelspec": {
   "display_name": "Python 3",
   "language": "python",
   "name": "python3"
  },
  "language_info": {
   "codemirror_mode": {
    "name": "ipython",
    "version": 2
   },
   "file_extension": ".py",
   "mimetype": "text/x-python",
   "name": "python",
   "nbconvert_exporter": "python",
   "pygments_lexer": "ipython2",
   "version": "2.7.6"
  }
 },
 "nbformat": 4,
 "nbformat_minor": 0
}
