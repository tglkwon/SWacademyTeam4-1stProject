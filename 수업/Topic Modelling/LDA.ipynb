{
 "cells": [
  {
   "cell_type": "code",
   "execution_count": 9,
   "metadata": {
    "collapsed": true
   },
   "outputs": [],
   "source": [
    "from random import randint, choices\n",
    "import numpy as np"
   ]
  },
  {
   "cell_type": "code",
   "execution_count": 18,
   "outputs": [],
   "source": [
    "corpus = [\n",
    "    [\"Hadoop\", \"Big Data\", \"HBase\", \"Java\", \"Spark\", \"Storm\", \"Cassandra\"],\n",
    "    [\"NoSQL\", \"MongoDB\", \"Cassandra\", \"HBase\", \"Postgres\"],\n",
    "    [\"Python\", \"scikit-learn\", \"scipy\", \"numpy\", \"statsmodels\", \"pandas\"],\n",
    "    [\"R\", \"Python\", \"statistics\", \"regression\", \"probability\"],\n",
    "    [\"machine learning\", \"regression\", \"decision trees\", \"libsvm\"],\n",
    "    [\"Python\", \"R\", \"Java\", \"C++\", \"Haskell\", \"programming languages\"],\n",
    "    [\"statistics\", \"probability\", \"mathematics\", \"theory\"],\n",
    "    [\"machine learning\", \"scikit-learn\", \"Mahout\", \"neural networks\"],\n",
    "    [\"neural networks\", \"deep learning\", \"Big Data\", \"artificial intelligence\"],\n",
    "    [\"Hadoop\", \"Java\", \"MapReduce\", \"Big Data\"],\n",
    "    [\"statistics\", \"R\", \"statsmodels\"],\n",
    "    [\"C++\", \"deep learning\", \"artificial intelligence\", \"probability\"],\n",
    "    [\"pandas\", \"R\", \"Python\"],\n",
    "    [\"databases\", \"HBase\", \"Postgres\", \"MySQL\", \"MongoDB\"],\n",
    "    [\"libsvm\", \"regression\", \"support vector machines\"]\n",
    "]\n",
    "\n",
    "K = 4"
   ],
   "metadata": {
    "collapsed": false
   }
  },
  {
   "cell_type": "code",
   "execution_count": 19,
   "outputs": [],
   "source": [
    "alpha = .1\n",
    "beta = .1"
   ],
   "metadata": {
    "collapsed": false
   }
  },
  {
   "cell_type": "code",
   "execution_count": 20,
   "outputs": [],
   "source": [
    "theta = dict() # 문서-토픽 분포(빈도) => m번째 문서, k번째 토픽 => {m:{k:빈도}}\n",
    "phi = dict() # 단어픽 분포(빈도) => m번째 문서, k번째 토픽 => {m:{k:빈도}}\n",
    "z = dict() # 문서-단어 토픽 할당 정보 => m번째 문서, l번째 단어 => {m:{l:k}}\n",
    "\n",
    "V = list()\n",
    "for m, d in enumerate(corpus):\n",
    "    for l, w in enumerate(d):\n",
    "        V.append(w.lower())\n",
    "        if m not in z:\n",
    "            z[m] = dict()\n",
    "        if l not in z[m]:\n",
    "            z[m][l] = 0\n",
    "        z[m][l] = randint(1,K) # 토픽 할당\n",
    "\n",
    "V = set(V)\n",
    "i2w = {i: v for i, v in enumerate(V)}\n",
    "w2i = {v: i for i, v in enumerate(V)}\n",
    "\n",
    "for m, L in z.items():\n",
    "    if m not in theta:\n",
    "        theta[m] = dict()\n",
    "    for l, t in L.items():\n",
    "        if t not in theta[m]:\n",
    "            theta[m][t] = 0\n",
    "        theta[m][t] += 1\n",
    "\n",
    "        v = w2i[corpus[m][l].lower()]\n",
    "\n",
    "        if v not in phi:\n",
    "            phi[v] = dict()\n",
    "        if t not in phi[v]:\n",
    "            phi[v][t] = 0\n",
    "        phi[v][t] += 1"
   ],
   "metadata": {
    "collapsed": false
   }
  },
  {
   "cell_type": "code",
   "execution_count": 23,
   "outputs": [],
   "source": [
    "iteration = 100\n",
    "\n",
    "for _ in range(iteration):\n",
    "    for m, d in enumerate(corpus):\n",
    "        for l, w in enumerate(d):\n",
    "            v = w2i[w.lower()]\n",
    "\n",
    "            k = z[m][l] # gibb's 대상 삭제\n",
    "            theta[m][k] -= 1\n",
    "            phi[v][k] -= 1\n",
    "\n",
    "            topic = list()\n",
    "            for t in range(K):\n",
    "                A = (phi[v].get(t+1,0) + beta) / sum([T.get(t+1,0)+beta for v, T in phi.items()])\n",
    "                B = theta[m].get(t+1,0) + alpha\n",
    "                topic.append(A*B)\n",
    "\n",
    "            k = choices(range(K), weights=topic, k=1)[0]+1\n",
    "\n",
    "            z[m][l] = k\n",
    "            theta[m][k] = (theta[m][k] if k in theta[m] else 0) + 1\n",
    "            phi[v][k] = (phi[v][k] if k in phi[v] else 0) + 1"
   ],
   "metadata": {
    "collapsed": false
   }
  },
  {
   "cell_type": "code",
   "execution_count": 32,
   "outputs": [
    {
     "name": "stdout",
     "output_type": "stream",
     "text": [
      "java 1\n",
      "python 1\n",
      "r 2\n",
      "statistics 2\n",
      "regression 3\n",
      "probability 1\n",
      "decision trees 1\n",
      "libsvm 2\n",
      "c++ 2\n",
      "haskell 1\n",
      "programming languages 1\n",
      "mathematics 1\n",
      "support vector machines 1\n"
     ]
    }
   ],
   "source": [
    "for l, T in phi.items():\n",
    "    if T[2] > 0:\n",
    "        print(i2w[l], T[2])"
   ],
   "metadata": {
    "collapsed": false
   }
  },
  {
   "cell_type": "markdown",
   "source": [
    "[1] => ?\n",
    "7/17 => hadoop, big data, storm, mapreduce\n",
    "5/17 => java, r, c++\n",
    "5/17 => probability,\n",
    "[2] => AI\n",
    "0/15 =>\n",
    "1/15 => java\n",
    "14/15 => AI\n",
    "[3] => big data\n",
    "[4] => Data Analysis"
   ],
   "metadata": {
    "collapsed": false
   }
  }
 ],
 "metadata": {
  "kernelspec": {
   "display_name": "Python 3",
   "language": "python",
   "name": "python3"
  },
  "language_info": {
   "codemirror_mode": {
    "name": "ipython",
    "version": 2
   },
   "file_extension": ".py",
   "mimetype": "text/x-python",
   "name": "python",
   "nbconvert_exporter": "python",
   "pygments_lexer": "ipython2",
   "version": "2.7.6"
  }
 },
 "nbformat": 4,
 "nbformat_minor": 0
}
