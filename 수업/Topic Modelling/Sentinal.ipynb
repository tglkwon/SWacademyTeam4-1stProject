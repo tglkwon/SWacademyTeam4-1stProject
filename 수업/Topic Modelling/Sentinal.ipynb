{
 "cells": [
  {
   "cell_type": "code",
   "execution_count": 57,
   "outputs": [],
   "source": [
    "from requests import request\n",
    "from bs4 import BeautifulSoup\n",
    "\n",
    "from math import log2\n",
    "import pandas as pd\n",
    "import re\n",
    "from nltk.tokenize import sent_tokenize\n",
    "from konlpy.tag import Hannanum, Komoran\n",
    "\n",
    "ma = Komoran()\n",
    "from collections import defaultdict, Counter\n",
    "from random import randint, choices\n"
   ],
   "metadata": {
    "collapsed": false
   }
  },
  {
   "cell_type": "code",
   "execution_count": 58,
   "outputs": [],
   "source": [
    "# dom = BeautifulSoup(request('get', 'https://www.goodchoice.kr/product/search/5').text, 'html5lib')\n",
    "# ids = [a.attrs['data-ano'] for a in dom.select('li.list_2 > a[data-ano]')]"
   ],
   "metadata": {
    "collapsed": false
   }
  },
  {
   "cell_type": "code",
   "execution_count": 59,
   "outputs": [],
   "source": [
    "# url = 'https://www.goodchioce.kr/product/get_review_non'\n",
    "# reviews = pd.DataFrame(columns=['ano', 'aepreg', 'rating', 'review'])\n",
    "#\n",
    "# for i in ids:\n",
    "#     page = 1\n",
    "#\n",
    "#     while True:\n",
    "#         resp = request('post', url, data={'page':page, 'ano': ids[0]})\n",
    "#         for item in resp.json()['result']['items']:\n",
    "#             reviews.loc[len(reviews)] = (i, item['aepreg'], item['epilrate'], item['aepcont'])\n",
    "#         if page > resp.json()['total_page']:\n",
    "#             break\n",
    "#         page += 1\n",
    "# resp.json\n",
    "# len(resp.json()['result']['items'])"
   ],
   "metadata": {
    "collapsed": false
   }
  },
  {
   "cell_type": "markdown",
   "source": [
    "어휘기반 감성분석\n",
    "-> 어휘(사전적 정의와 다름, 사람이 일일히 정한 것, 코퍼스 - Semi-supervised)\n",
    "eg. 여기어때 -> 리뷰\n",
    "1. 리뷰(평점) -> 두 그룹(<5, >5)  -> term ㅌ positive, negetive <- PMI\n",
    "2.               X   대표단어 셋 -> term ㅌ 대표단어(positive), 대표단어(negetive) <- PMI\n",
    "3.          -> Topic Model\n",
    "4.                              -> 개별 토픽들이 어떤 극성(감성)\n",
    "PMI, PPMI, NPMI + LDA(np, list<-)"
   ],
   "metadata": {
    "collapsed": false
   }
  },
  {
   "cell_type": "code",
   "execution_count": 60,
   "outputs": [
    {
     "data": {
      "text/plain": "        Unnamed: 0           ano        aepreg       rating\ncount  2138.000000   2138.000000  2.138000e+03  2138.000000\nmean   3672.119738  56529.226848  1.611976e+09     6.657343\nstd    2053.632998  11729.379197  3.977837e+07     2.602609\nmin       0.000000  10681.000000  1.488162e+09     1.000000\n25%    2053.750000  47204.000000  1.584905e+09     5.300000\n50%    3764.000000  57279.000000  1.617594e+09     7.600000\n75%    5502.500000  64461.000000  1.644820e+09     8.600000\nmax    7035.000000  72146.000000  1.668556e+09     9.600000",
      "text/html": "<div>\n<style scoped>\n    .dataframe tbody tr th:only-of-type {\n        vertical-align: middle;\n    }\n\n    .dataframe tbody tr th {\n        vertical-align: top;\n    }\n\n    .dataframe thead th {\n        text-align: right;\n    }\n</style>\n<table border=\"1\" class=\"dataframe\">\n  <thead>\n    <tr style=\"text-align: right;\">\n      <th></th>\n      <th>Unnamed: 0</th>\n      <th>ano</th>\n      <th>aepreg</th>\n      <th>rating</th>\n    </tr>\n  </thead>\n  <tbody>\n    <tr>\n      <th>count</th>\n      <td>2138.000000</td>\n      <td>2138.000000</td>\n      <td>2.138000e+03</td>\n      <td>2138.000000</td>\n    </tr>\n    <tr>\n      <th>mean</th>\n      <td>3672.119738</td>\n      <td>56529.226848</td>\n      <td>1.611976e+09</td>\n      <td>6.657343</td>\n    </tr>\n    <tr>\n      <th>std</th>\n      <td>2053.632998</td>\n      <td>11729.379197</td>\n      <td>3.977837e+07</td>\n      <td>2.602609</td>\n    </tr>\n    <tr>\n      <th>min</th>\n      <td>0.000000</td>\n      <td>10681.000000</td>\n      <td>1.488162e+09</td>\n      <td>1.000000</td>\n    </tr>\n    <tr>\n      <th>25%</th>\n      <td>2053.750000</td>\n      <td>47204.000000</td>\n      <td>1.584905e+09</td>\n      <td>5.300000</td>\n    </tr>\n    <tr>\n      <th>50%</th>\n      <td>3764.000000</td>\n      <td>57279.000000</td>\n      <td>1.617594e+09</td>\n      <td>7.600000</td>\n    </tr>\n    <tr>\n      <th>75%</th>\n      <td>5502.500000</td>\n      <td>64461.000000</td>\n      <td>1.644820e+09</td>\n      <td>8.600000</td>\n    </tr>\n    <tr>\n      <th>max</th>\n      <td>7035.000000</td>\n      <td>72146.000000</td>\n      <td>1.668556e+09</td>\n      <td>9.600000</td>\n    </tr>\n  </tbody>\n</table>\n</div>"
     },
     "execution_count": 60,
     "metadata": {},
     "output_type": "execute_result"
    }
   ],
   "source": [
    "with open('reviews.jpg', encoding='utf-8') as fp:\n",
    "    reviews = pd.read_csv(fp)\n",
    "\n",
    "reviews[reviews['rating'] < 10].describe()"
   ],
   "metadata": {
    "collapsed": false
   }
  },
  {
   "cell_type": "code",
   "execution_count": 61,
   "outputs": [],
   "source": [
    "def cleanning1(org):\n",
    "    text = re.sub(r'[^0-9A-Za-zㄱ-ㅎ가-힣.,!? ]+', ' ', org)\n",
    "    result = list()\n",
    "    for s in sent_tokenize(text):\n",
    "        result.append(' '.join([t for t in ma.morphs(s) if len(t) > 1]))\n",
    "    return ('\\n'.join(result)).strip()\n",
    "\n",
    "def cleanning2(org):\n",
    "    text = re.sub(r'[^0-9A-Za-zㄱ-ㅎ가-힣.,!? ]+', ' ', org)\n",
    "    result = list()\n",
    "    for s in sent_tokenize(text):\n",
    "        result.append(' '.join([t[0] for t in ma.pos(s) if len(t[0]) > 1 and t[1].startswith('V')]))\n",
    "    return ('\\n'.join(result)).strip()\n",
    "\n",
    "def cleanning3(org):\n",
    "    text = re.sub(r'[^0-9A-Za-zㄱ-ㅎ가-힣.,!? ]+', ' ', org)\n",
    "    result = list()\n",
    "    for s in sent_tokenize(text):\n",
    "        result.append(' '.join([t for t in ma.nouns(s) if len(t) > 1]))\n",
    "    return ('\\n'.join(result)).strip()\n"
   ],
   "metadata": {
    "collapsed": false
   }
  },
  {
   "cell_type": "code",
   "execution_count": 62,
   "outputs": [],
   "source": [
    "reviews['clean1'] = reviews['review'].apply(cleanning1)\n",
    "reviews['clean2'] = reviews['review'].apply(cleanning2)\n",
    "reviews['clean3'] = reviews['review'].apply(cleanning3)\n",
    "\n",
    "clean_reviews = reviews[reviews['rating'] < 10]"
   ],
   "metadata": {
    "collapsed": false
   }
  },
  {
   "cell_type": "code",
   "execution_count": 63,
   "outputs": [],
   "source": [
    "# 연구자 설정\n",
    "negative = reviews[reviews['rating'] < 7]\n",
    "positive = reviews[reviews['rating'] >= 7]"
   ],
   "metadata": {
    "collapsed": false
   }
  },
  {
   "cell_type": "code",
   "execution_count": 64,
   "outputs": [],
   "source": [
    "# pTDM = defaultdict(Counter)\n",
    "# nTDM = defaultdict(Counter)"
   ],
   "metadata": {
    "collapsed": false
   }
  },
  {
   "cell_type": "code",
   "execution_count": 65,
   "outputs": [],
   "source": [
    "# for i, review in enumerate(negative['clean1']):\n",
    "#     for t in review.split():\n",
    "#         nTDM[t][i] += 1\n",
    "#\n",
    "# for i, review in enumerate(positive['clean1']):\n",
    "#     for t in review.split():\n",
    "#         pTDM[t][i] += 1"
   ],
   "metadata": {
    "collapsed": false
   }
  },
  {
   "cell_type": "code",
   "execution_count": 66,
   "outputs": [],
   "source": [
    "# V = list(set(list(nTDM.keys()) + list(pTDM.keys())))"
   ],
   "metadata": {
    "collapsed": false
   }
  },
  {
   "cell_type": "code",
   "execution_count": 67,
   "outputs": [],
   "source": [
    "# sorted({t: sum(tinfo.values()) for t, tinfo in nTDM.items()}.items(), key=lambda v:v[1], reverse=True)[:5]"
   ],
   "metadata": {
    "collapsed": false
   }
  },
  {
   "cell_type": "code",
   "execution_count": 68,
   "outputs": [],
   "source": [
    "# pProb = dict()\n",
    "# length = len(reviews)\n",
    "# for t in V:\n",
    "#     if len(pTDM[t]) > 0:\n",
    "#         pProb[t] = (len((pTDM[t]))+1)/(length+len(V))\n",
    "#     # print(t, len(pTDM[t]))\n",
    "#\n",
    "# nProb = dict()\n",
    "# for t in V:\n",
    "#     if len(nTDM[t]) > 0:\n",
    "#         nProb[t] = (len((nTDM[t]))+1)/(length+len(V))"
   ],
   "metadata": {
    "collapsed": false
   }
  },
  {
   "cell_type": "code",
   "execution_count": 69,
   "outputs": [],
   "source": [
    "# pJoint = dict()\n",
    "# for t in V:\n",
    "#     pJoint[t] = ((len(\n",
    "#         set(list(pTDM[t].keys())).intersection(\n",
    "#         set(list(nTDM[t].keys()))))+1) / (length+len(V)))"
   ],
   "metadata": {
    "collapsed": false
   }
  },
  {
   "cell_type": "markdown",
   "source": [
    "P(X,Y) = pJoint\n",
    "P(X) = pProb\n",
    "P(Y) = nProb\n",
    "log2 P(X,Y) / (P(X)*P(Y))"
   ],
   "metadata": {
    "collapsed": false
   }
  },
  {
   "cell_type": "code",
   "execution_count": 70,
   "outputs": [],
   "source": [
    "# pWords = ['멋있고', '행복한']\n",
    "# nWords = ['화장실', '시설']\n",
    "#\n",
    "# pWordsProb = [(len(pTDM[t])+len(nTDM[t]))/length for t in pWords]\n",
    "# nWordsProb = [(len(pTDM[t])+len(nTDM[t]))/length for t in nWords]"
   ],
   "metadata": {
    "collapsed": false
   }
  },
  {
   "cell_type": "code",
   "execution_count": 71,
   "outputs": [],
   "source": [
    "# pPMI = defaultdict(float)\n",
    "# for t in V:\n",
    "#     pList = set(pTDM[t].keys())\n",
    "#     nList = set(nTDM[t].keys())\n",
    "#     for seed in pWords:\n",
    "#         sList = set(list(pList[t].keys()) + list(nTDM[t].keys()))\n",
    "#         cofreq = len(pList.intersection(nList).intersection(sList))\n",
    "#         jp = (cofreq+1)/(length+len(V))\n",
    "#         pp = (len(pList)+1)/(length+len(V))\n",
    "#         np = (len(nList)+1)/(length+len(V))\n",
    "#         pPMI[t] += log2(jp/(pp*np))\n",
    "#\n",
    "# nPMI = defaultdict(float)\n",
    "# for t in V:\n",
    "#     pList = set(pTDM[t].keys())\n",
    "#     nList = set(nTDM[t].keys())\n",
    "#     for seed in nWords:\n",
    "#         sList = set(list(pList[t].keys()) + list(nTDM[t].keys()))\n",
    "#         cofreq = len(pList.intersection(nList).intersection(sList))\n",
    "#         jp = (cofreq+1)/(length+len(V))\n",
    "#         pp = (len(pList)+1)/(length+len(V))\n",
    "#         np = (len(nList)+1)/(length+len(V))\n",
    "#      nPMI[t] += log2(jp/(pp*np))"
   ],
   "metadata": {
    "collapsed": false
   }
  },
  {
   "cell_type": "code",
   "execution_count": 72,
   "outputs": [],
   "source": [
    "TDM = defaultdict(Counter)\n",
    "pTDM = defaultdict(Counter)\n",
    "nTDM = defaultdict(Counter)"
   ],
   "metadata": {
    "collapsed": false
   }
  },
  {
   "cell_type": "code",
   "execution_count": 73,
   "outputs": [],
   "source": [
    "for row in reviews[['aepreg', 'clean1', 'rating']].itertuples():\n",
    "    rid = row[1]\n",
    "    review = row[2]\n",
    "    rating = row[3]\n",
    "\n",
    "    for t in review.split():\n",
    "        TDM[t][rid] += 1\n",
    "        if rating > 7:\n",
    "            pTDM[t][rid] += 1\n",
    "        else:\n",
    "            nTDM[t][rid] += 1\n"
   ],
   "metadata": {
    "collapsed": false
   }
  },
  {
   "cell_type": "code",
   "execution_count": 74,
   "outputs": [],
   "source": [
    "pPMI = defaultdict()\n",
    "nPMI = defaultdict()\n",
    "pPPMI = defaultdict()\n",
    "nPPMI = defaultdict()\n",
    "pNPMI = defaultdict()\n",
    "nNPMI = defaultdict()"
   ],
   "metadata": {
    "collapsed": false
   }
  },
  {
   "cell_type": "code",
   "execution_count": 75,
   "outputs": [],
   "source": [
    "V = len(TDM)\n",
    "N = len(clean_reviews)\n",
    "pN = len(positive)\n",
    "nN = len(negative)"
   ],
   "metadata": {
    "collapsed": false
   }
  },
  {
   "cell_type": "code",
   "execution_count": 76,
   "outputs": [],
   "source": [
    "pProb = pN/N\n",
    "nProb = nN/N"
   ],
   "metadata": {
    "collapsed": false
   }
  },
  {
   "cell_type": "code",
   "execution_count": 77,
   "outputs": [],
   "source": [
    "for t, docList in TDM.items():\n",
    "    tProb = len(docList)/N\n",
    "    tPJ = (len(pTDM[t])+1)/(N+V)\n",
    "    tNJ = (len(nTDM[t])+1)/(N+V)\n",
    "    pPMI[t] = log2(tPJ/(tProb*pProb))\n",
    "    nPMI[t] = log2(tNJ/(tProb*nProb))\n",
    "    pPPMI[t] = max([0, pPMI[t]])\n",
    "    nPPMI[t] = max([0, nPMI[t]])\n",
    "    pNPMI[t] = pPMI[t]/-log2(tPJ)\n",
    "    nNPMI[t] = nPMI[t]/-log2(tNJ)\n"
   ],
   "metadata": {
    "collapsed": false
   }
  },
  {
   "cell_type": "code",
   "execution_count": 78,
   "outputs": [],
   "source": [
    "pWords = ['편하', '재밌', '즐겁', '예쁘'] # <- 주관적\n",
    "nWords = ['찢어지', '아깝', '따지', '더럽']"
   ],
   "metadata": {
    "collapsed": false
   }
  },
  {
   "cell_type": "code",
   "execution_count": 96,
   "outputs": [],
   "source": [
    "pPMI = defaultdict(Counter)\n",
    "nPMI = defaultdict(Counter)\n",
    "pPPMI = defaultdict(Counter)\n",
    "nPPMI = defaultdict(Counter)\n",
    "pNPMI = defaultdict(Counter)\n",
    "nNPMI = defaultdict(Counter)\n",
    "\n",
    "for t, docList in TDM.items():\n",
    "    tP = len(docList)/N\n",
    "\n",
    "    for s in pWords:\n",
    "        sDocList = set(TDM[s])\n",
    "        sP = len(sDocList)/N\n",
    "        tsJP = (len(sDocList.intersection(set(docList)))+1)/(N+V)\n",
    "        pPMI[t][s] = log2(tsJP/(tP*sP))\n",
    "        pPPMI[t][s] = max([0, pPMI[t][s]])\n",
    "        pNPMI[t][s] = pPMI[t][s]/-log2(tsJP)\n",
    "\n",
    "    for s in nWords:\n",
    "        sDocList = set(TDM[s])\n",
    "        sP = len(sDocList)/N\n",
    "        tsJP = (len(sDocList.intersection(set(docList)))+1)/(N+V)\n",
    "        nPMI[t][s] = log2(tsJP/(tP*sP))\n",
    "        nPPMI[t][s] = max([0, nPMI[t][s]])\n",
    "        nNPMI[t][s] = nPMI[t][s]/-log2(tsJP)"
   ],
   "metadata": {
    "collapsed": false
   }
  },
  {
   "cell_type": "code",
   "execution_count": 97,
   "outputs": [
    {
     "data": {
      "text/plain": "[(('재밌', -0.011060110956246483), ('더럽', -1.6527387821251556)),\n (('예쁘', -0.06732711818626225), ('따지', -1.6492447118585956)),\n (('즐겁', -0.14852721336879293), ('아깝', -1.5953313275859617)),\n (('편하', -0.16918800149363955), ('찢어지', -1.5221047884601107)),\n (('꾸미', -0.20579455782952727), ('장사', -1.4314528812769434)),\n (('오로라', -0.30458815462175837), ('최악', -1.4297607886261596)),\n (('구비', -0.30904620602471344), ('어이없', -1.4172900150318632)),\n (('조명', -0.328357803456081), ('반개', -1.4092200538651063)),\n (('여름', -0.3558305934449564), ('고장', -1.4056650022083883)),\n (('귀엽', -0.3613197239302297), ('잔소리', -1.3883093287866322)),\n (('맛있', -0.36807471531475056), ('신고', -1.3872995992063224)),\n (('시원', -0.36847954788281756), ('보증금', -1.3759782956523148)),\n (('행복', -0.37225547043914675), ('잖아요', -1.3752141464740142)),\n (('ㄹ게요', -0.37410299162617644), ('조차', -1.356445213187738)),\n (('감성', -0.3848963195826445), ('모양새', -1.3479222396049653)),\n (('추억', -0.38803741826388816), ('근성', -1.3479222396049653)),\n (('카페', -0.38822322045528734), ('옳바르게', -1.3479222396049653)),\n (('가루', -0.3889354915592942), ('경악', -1.346647153233625)),\n (('아늑', -0.3915259933537554), ('이해', -1.341881056846213)),\n (('개별', -0.3958955071986918), ('안되', -1.339039910340253))]"
     },
     "execution_count": 97,
     "metadata": {},
     "output_type": "execute_result"
    }
   ],
   "source": [
    "SO = {t:sum(pPMI[t].values())-sum(nPMI[t].values()) for t in TDM}\n",
    "list(zip(sorted(SO.items(), key=lambda t:t[1], reverse=True)[:10],\n",
    "sorted(SO.items(), key=lambda t:t[1], reverse=False)[:10]))\n",
    "SO = {t:sum(pPPMI[t].values())-sum(nPPMI[t].values()) for t in TDM}\n",
    "list(zip(sorted(SO.items(), key=lambda t:t[1], reverse=True)[:10],\n",
    "sorted(SO.items(), key=lambda t:t[1], reverse=False)[:10]))\n",
    "SO = {t:sum(pNPMI[t].values())-sum(nNPMI[t].values()) for t in TDM}\n",
    "list(zip(sorted(SO.items(), key=lambda t:t[1], reverse=True)[:20],\n",
    "sorted(SO.items(), key=lambda t:t[1], reverse=False)[:20]))"
   ],
   "metadata": {
    "collapsed": false
   }
  },
  {
   "cell_type": "code",
   "execution_count": 98,
   "outputs": [
    {
     "data": {
      "text/plain": "[(('재밌', -0.011060110956246483), ('더럽', -1.6527387821251556)),\n (('예쁘', -0.06732711818626225), ('따지', -1.6492447118585956)),\n (('즐겁', -0.14852721336879293), ('아깝', -1.5953313275859617)),\n (('편하', -0.16918800149363955), ('찢어지', -1.5221047884601107)),\n (('꾸미', -0.20579455782952727), ('장사', -1.4314528812769434)),\n (('오로라', -0.30458815462175837), ('최악', -1.4297607886261596)),\n (('구비', -0.30904620602471344), ('어이없', -1.4172900150318632)),\n (('조명', -0.328357803456081), ('반개', -1.4092200538651063)),\n (('여름', -0.3558305934449564), ('고장', -1.4056650022083883)),\n (('귀엽', -0.3613197239302297), ('잔소리', -1.3883093287866322)),\n (('맛있', -0.36807471531475056), ('신고', -1.3872995992063224)),\n (('시원', -0.36847954788281756), ('보증금', -1.3759782956523148)),\n (('행복', -0.37225547043914675), ('잖아요', -1.3752141464740142)),\n (('ㄹ게요', -0.37410299162617644), ('조차', -1.356445213187738)),\n (('감성', -0.3848963195826445), ('모양새', -1.3479222396049653)),\n (('추억', -0.38803741826388816), ('근성', -1.3479222396049653)),\n (('카페', -0.38822322045528734), ('옳바르게', -1.3479222396049653)),\n (('가루', -0.3889354915592942), ('경악', -1.346647153233625)),\n (('아늑', -0.3915259933537554), ('이해', -1.341881056846213)),\n (('개별', -0.3958955071986918), ('안되', -1.339039910340253))]"
     },
     "execution_count": 98,
     "metadata": {},
     "output_type": "execute_result"
    }
   ],
   "source": [
    "SO = {t:sum(pPMI[t].values())-sum(nPMI[t].values()) for t in TDM}\n",
    "list(zip(sorted(SO.items(), key=lambda t:t[1], reverse=True)[:10],\n",
    "sorted(SO.items(), key=lambda t:t[1], reverse=False)[:10]))\n",
    "SO = {t:sum(pPPMI[t].values())-sum(nPPMI[t].values()) for t in TDM}\n",
    "list(zip(sorted(SO.items(), key=lambda t:t[1], reverse=True)[:10],\n",
    "sorted(SO.items(), key=lambda t:t[1], reverse=False)[:10]))\n",
    "SO = {t:sum(pNPMI[t].values())-sum(nNPMI[t].values()) for t in TDM}\n",
    "list(zip(sorted(SO.items(), key=lambda t:t[1], reverse=True)[:20],\n",
    "sorted(SO.items(), key=lambda t:t[1], reverse=False)[:20]))"
   ],
   "metadata": {
    "collapsed": false
   }
  },
  {
   "cell_type": "code",
   "execution_count": null,
   "outputs": [],
   "source": [
    "sumSO = 0.0\n",
    "for t in ma.morphs('''22년 9월 8일 / 어른 5명, 초등저학년 3명, 20개월유아 1명\n",
    "총 9명이 카라반 2개를 예약해서 사용했습니다\n",
    "카라반 1개당 2인기준으로 추가비용 5명을 지불하고 입실\n",
    "\n",
    "1. 제일 실망한 온수풀 온수가아닌 30도 미적지근한 더러운물\n",
    "여러번 말했지만 소용없음 순환식 정수스타일 냄새도 나고\n",
    "리뷰보고 예약했는데 최악입니다.\n",
    "카라반 2동을 예약해서 온수1개만 사용한다고 7만원에 추가로 3만원더요구 함. 아니면 풀2개사용해서 14만원 내라고 함\n",
    "돈내고 온수가아닌 정수 물 꼭 농수로 같았어요\n",
    "\n",
    "2. 어찌저찌 2동에 인원추가비, 불멍 장작비, 숯불비용 추가비 현금 밎 계좌이체 요구 카드 안된다 현금영수증 안된다 (세무서 또는 국세청 신고예정)\n",
    "\n",
    "3. 불멍 장작비 2인기준 2만5천원 내면 5키로 장작 1망 줌 (곰 팡이냄새나는 젖은 장작으로 줌)추가 1망당 1만2천원 *오로라가루 라면 스프만한 1봉지 주는데 그냥 불색깔마 초록색으로 잠깐 변함\n",
    "\n",
    "4. 숯그릴 인원수별 금액이 차등 우린 4만5천원짜리 숮무한리필 선택했으나 처음에 숯2봉지 주고 추가로 달리고 했더니 무한리필이리고 4만 5천원짜리 팔고서는 말바꾸기 1봉지당 5천원추가로 구입해서 가저가라고 함\n",
    "\n",
    "5. 이불, 비개, 침대침구류, 수건, 지하실어서 말린 곰팡이냄새가 남\n",
    "\n",
    "6. 시설 노후 리뷰 사진처럼 바닥 조심 썩은 나무로 마루같은거 밟으면 다칠수있음 발이빠저 다쳐 넘어저 피가나고 멍이 생김 항의하자 사과없이 후시딘만 바르라고 가져다 주는것도 아니고 관리실로 오라함\n",
    "\n",
    "7. 아이들 놀이터가있는데 방방이 찌져저있고 귀신나올것같은 놀이터\n",
    "\n",
    "결론 여자사장은 친절한 척하지만 반말에 여러번 말해야 들어주고 손님 뚱뚱하니 등. 말 가리지 않고 하는 스타일 남자사장은 고객 무시하는 말투와 대충 말로 때우고 넘어가려함\n",
    "시설 노후 냄새에 민감한 사람 조심하세요\n",
    "진심으로 제 리뷰보고 저같은 피해보지 마세요'''):\n",
    "    if t in SO:\n",
    "        print(t, SO[t])\n",
    "        sumSO += SO[t]\n",
    "sumSO"
   ],
   "metadata": {
    "collapsed": false
   }
  },
  {
   "cell_type": "code",
   "execution_count": 99,
   "outputs": [],
   "source": [
    "reviews['clean4'] = reviews['clean2'].apply(lambda d:d.split())\n",
    "reviews['clean5'] = reviews['clean3'].apply(lambda d:d.split())"
   ],
   "metadata": {
    "collapsed": false
   }
  },
  {
   "cell_type": "code",
   "execution_count": 103,
   "outputs": [],
   "source": [
    "K = 2   # 형용사\n",
    "K = 4   # 명사\n",
    "alpha = .1\n",
    "beta = 1\n",
    "theta = dict()  # 문서-토픽 분포(빈도) => m번째 문서, k번째 토픽 => {m:{k:빈도}}\n",
    "phi = dict()  # 단어픽 분포(빈도) => m번째 문서, k번째 토픽 => {m:{k:빈도}}\n",
    "z = dict()  # 문서-단어 토픽 할당 정보 => m번째 문서, l번째 단어 => {m:{l:k}}\n",
    "\n",
    "V = list()\n",
    "\n",
    "# corpus = reviews['clean4']\n",
    "corpus = reviews['clean5']\n",
    "\n",
    "for m, d in enumerate(corpus):\n",
    "    for l, w in enumerate(d):\n",
    "        V.append(w.lower())\n",
    "        if m not in z:\n",
    "            z[m] = dict()\n",
    "        if l not in z[m]:\n",
    "            z[m][l] = 0\n",
    "        z[m][l] = randint(1, K)  # 토픽 할당\n",
    "\n",
    "V = set(V)\n",
    "i2w = {i: v for i, v in enumerate(V)}\n",
    "w2i = {v: i for i, v in enumerate(V)}"
   ],
   "metadata": {
    "collapsed": false
   }
  },
  {
   "cell_type": "code",
   "execution_count": 104,
   "outputs": [],
   "source": [
    "topicWordsCount = dict() # 계산 빨리 하려고 토픽별 할당된 단어의 수\n",
    "\n",
    "for m, L in z.items():\n",
    "    if m not in theta:\n",
    "        theta[m] = dict()\n",
    "    for l, t in L.items():\n",
    "        if t not in theta[m]:\n",
    "            theta[m][t] = 0\n",
    "        theta[m][t] += 1\n",
    "\n",
    "        v = w2i[corpus[m][l].lower()]\n",
    "\n",
    "        if v not in phi:\n",
    "            phi[v] = dict()\n",
    "        if t not in phi[v]:\n",
    "            phi[v][t] = 0\n",
    "        phi[v][t] += 1\n",
    "\n",
    "        if t not in topicWordsCount:\n",
    "            topicWordsCount[t] = 0\n",
    "        topicWordsCount[t] += 1"
   ],
   "metadata": {
    "collapsed": false
   }
  },
  {
   "cell_type": "code",
   "execution_count": 105,
   "outputs": [],
   "source": [
    "iteration = 100\n",
    "\n",
    "for _ in range(iteration):\n",
    "    for m, d in enumerate(corpus):\n",
    "        for l, w in enumerate(d):\n",
    "            v = w2i[w.lower()]\n",
    "\n",
    "            k = z[m][l] # gibb's 대상 삭제\n",
    "            theta[m][k] -= 1\n",
    "            phi[v][k] -= 1\n",
    "            topicWordsCount[k] -= 1\n",
    "\n",
    "            topic = list()\n",
    "            for t in range(K):\n",
    "                # A = (phi[v].get(t+1,0) + beta) / sum([T.get(t+1,0)+beta for v, T in phi.items()])\n",
    "                A = (phi[v].get(t+1,0) + beta) / (topicWordsCount[t+1] * (beta+1))\n",
    "\n",
    "                B = theta[m].get(t+1,0) + alpha\n",
    "                topic.append(A*B)\n",
    "\n",
    "            k = choices(range(K), weights=topic, k=1)[0]+1\n",
    "\n",
    "            z[m][l] = k\n",
    "            theta[m][k] = (theta[m][k] if k in theta[m] else 0) + 1\n",
    "            phi[v][k] = (phi[v][k] if k in phi[v] else 0) + 1\n",
    "            topicWordsCount[k] += 1"
   ],
   "metadata": {
    "collapsed": false
   }
  },
  {
   "cell_type": "code",
   "execution_count": 106,
   "outputs": [
    {
     "name": "stdout",
     "output_type": "stream",
     "text": [
      "[('화장실', 1107), ('글램', 560), ('카라', 558), ('이용', 466), ('친절', 439), ('시설', 426), ('사용', 389), ('침대', 363), ('사장', 338), ('샤워실', 319), ('생각', 316), ('텐트', 305), ('정도', 300), ('불편', 286), ('냄새', 275), ('내부', 273), ('청결', 273), ('바닥', 266), ('식기', 261), ('수건', 255)]\n",
      "[('친절', 791), ('카라', 663), ('사장', 630), ('수영장', 545), ('시설', 508), ('이용', 465), ('아이들', 439), ('글램', 429), ('가족', 366), ('숙소', 362), ('다음', 360), ('방문', 340), ('캠핑', 324), ('계곡', 324), ('예약', 316), ('화장실', 298), ('생각', 291), ('여행', 288), ('만족', 244), ('아이', 240)]\n",
      "[('사장', 358), ('글램', 328), ('예약', 308), ('시간', 308), ('친절', 297), ('사람', 232), ('시설', 222), ('추가', 221), ('리뷰', 203), ('기분', 202), ('생각', 199), ('처음', 186), ('소리', 183), ('만원', 179), ('사진', 163), ('직원', 162), ('새벽', 159), ('전화', 158), ('도착', 153), ('정도', 153)]\n",
      "[('사장', 1956), ('친절', 1928), ('글램', 1167), ('시설', 909), ('방문', 686), ('다음', 673), ('!!', 642), ('화장실', 523), ('감사', 446), ('만족', 439), ('최고', 359), ('처음', 345), ('!!!', 322), ('고양이', 319), ('청결', 309), ('힐링', 305), ('걱정', 302), ('분위기', 290), ('카라', 290), ('추억', 287)]\n"
     ]
    }
   ],
   "source": [
    "for k in range(K):\n",
    "    result = {i2w[l]: T[k+1] for l, T in phi.items() if T.get(k+1,0) > 0}\n",
    "    print(sorted(result.items(), key=lambda r:r[1], reverse=True)[:20])"
   ],
   "metadata": {
    "collapsed": false
   }
  },
  {
   "cell_type": "code",
   "execution_count": 107,
   "outputs": [
    {
     "data": {
      "text/plain": "-16.083106740967033"
     },
     "execution_count": 107,
     "metadata": {},
     "output_type": "execute_result"
    }
   ],
   "source": [
    "sumSO = 0.0\n",
    "for pTerms in [('아니', 541), ('나오', 411), ('그렇', 307), ('드리', 298), ('괜찮', 270), ('아쉽', 262), ('시끄럽', 235), ('못하', 230), ('챙기', 227), ('보이', 215), ('들어가', 215), ('다니', 206), ('모르', 189), ('편하', 170), ('이렇', 137), ('더럽', 133), ('힘들', 129), ('어떻', 120), ('가깝', 118), ('나쁘', 117)]:\n",
    "    sumSO += SO[pTerms[0]]\n",
    "\n",
    "sumSO"
   ],
   "metadata": {
    "collapsed": false
   }
  },
  {
   "cell_type": "code",
   "execution_count": null,
   "outputs": [],
   "source": [],
   "metadata": {
    "collapsed": false
   }
  }
 ],
 "metadata": {
  "kernelspec": {
   "display_name": "Python 3",
   "language": "python",
   "name": "python3"
  },
  "language_info": {
   "codemirror_mode": {
    "name": "ipython",
    "version": 2
   },
   "file_extension": ".py",
   "mimetype": "text/x-python",
   "name": "python",
   "nbconvert_exporter": "python",
   "pygments_lexer": "ipython2",
   "version": "2.7.6"
  }
 },
 "nbformat": 4,
 "nbformat_minor": 0
}
