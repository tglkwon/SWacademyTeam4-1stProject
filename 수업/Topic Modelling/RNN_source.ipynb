{
 "cells": [
  {
   "cell_type": "code",
   "execution_count": 1,
   "metadata": {
    "collapsed": true
   },
   "outputs": [],
   "source": [
    "import tensorflow as tf"
   ]
  },
  {
   "cell_type": "code",
   "execution_count": 3,
   "outputs": [
    {
     "ename": "TypeError",
     "evalue": "SimpleRNNCell.__init__() missing 1 required positional argument: 'units'",
     "output_type": "error",
     "traceback": [
      "\u001B[1;31m---------------------------------------------------------------------------\u001B[0m",
      "\u001B[1;31mTypeError\u001B[0m                                 Traceback (most recent call last)",
      "Cell \u001B[1;32mIn [3], line 1\u001B[0m\n\u001B[1;32m----> 1\u001B[0m SRNN \u001B[38;5;241m=\u001B[39m tf\u001B[38;5;241m.\u001B[39mkeras\u001B[38;5;241m.\u001B[39mlayers\u001B[38;5;241m.\u001B[39mSimpleRNNCell()\n",
      "\u001B[1;31mTypeError\u001B[0m: SimpleRNNCell.__init__() missing 1 required positional argument: 'units'"
     ]
    }
   ],
   "source": [
    "SRNN = tf.keras.layers.SimpleRNNCell()"
   ],
   "metadata": {
    "collapsed": false
   }
  },
  {
   "cell_type": "markdown",
   "source": [
    "# 모델을 이해하는 4가지 방법\n",
    "코드\n",
    "수식\n",
    "다이어그램\n",
    "행렬"
   ],
   "metadata": {
    "collapsed": false
   }
  },
  {
   "cell_type": "code",
   "execution_count": 5,
   "outputs": [
    {
     "data": {
      "text/plain": "<tf.Tensor: shape=(100, 1), dtype=float32, numpy=\narray([[ 0.853782  ],\n       [-0.8550352 ],\n       [-1.069441  ],\n       [-0.71824014],\n       [ 1.1244171 ],\n       [ 0.8977176 ],\n       [ 2.1219034 ],\n       [ 0.4207759 ],\n       [ 0.7204009 ],\n       [ 1.0354083 ],\n       [-1.0338593 ],\n       [-1.726344  ],\n       [-0.48332614],\n       [-1.3551207 ],\n       [ 0.32221502],\n       [-0.7631052 ],\n       [-0.06180624],\n       [-0.13323268],\n       [-0.17756076],\n       [-0.35548732],\n       [ 0.02088012],\n       [-0.58032334],\n       [ 1.1740738 ],\n       [ 1.8042316 ],\n       [ 1.3501508 ],\n       [ 1.1183038 ],\n       [ 0.4273282 ],\n       [-0.4048705 ],\n       [-0.51810414],\n       [-2.3892174 ],\n       [ 0.16935773],\n       [ 0.36849925],\n       [ 0.9945881 ],\n       [-0.34989917],\n       [-1.7634102 ],\n       [-0.08348647],\n       [-1.549118  ],\n       [-0.91628593],\n       [-0.43168756],\n       [-2.5004623 ],\n       [-1.0352492 ],\n       [-1.5843903 ],\n       [-0.23076783],\n       [-0.781612  ],\n       [-0.8226543 ],\n       [-1.4828706 ],\n       [-2.361531  ],\n       [ 1.0389931 ],\n       [-0.5944556 ],\n       [-0.28191853],\n       [-0.33341745],\n       [ 0.38432983],\n       [ 1.5669483 ],\n       [-0.10873587],\n       [-0.29506677],\n       [-1.4480594 ],\n       [-0.6034901 ],\n       [ 0.1759454 ],\n       [ 0.18363419],\n       [ 0.62956125],\n       [ 0.09027374],\n       [ 0.5309444 ],\n       [ 0.24898319],\n       [ 1.1206955 ],\n       [ 1.871675  ],\n       [ 0.9891634 ],\n       [-0.31972235],\n       [-0.8835737 ],\n       [-0.01290998],\n       [-0.39354384],\n       [-2.2146268 ],\n       [-0.18522234],\n       [ 0.6142338 ],\n       [-0.02423573],\n       [ 0.00479216],\n       [-1.4711434 ],\n       [ 0.6752168 ],\n       [ 1.4306635 ],\n       [ 0.8836114 ],\n       [-0.15961663],\n       [-0.39982077],\n       [-0.8144226 ],\n       [ 0.8521981 ],\n       [ 0.57421756],\n       [ 0.57613117],\n       [-0.44267142],\n       [ 1.3961538 ],\n       [ 1.0696951 ],\n       [-0.6183052 ],\n       [-0.531018  ],\n       [ 1.3223717 ],\n       [-0.7529684 ],\n       [ 0.05017586],\n       [-0.01343421],\n       [-2.1408732 ],\n       [-0.59838694],\n       [ 0.25040463],\n       [ 1.5396689 ],\n       [ 0.21820709],\n       [-2.4216416 ]], dtype=float32)>"
     },
     "execution_count": 5,
     "metadata": {},
     "output_type": "execute_result"
    }
   ],
   "source": [
    "d = 100\n",
    "D_h = 4\n",
    "\n",
    "x = tf.random.normal((20,d,1))\n",
    "W_x = tf.random.normal((D_h,d))\n",
    "W_h = tf.random.normal((D_h,D_h))\n",
    "h = list()\n",
    "# h.append(tf.random.normal(D_h,1))\n",
    "# x[1]"
   ],
   "metadata": {
    "collapsed": false
   }
  },
  {
   "cell_type": "code",
   "execution_count": null,
   "outputs": [],
   "source": [
    "for t in range(2):\n",
    "    h_t = tf.keras.activations.tanh( tf.matmul(W_x, x[t])+tf.matmul(W_h, h[-1])+bias_h )\n",
    "    y_t = tf.keras.activations.softmax( tf.matmul(W_y, h_t) + bias_y)\n",
    "    h.append(y_t)"
   ],
   "metadata": {
    "collapsed": false
   }
  }
 ],
 "metadata": {
  "kernelspec": {
   "display_name": "Python 3",
   "language": "python",
   "name": "python3"
  },
  "language_info": {
   "codemirror_mode": {
    "name": "ipython",
    "version": 2
   },
   "file_extension": ".py",
   "mimetype": "text/x-python",
   "name": "python",
   "nbconvert_exporter": "python",
   "pygments_lexer": "ipython2",
   "version": "2.7.6"
  }
 },
 "nbformat": 4,
 "nbformat_minor": 0
}
