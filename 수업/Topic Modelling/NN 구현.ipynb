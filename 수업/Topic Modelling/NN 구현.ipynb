{
 "cells": [
  {
   "cell_type": "markdown",
   "source": [
    "# 221122\n",
    "# Neural Network\n",
    "그림\n",
    "\n",
    "$$\n",
    "Z_1 = w_{11}X_1 + w_{21}X_2 + b1\\\\\n",
    "Z_2 = w_{12}X_1 + w_{22}X_2 + b2\\\\\n",
    "$$\n",
    "$$\n",
    "\\begin{pmatrix}\n",
    "Z_1\\\\\n",
    "Z_2\n",
    "\\end{pmatrix}\n",
    "=\n",
    "\\begin{pmatrix}\n",
    "w_{11} & w_{21}\\\\\n",
    "w_{12} & w_{22}\n",
    "\\end{pmatrix}\n",
    "\\begin{pmatrix}\n",
    "X_1\\\\\n",
    "X_2\n",
    "\\end{pmatrix}\n",
    "+\n",
    "\\begin{pmatrix}\n",
    "b_1\\\\\n",
    "b_2\n",
    "\\end{pmatrix}\n",
    "$$\n",
    "$$\n",
    "\n",
    "$$\n",
    "$$ w = \\frac{\\partial Z}{\\partial X} $$\n"
   ],
   "metadata": {
    "collapsed": false
   }
  },
  {
   "cell_type": "markdown",
   "source": [
    "# Activation function - Sigmoid\n",
    "$$\n",
    "\\begin{aligned}\n",
    "S(z) &= \\frac{1}{1 + e^{-z}}\\\\\n",
    "\\frac{\\partial S}{\\partial z} &= - \\frac{1}{(1 + e^{-z})^2} * (-e^{-z})\\\\\n",
    "&= \\frac{e^{-z}}{(1 + e^{-z})^2}\\\\\n",
    "&= \\frac{1}{1+e^{-z}} * \\frac{e^{-z}}{1+e^{-z}}\\\\\n",
    "&= S * \\frac{1+e^{-z} -1}{1+e^{-z}}\\\\\n",
    "&= S * (1 - \\frac{1}{1+e^{-z}})\\\\\n",
    "&= S(1 - S)\n",
    "\\end{aligned}\n",
    "$$"
   ],
   "metadata": {
    "collapsed": false
   }
  },
  {
   "cell_type": "markdown",
   "source": [
    "# 221123\n",
    "# Softmax\n",
    "$$\n",
    "P(i) = exp(x_i)\\over \\sum(exp(x_j))\n",
    "$$\n",
    "$i = j, i \\neq j$ 두 가지 경우로 나누어 계산한다.\n",
    "$i = j$의 경우\n",
    "$$\n",
    "\\begin{aligned}\n",
    "\\frac{\\partial P}{\\partial x_i} &= \\frac{e^{x_i} \\sum{e^{x_i}} -e^{x_i}\\sum{e^{x_i}}}{\\sum{e^{x_i}}\\sum{e^{x_i}}}\\\\\n",
    "&= \\frac{e^{x_i}}{\\sum{e^{x_i}}} \\times \\frac{\\sum{e^{x_i}-e^{x_i}}}{\\sum{e^{x_i}}}  \\\\\n",
    "\n",
    "&= P_i \\times (\\frac{\\sum{e^{x_i}}}{\\sum{e^{x_i}}} - \\frac{e^{x_i}}{\\sum{e^{x_i}}})\\\\\n",
    "&= P_i (1-P_i)\n",
    "\\end{aligned}\n",
    "$$\n",
    "$i \\neq j$의 경우\n",
    "\\begin{aligned}\n",
    "\\frac{\\partial P}{\\partial x_j} &= \\frac{0 - e^{x_i}e^{x_j}}{\\sum{x_i}\\sum{x_i}}\\\\\n",
    "&= \\frac{e^{x_i}}{\\sum{e^{x_i}}} \\frac{\\sum{e^{x_i}-e^{x_i}}}{\\sum{e^{x_i}}}  \\\\\n",
    "\n",
    "&= - \\frac{e^{x_i}}{\\sum{e^{x_j}}} \\frac{e^{x_j}}{\\sum{e^{x_j}}}\\\\\n",
    "&= P_i P_j\n",
    "\\end{aligned}"
   ],
   "metadata": {
    "collapsed": false
   }
  },
  {
   "cell_type": "markdown",
   "source": [
    "# Cross Entropy\n",
    "$$\n",
    "CE = - \\displaystyle\\sum_{i}{Y_i\\log\\bar{Y}_i}\n",
    "$$\n",
    "$$\n",
    "\\frac{\\partial {CE}}{\\partial \\bar{Y_j}} = -\\displaystyle\\sum_{i}{ \\frac{Y_i}{\\bar{Y_j}} \\frac{\\partial \\bar{Y_i}}{\\partial \\bar{Y_j}} }\n",
    "$$\n",
    "$i = j, i \\neq j$ 두 가지 부분로 나누어 계산한다.\n",
    "$$\n",
    "= -(\\frac{Y_i}{\\bar {Y_i}}\\frac{\\partial \\bar{Y_i}}{\\partial \\bar{Y_i}} + \\sum_{i\\neq j}{\\frac{Y_i}{\\bar{Y_j}}\\frac{\\partial \\bar{Y_i}}{\\partial \\bar{Y_j}})\n",
    "= -(\\frac{Y_i}{\\bar {Y_i}} (\\bar{Y_i}(1-\\bar{Y_i})) + \\sum_{i\\neq j}{\\frac{Y_i}{\\bar{Y_j} }*(- \\bar{Y_i}\\bar{Y_j}))\n",
    "$$\n",
    "$$\n",
    "= -{Y_i} (1-\\bar{Y_i}) - \\sum_{i\\neq j}{Y_i\\bar{Y_i}}\n",
    "= -(Y_i-Y_i \\bar {Y_{i=j}} - \\sum_{i\\neq j}{Y_i \\bar{Y_j}})\n",
    "$$\n",
    "$$\n",
    "= -(Y_i - \\sum{Y_i \\bar{Y_j}}) = -(Y_i - \\bar{Y_j} \\sum{Y_i}),  \\sum{Y_i} = 1 (one-hot)\n",
    "$$\n",
    "$$\n",
    "= \\bar{Y_j} - Y_i\n",
    "$$"
   ],
   "metadata": {
    "collapsed": false
   }
  },
  {
   "cell_type": "markdown",
   "source": [
    "# 112224\n",
    "\n",
    "$$\n",
    "tanh = \\frac{e^x-e^{-x} = f}{e^x+e^{-x} = g}\n",
    "$$\n",
    "$$\n",
    "= \\frac{1-e^{-2x}}{1+e^{-2x}} = \\frac{-(1+e^{-2x})+2}{1+e^{-2x}}\n",
    "$$\n",
    "$$\n",
    "= -1+\\frac{2}{1+e^{-2x}} => 2 Sigmoid(2x) + 1\n",
    "$$\n",
    "$$\n",
    "\\frac{\\partial tanh}{\\partial x} = \\frac{(e^x+e^{-x})(e^x+e^{-x}) - (e^x-e^{-x})(e^x-e^{-x})}{(e^x+e^{-x})(e^x+e^{-x})} => \\frac{\\partial f}{\\partial g} = \\frac{f'g-fg'}{g^2}\n",
    "$$\n",
    "$$\n",
    "= 1 - (\\frac{e^x-e^{-x}}{e^x+e^{-x}})^2 = 1 - tanh^2\n",
    "$$\n",
    "\n",
    "## 학습\n",
    "$\\frac{\\partial L}{\\partial x}$를 0으로 수렴시키는 것\n",
    "$$\n",
    "L = \\bar{Y}-Y = \\delta => \\frac{\\partial L}{\\bar{\\partial Y}}\n",
    "$$\n",
    "\n",
    "- NN 구조\n",
    "x1 -> activation(z1) -> Y1\n",
    "   X                 X\n",
    "x2 -> activation(z2) -> Y2\n",
    "\n",
    "$$\n",
    "\\frac{\\partial L}{\\partial x} = \\frac{\\partial L}{\\bar{\\partial Y}} \\frac{\\bar{\\partial Y}}{\\partial \\sigma} \\frac{\\partial \\sigma}{\\partial z_i} \\frac{\\partial z_i}{\\partial x_i} => 0-h\n",
    "$$\n",
    "\n",
    "# Layer를 늘려보자"
   ],
   "metadata": {
    "collapsed": false
   }
  },
  {
   "cell_type": "markdown",
   "source": [
    "# 221128\n",
    "# Embedding : data를 컴퓨터가 이해할 수 있는 숫자(int, float)로 변환하는 것\n",
    "- Language Model : 그 중 가장 간단한 model이 N-gram\n",
    "sentence : t1, t2, t3?    P(t3|t1,t2)을 예측하는 것이 NNLM\n",
    "\n",
    "## NNLM\n"
   ],
   "metadata": {
    "collapsed": false
   }
  }
 ],
 "metadata": {
  "kernelspec": {
   "display_name": "Python 3",
   "language": "python",
   "name": "python3"
  },
  "language_info": {
   "codemirror_mode": {
    "name": "ipython",
    "version": 2
   },
   "file_extension": ".py",
   "mimetype": "text/x-python",
   "name": "python",
   "nbconvert_exporter": "python",
   "pygments_lexer": "ipython2",
   "version": "2.7.6"
  }
 },
 "nbformat": 4,
 "nbformat_minor": 0
}
