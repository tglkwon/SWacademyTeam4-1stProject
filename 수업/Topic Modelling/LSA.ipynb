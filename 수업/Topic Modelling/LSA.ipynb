{
 "cells": [
  {
   "cell_type": "code",
   "execution_count": 2,
   "metadata": {
    "collapsed": true
   },
   "outputs": [],
   "source": [
    "import numpy as np"
   ]
  },
  {
   "cell_type": "code",
   "execution_count": 3,
   "outputs": [],
   "source": [
    "D = ['d1', 'd2', 'd3', 'd4', 'd5', 'd6']\n",
    "V = ['ship', 'boat', 'ocean', 'wood', 'tree']\n",
    "M = len(V)\n",
    "N = len(D)"
   ],
   "metadata": {
    "collapsed": false
   }
  },
  {
   "cell_type": "code",
   "execution_count": 4,
   "outputs": [],
   "source": [
    "# C = np.zeros((M,N))\n",
    "C = np.array([[1,0,1,0,0,0],\n",
    "              [0,1,0,0,0,0],\n",
    "              [1,1,0,0,0,0],\n",
    "              [1,0,0,1,1,0],\n",
    "              [0,0,0,1,0,1]])"
   ],
   "metadata": {
    "collapsed": false
   }
  },
  {
   "cell_type": "code",
   "execution_count": 5,
   "outputs": [],
   "source": [
    "X = C.dot(C.T)\n",
    "v, w = np.linalg.eig(X)\n",
    "\n",
    "u, s, vt = np.linalg.svd(C, full_matrices=False)\n"
   ],
   "metadata": {
    "collapsed": false
   }
  },
  {
   "cell_type": "markdown",
   "source": [
    "$$\n",
    "np.round(np.dot(u*s, vt), 2) => C\n",
    "C.dot(C.T) = u*s*vt*(u*s*vt).T\n",
    "            = u*(s**2)*u.T\n",
    "\n",
    "$$\n",
    "\n",
    "TDM -> C\n",
    "V*V -> PCA\n",
    "u : V*V -> 단어의 분포가 비슷한 애들 => Topic\n",
    "vt: M*M -> 문서의 분포가 비슷한 애들(문서에 비슷한 단어들이 포진)\n",
    "\n",
    "eigenvalue와 SVD의 관계\n",
    "- eigenvector는 n*n 정사각 행렬에서 그 대표성을 가진 값(eigenvalue)를 찾는 방식\n",
    "- SVD(Singular Value Decomposition)은 n*m 임의의 직사각 행렬에서 그 대표성을 가지는 값(행렬)을 찾는 방식\n",
    "https://rfriend.tistory.com/185"
   ],
   "metadata": {
    "collapsed": false
   }
  },
  {
   "cell_type": "code",
   "execution_count": 6,
   "outputs": [],
   "source": [
    "X = np.array([[1,1,0,0,0,0,0],\n",
    "             [0,0,1,1,1,0,0],\n",
    "             [1,1,0,0,0,0,0],\n",
    "             [1,1,0,0,0,0,0],\n",
    "             [0,0,0,1,1,0,1],\n",
    "             [1,0,1,0,1,1,1]])"
   ],
   "metadata": {
    "collapsed": false
   }
  },
  {
   "cell_type": "code",
   "execution_count": 7,
   "outputs": [],
   "source": [
    "X = X.T #TDM\n",
    "u,s,vt = np.linalg.svd(X, full_matrices=False)"
   ],
   "metadata": {
    "collapsed": false
   }
  },
  {
   "cell_type": "code",
   "execution_count": 8,
   "outputs": [],
   "source": [
    "US = u[:,:3]*s[:3]"
   ],
   "metadata": {
    "collapsed": false
   }
  },
  {
   "cell_type": "code",
   "execution_count": 9,
   "outputs": [
    {
     "data": {
      "text/plain": "array([5, 3], dtype=int64)"
     },
     "execution_count": 9,
     "metadata": {},
     "output_type": "execute_result"
    }
   ],
   "source": [
    "np.argsort(US[:,0])[::-1][:2]"
   ],
   "metadata": {
    "collapsed": false
   }
  },
  {
   "cell_type": "code",
   "execution_count": 10,
   "outputs": [],
   "source": [
    "V = ['cute', 'kitty', 'eat', 'rice', 'cake', 'hamster','bread']"
   ],
   "metadata": {
    "collapsed": false
   }
  },
  {
   "cell_type": "code",
   "execution_count": 11,
   "outputs": [
    {
     "ename": "TypeError",
     "evalue": "only integer scalar arrays can be converted to a scalar index",
     "output_type": "error",
     "traceback": [
      "\u001B[1;31m---------------------------------------------------------------------------\u001B[0m",
      "\u001B[1;31mTypeError\u001B[0m                                 Traceback (most recent call last)",
      "Cell \u001B[1;32mIn [11], line 1\u001B[0m\n\u001B[1;32m----> 1\u001B[0m V[np\u001B[38;5;241m.\u001B[39margsort(US[:,\u001B[38;5;241m0\u001B[39m])[::\u001B[38;5;241m-\u001B[39m\u001B[38;5;241m1\u001B[39m][:\u001B[38;5;241m3\u001B[39m]]\n",
      "\u001B[1;31mTypeError\u001B[0m: only integer scalar arrays can be converted to a scalar index"
     ]
    }
   ],
   "source": [
    "V[np.argsort(US[:,0])[::-1][:3]]"
   ],
   "metadata": {
    "collapsed": false
   }
  },
  {
   "cell_type": "code",
   "execution_count": null,
   "outputs": [],
   "source": [
    "e_value, e_vector = np.linalg.eig(X.dot(X.T))"
   ],
   "metadata": {
    "collapsed": false
   }
  },
  {
   "cell_type": "code",
   "execution_count": null,
   "outputs": [],
   "source": [
    "arg = np.argsort(e_value)[::-1][:3]\n",
    "PCA_R = e_vector[arg.T*arg]"
   ],
   "metadata": {
    "collapsed": false
   }
  },
  {
   "cell_type": "code",
   "execution_count": 11,
   "outputs": [],
   "source": [],
   "metadata": {
    "collapsed": false
   }
  },
  {
   "cell_type": "code",
   "execution_count": null,
   "outputs": [],
   "source": [],
   "metadata": {
    "collapsed": false
   }
  }
 ],
 "metadata": {
  "kernelspec": {
   "display_name": "Python 3",
   "language": "python",
   "name": "python3"
  },
  "language_info": {
   "codemirror_mode": {
    "name": "ipython",
    "version": 2
   },
   "file_extension": ".py",
   "mimetype": "text/x-python",
   "name": "python",
   "nbconvert_exporter": "python",
   "pygments_lexer": "ipython2",
   "version": "2.7.6"
  }
 },
 "nbformat": 4,
 "nbformat_minor": 0
}
