{
 "cells": [
  {
   "cell_type": "markdown",
   "source": [
    " # convulotion 필터 사이즈는 어떻게 정하는 것이 좋을까에서 시작한 논문\n",
    "\n",
    "3 by 3 을 2번 쓰는 것과 5 by 5 한 번 쓰는 건 어느게 더 좋을까\n",
    "정답은 없다. 장단점이 있음\n",
    "파라미터의 수 는 전자가 적고 $$\n",
    "3*3 + 3*3 < 5*5\n",
    "$$\n",
    "layer가 늘어나기에 nonlinearity가 늘어남 === gradient vanishing에 취약함"
   ],
   "metadata": {
    "collapsed": false
   }
  },
  {
   "cell_type": "code",
   "execution_count": 1,
   "metadata": {
    "collapsed": true
   },
   "outputs": [],
   "source": [
    "import tensorflow as tf\n",
    "(X_train, y_train), (X_test, y_test) = tf.keras.datasets.mnist.load_data()\n",
    "X_train = X_train[..., tf.newaxis]"
   ]
  },
  {
   "cell_type": "code",
   "execution_count": 2,
   "outputs": [
    {
     "name": "stdout",
     "output_type": "stream",
     "text": [
      "Downloading data from https://storage.googleapis.com/tensorflow/keras-applications/vgg16/vgg16_weights_tf_dim_ordering_tf_kernels.h5\n",
      "553467096/553467096 [==============================] - 276s 0us/step\n"
     ]
    }
   ],
   "source": [
    "vgg = tf.keras.applications.VGG16()"
   ],
   "metadata": {
    "collapsed": false
   }
  },
  {
   "cell_type": "code",
   "execution_count": 3,
   "outputs": [
    {
     "name": "stdout",
     "output_type": "stream",
     "text": [
      "WARNING:tensorflow:Compiled the loaded model, but the compiled metrics have yet to be built. `model.compile_metrics` will be empty until you train or evaluate the model.\n"
     ]
    }
   ],
   "source": [
    "vgg.save('vgg.h5')\n",
    "vgg.summary()"
   ],
   "metadata": {
    "collapsed": false
   }
  }
 ],
 "metadata": {
  "kernelspec": {
   "display_name": "Python 3",
   "language": "python",
   "name": "python3"
  },
  "language_info": {
   "codemirror_mode": {
    "name": "ipython",
    "version": 2
   },
   "file_extension": ".py",
   "mimetype": "text/x-python",
   "name": "python",
   "nbconvert_exporter": "python",
   "pygments_lexer": "ipython2",
   "version": "2.7.6"
  }
 },
 "nbformat": 4,
 "nbformat_minor": 0
}
