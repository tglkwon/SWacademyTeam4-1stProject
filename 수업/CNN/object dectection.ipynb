{
 "cells": [
  {
   "cell_type": "markdown",
   "source": [
    "# Object Detection : What, and Where\n",
    "localization : where?\n",
    "recognition : what?\n",
    "\n",
    "- 여러 size data를 어떻게 인식시킬지\n",
    "- 학습시키지 않은 데이터를 classification 문제 -> 입력 데이터가 치우쳐지는 것 처럼될 수 있다.(학습시키지 않은 것들만 나오는 사진같은 경우)\n",
    "\n",
    "convolution feature map = features and their locations\n",
    "\n",
    "(2013)"
   ],
   "metadata": {
    "collapsed": false
   }
  },
  {
   "cell_type": "markdown",
   "source": [
    "R-CNN (2014)\n",
    "region proposal\n",
    "\n",
    "한 점을 중심으로 4가지 기준으로 비슷한 경우 같은 클러스터에 넣는 방식을 이용함\n"
   ],
   "metadata": {
    "collapsed": false
   }
  },
  {
   "cell_type": "code",
   "execution_count": 1,
   "outputs": [],
   "source": [
    "# !pip install selective-search"
   ],
   "metadata": {
    "collapsed": false
   }
  },
  {
   "cell_type": "code",
   "execution_count": null,
   "outputs": [],
   "source": [
    "import skimage.io\n",
    "from selective_search import selective_search\n",
    "\n",
    "# Load image as NumPy array from image files\n",
    "image = skimage.io.imread('path/to/image')\n",
    "\n",
    "# Run selective search using single mode\n",
    "boxes = selective_search(image, mode='single', random_sort=False)"
   ],
   "metadata": {
    "collapsed": false
   }
  }
 ],
 "metadata": {
  "kernelspec": {
   "display_name": "Python 3",
   "language": "python",
   "name": "python3"
  },
  "language_info": {
   "codemirror_mode": {
    "name": "ipython",
    "version": 2
   },
   "file_extension": ".py",
   "mimetype": "text/x-python",
   "name": "python",
   "nbconvert_exporter": "python",
   "pygments_lexer": "ipython2",
   "version": "2.7.6"
  }
 },
 "nbformat": 4,
 "nbformat_minor": 0
}
