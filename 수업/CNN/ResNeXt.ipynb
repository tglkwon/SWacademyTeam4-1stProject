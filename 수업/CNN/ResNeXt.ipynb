{
 "cells": [
  {
   "cell_type": "markdown",
   "source": [
    "# group convolution\n",
    "여러 모양으로 convolution을 쪼개는 것. 파라미터를 줄이는 방법론 중 하나.\n",
    "group의 개수만큼 파라미터가 줄어든다. 각 cardinality 별로 여러 모델을 합쳤다고 볼 수 있다.\n",
    "\n",
    "- one by one : convolution을 이용해 차원도 줄이고\n",
    "- dropout : ensemble, catastrophic forgetting, feature extraction?\n",
    "\n",
    "\n"
   ],
   "metadata": {
    "collapsed": false
   }
  },
  {
   "cell_type": "code",
   "execution_count": 1,
   "outputs": [],
   "source": [
    "import tensorflow as tf"
   ],
   "metadata": {
    "collapsed": false
   }
  },
  {
   "cell_type": "code",
   "execution_count": null,
   "outputs": [],
   "source": [
    "# tf.keras.layers.Conv2D(groups=8)"
   ],
   "metadata": {
    "collapsed": false
   }
  }
 ],
 "metadata": {
  "kernelspec": {
   "display_name": "Python 3",
   "language": "python",
   "name": "python3"
  },
  "language_info": {
   "codemirror_mode": {
    "name": "ipython",
    "version": 2
   },
   "file_extension": ".py",
   "mimetype": "text/x-python",
   "name": "python",
   "nbconvert_exporter": "python",
   "pygments_lexer": "ipython2",
   "version": "2.7.6"
  }
 },
 "nbformat": 4,
 "nbformat_minor": 0
}
