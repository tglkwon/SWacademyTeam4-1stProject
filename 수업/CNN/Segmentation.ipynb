{
 "cells": [
  {
   "cell_type": "markdown",
   "source": [
    "# 11228\n",
    "# sematic segmentation + instance segmentation => panoptic segmentation\n",
    "# Semantic Segmenatation\n",
    "모든 점에서 classification을 하는 것\n",
    "=> embedding 하듯, encoding하듯, latent vector만들듯, representation을 찾는다.\n",
    "=> data를 더 낮은 차원의 featmap으로 각 클래스별로 재구성한다 - YOLO와 비슷한 개념\n",
    "\n",
    "- size 늘리는 기법 2가지\n",
    "1. upsampling : n배수로 늘려주므로 사이즈 조절이 쉽지 않다\n",
    "2. tranpose convolution : 사이즈 조절이 자유로우나\n",
    "\n",
    "convolution은 사이즈를 계속해서 축소시키기 때문에 layer를 많아 쌓다보면 막상 다시 확대시킬 때 문제가 생길 수 있다."
   ],
   "metadata": {
    "collapsed": false
   }
  },
  {
   "cell_type": "markdown",
   "source": [
    "# Feature Piramid Network\n",
    "YOLO는 학습한 사이즈'만' 잘 맞춘다.\n",
    "\n",
    "- neck(YOLO 4) : convolution하면서 사이즈를 줄이면서 backbone(어떤 feature가 있는지) + size  classification()을 같이 고려하는 여러가지 방법 중 하나.\n",
    "각 layer 단계에서 예측하는 것으로 크기별로 분류를 하려고 했다.\n",
    "\n",
    "neck을 global 정보와 local 정보를 같이 활용할 수 있게 구성함\n",
    "\n",
    "- Fully Convolution()\n",
    "- convolutionalization : FC를 1 by 1 convolution으로 바꾸는 기법\n",
    "    flatten을 안하기에 지역 정보를 잃는 문제가 없다. 2-D연산이라 연산량은 좀 더 크다\n",
    "\n",
    "# 포항공대(2014), UNet(2014)\n",
    "# Deconvolution Network - Transpose Convolution\n",
    "1. 단계적으로 사이즈 줄이는 그대로 단계적으로 사이즈를 늘린다.\n",
    "2. shortcut connection을 추가 - 압축할때의 layer(feature map)를 확대할때 쓴다.\n",
    "\n",
    "인코더-디코더 + shortcut connection\n",
    "\n",
    "- keras Unet example\n",
    "https://keras.io/examples/vision/oxford_pets_image_segmentation/"
   ],
   "metadata": {
    "collapsed": false
   }
  },
  {
   "cell_type": "markdown",
   "source": [
    "# Instance Segmentation\n",
    "object detection으로 접근 -> detection을 한 후 segmentation을 해보자\n",
    "\n",
    "detection 후 mask-rcnn(물체인지 아닌지 예측)하는 것으로\n",
    "\n",
    "크기 위치 detection할 때는 각 pixel별로 한게 아니기에 pixel 단위로 움직일 수 있게 조정이 있음(RoIAlign)"
   ],
   "metadata": {
    "collapsed": false
   }
  },
  {
   "cell_type": "markdown",
   "source": [
    "# panoptic segmentation(2018)"
   ],
   "metadata": {
    "collapsed": false
   }
  },
  {
   "cell_type": "markdown",
   "source": [
    "# DeepLab : 구글에서 인턴하다 대박난 모델\n",
    "Atrous Convolution(dilate convolution) : convolution map에서 pixel 사이즈에 0을 추가함으로 global 정보를 더 잘 알게 되었다.\n",
    "에트라우(프랑스어로 구멍이 있는)\n",
    "\n",
    "더 넓은 영역을 보기 때문에, 나중에 decoding할 때 복원이 잘 된다. 연산량을 증가시키지 않으면서 globality를 가질 수 있었다.\n",
    "\n",
    "## deeplab 1 : Semantic Image Segmentation with Deep Convolution Nets and Fully Connected CRFs\n",
    "- CRFs는 옛날 방법이라 결국 도움이 되지 않았다.\n",
    "## deeplab 2: DeepLab: Semantic Image Segmentation with Deep Convolutional Nets, Atrous Convolution, and Fully Connected CRFs\n"
   ],
   "metadata": {
    "collapsed": false
   }
  },
  {
   "cell_type": "code",
   "execution_count": null,
   "outputs": [],
   "source": [
    "import tensorflow as tf\n",
    "# atrous convolution -> dilation rate\n",
    "tf.keras.layers.Conv2D(dilation_rate=(2,2))"
   ],
   "metadata": {
    "collapsed": false
   }
  },
  {
   "cell_type": "markdown",
   "source": [
    "# 221129\n",
    "# HRNet\n",
    "layer를 stack하면서 output layer를 점점 늘리는 테크닉\n",
    "\n",
    "% XGBoosting vs deep learning - structured data라는 전제하에 xgboosting이 더욱 효과적임"
   ],
   "metadata": {
    "collapsed": false
   }
  }
 ],
 "metadata": {
  "kernelspec": {
   "display_name": "Python 3",
   "language": "python",
   "name": "python3"
  },
  "language_info": {
   "codemirror_mode": {
    "name": "ipython",
    "version": 2
   },
   "file_extension": ".py",
   "mimetype": "text/x-python",
   "name": "python",
   "nbconvert_exporter": "python",
   "pygments_lexer": "ipython2",
   "version": "2.7.6"
  }
 },
 "nbformat": 4,
 "nbformat_minor": 0
}
