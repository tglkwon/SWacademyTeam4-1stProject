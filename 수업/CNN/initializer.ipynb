{
 "cells": [
  {
   "cell_type": "markdown",
   "source": [
    "# 어떻게 초기값을 둘 것인가?\n",
    "1. 상수로 두는 경우\n",
    "똑같은 상수로 두면 문제가 생김. 대표적으로 0 - 학습이 안됨\n",
    "symmetric problem\n",
    "2. Breaking the symmetry - 가능한 랜덤으로 초기화하자\n",
    "ML은 -1~1에서 학습이 잘 되므로. 초기값을 그 범위에서 랜덤으로 고름.\n",
    "3. Xavier glorot (2010)이 주로 사용됨\n",
    "4. bias는 경험상 0으로 두는게 학습이 빠름\n",
    "\n",
    "bias 와 variance는 trade-off 관계이다\n",
    "\n",
    "$$\n",
    "glorot uniform = unif(-limit, limit), limit = sqrt(6 / (입력 체널 + 출력 체널))\n",
    "\n",
    "\n",
    "\n",
    "glorot normal = normal(mean=0, stddev), stddev = sqrt(2 / (입력 체널 + 출력 체널))\n",
    "$$"
   ],
   "metadata": {
    "collapsed": false
   }
  },
  {
   "cell_type": "code",
   "execution_count": 1,
   "outputs": [
    {
     "ename": "TypeError",
     "evalue": "Conv2D.__init__() missing 2 required positional arguments: 'filters' and 'kernel_size'",
     "output_type": "error",
     "traceback": [
      "\u001B[1;31m---------------------------------------------------------------------------\u001B[0m",
      "\u001B[1;31mTypeError\u001B[0m                                 Traceback (most recent call last)",
      "Cell \u001B[1;32mIn [1], line 2\u001B[0m\n\u001B[0;32m      1\u001B[0m \u001B[38;5;28;01mimport\u001B[39;00m \u001B[38;5;21;01mtensorflow\u001B[39;00m \u001B[38;5;28;01mas\u001B[39;00m \u001B[38;5;21;01mtf\u001B[39;00m\n\u001B[1;32m----> 2\u001B[0m tf\u001B[38;5;241m.\u001B[39mkeras\u001B[38;5;241m.\u001B[39mlayers\u001B[38;5;241m.\u001B[39mConv2D(kernel_initializer\u001B[38;5;241m=\u001B[39m\u001B[38;5;124m'\u001B[39m\u001B[38;5;124mglorot_uniform\u001B[39m\u001B[38;5;124m'\u001B[39m, bias_initializer\u001B[38;5;241m=\u001B[39m\u001B[38;5;124m'\u001B[39m\u001B[38;5;124mzeros\u001B[39m\u001B[38;5;124m'\u001B[39m)\n",
      "File \u001B[1;32m~\\AppData\\Roaming\\Python\\Python310\\site-packages\\keras\\dtensor\\utils.py:96\u001B[0m, in \u001B[0;36mallow_initializer_layout.<locals>._wrap_function\u001B[1;34m(layer_instance, *args, **kwargs)\u001B[0m\n\u001B[0;32m     93\u001B[0m         \u001B[38;5;28;01mif\u001B[39;00m layout:\n\u001B[0;32m     94\u001B[0m             layout_args[variable_name \u001B[38;5;241m+\u001B[39m \u001B[38;5;124m\"\u001B[39m\u001B[38;5;124m_layout\u001B[39m\u001B[38;5;124m\"\u001B[39m] \u001B[38;5;241m=\u001B[39m layout\n\u001B[1;32m---> 96\u001B[0m init_method(layer_instance, \u001B[38;5;241m*\u001B[39margs, \u001B[38;5;241m*\u001B[39m\u001B[38;5;241m*\u001B[39mkwargs)\n\u001B[0;32m     98\u001B[0m \u001B[38;5;66;03m# Inject the layout parameter after the invocation of __init__()\u001B[39;00m\n\u001B[0;32m     99\u001B[0m \u001B[38;5;28;01mfor\u001B[39;00m layout_param_name, layout \u001B[38;5;129;01min\u001B[39;00m layout_args\u001B[38;5;241m.\u001B[39mitems():\n",
      "\u001B[1;31mTypeError\u001B[0m: Conv2D.__init__() missing 2 required positional arguments: 'filters' and 'kernel_size'"
     ]
    }
   ],
   "source": [
    "import tensorflow as tf\n",
    "tf.keras.layers.Conv2D(kernel_initializer='glorot_uniform', bias_initializer='zeros')"
   ],
   "metadata": {
    "collapsed": false
   }
  },
  {
   "cell_type": "markdown",
   "source": [
    "# transfer learning - 이미 학습된 지식(layer)를 가져와 사용하는 방법\n",
    "1. 데이터가 적을 때 사용할 수 있는 방법\n",
    "2. specific 한 구분을 할때(fine tuning) - 개, 고양이 정도가 아니라 종명을 맟추고 싶을때\n",
    "3. general model의 category를 늘릴 때\n",
    "4. CNN같이 시각의 경우 cnn layer가 계층별로 개념을 표현한다고 해석할 수 있는데, 낮은 계층의 layer는 어차피 비슷비슷하기에 다른 모델에서 만든건 가져다쓰면 학습이 효율적일 것이다."
   ],
   "metadata": {
    "collapsed": false
   }
  },
  {
   "cell_type": "markdown",
   "source": [],
   "metadata": {
    "collapsed": false
   }
  }
 ],
 "metadata": {
  "kernelspec": {
   "display_name": "Python 3",
   "language": "python",
   "name": "python3"
  },
  "language_info": {
   "codemirror_mode": {
    "name": "ipython",
    "version": 2
   },
   "file_extension": ".py",
   "mimetype": "text/x-python",
   "name": "python",
   "nbconvert_exporter": "python",
   "pygments_lexer": "ipython2",
   "version": "2.7.6"
  }
 },
 "nbformat": 4,
 "nbformat_minor": 0
}
