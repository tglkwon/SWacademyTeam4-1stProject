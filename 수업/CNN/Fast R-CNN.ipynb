{
 "cells": [
  {
   "cell_type": "markdown",
   "source": [
    "# 221121\n",
    "multioutput에 모델 일부 구현 및 테크닉들이 들어있음"
   ],
   "metadata": {
    "collapsed": false
   }
  },
  {
   "cell_type": "markdown",
   "source": [
    "# Multi-task loss\n",
    "물체 classification하는 문제와 위치를 추정하는 regression 문제를 각각 loss 계산하게 함\n",
    "# Mini-batch sampling technique\n",
    "임의의 이미지 2장 뽑고, ROI 128구역만 각 64 구역만 뽑는다.\n",
    "정답과 50% 이상 겹치는 것을 새로운 정답이라고 만들어서 정답(목표 물체) 비율을 25%까지 올려 새로운 데이터셋으로 만드는 테크닉"
   ],
   "metadata": {
    "collapsed": false
   }
  }
 ],
 "metadata": {
  "kernelspec": {
   "display_name": "Python 3",
   "language": "python",
   "name": "python3"
  },
  "language_info": {
   "codemirror_mode": {
    "name": "ipython",
    "version": 2
   },
   "file_extension": ".py",
   "mimetype": "text/x-python",
   "name": "python",
   "nbconvert_exporter": "python",
   "pygments_lexer": "ipython2",
   "version": "2.7.6"
  }
 },
 "nbformat": 4,
 "nbformat_minor": 0
}
