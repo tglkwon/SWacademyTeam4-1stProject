{
 "cells": [
  {
   "cell_type": "markdown",
   "source": [
    "# Network in network\n",
    "\n",
    "one by one convolution => multi-layer perceptron의 역할을 할 수 있다. 학습과 예측을 시킬 수 있다.\n",
    "차원을 조절하는데 쓴다\n",
    "-> 크기 변경없지 non-linearity를 추가시키고 싶은때 쓴다.\n",
    "  layer = network\n",
    "\n",
    "- pooling: spartial한 정보를 줄인다."
   ],
   "metadata": {
    "collapsed": false
   }
  },
  {
   "cell_type": "code",
   "execution_count": 2,
   "outputs": [],
   "source": [
    "import tensorflow as tf\n",
    "(X_train, y_train), (X_test, y_test) = tf.keras.datasets.mnist.load_data()\n",
    "X_train = X_train[..., tf.newaxis]"
   ],
   "metadata": {
    "collapsed": false
   }
  },
  {
   "cell_type": "code",
   "execution_count": 22,
   "outputs": [],
   "source": [
    "input_ = tf.keras.Input((28,28,1))\n",
    "x = tf.keras.layers.Conv2D(32,3)(input_)\n",
    "# x = tf.keras.layers.Conv2D(32,3)(x)\n",
    "\n",
    "x = tf.keras.layers.Conv2D(16,1)(x)\n",
    "x = tf.keras.layers.Conv2D(32,3)(x)\n",
    "\n",
    "x = tf.keras.layers.MaxPool2D(3,2)(x)\n",
    "x = tf.keras.layers.GlobalAvgPool2D()(x)\n",
    "model = tf.keras.Model(input_, x)"
   ],
   "metadata": {
    "collapsed": false
   }
  },
  {
   "cell_type": "code",
   "execution_count": 23,
   "outputs": [
    {
     "name": "stdout",
     "output_type": "stream",
     "text": [
      "Model: \"model_9\"\n",
      "_________________________________________________________________\n",
      " Layer (type)                Output Shape              Param #   \n",
      "=================================================================\n",
      " input_11 (InputLayer)       [(None, 28, 28, 1)]       0         \n",
      "                                                                 \n",
      " conv2d_21 (Conv2D)          (None, 26, 26, 32)        320       \n",
      "                                                                 \n",
      " conv2d_22 (Conv2D)          (None, 26, 26, 16)        528       \n",
      "                                                                 \n",
      " conv2d_23 (Conv2D)          (None, 24, 24, 32)        4640      \n",
      "                                                                 \n",
      " max_pooling2d_6 (MaxPooling  (None, 11, 11, 32)       0         \n",
      " 2D)                                                             \n",
      "                                                                 \n",
      " global_average_pooling2d_5   (None, 32)               0         \n",
      " (GlobalAveragePooling2D)                                        \n",
      "                                                                 \n",
      "=================================================================\n",
      "Total params: 5,488\n",
      "Trainable params: 5,488\n",
      "Non-trainable params: 0\n",
      "_________________________________________________________________\n"
     ]
    }
   ],
   "source": [
    "model.summary()"
   ],
   "metadata": {
    "collapsed": false
   }
  },
  {
   "cell_type": "markdown",
   "source": [
    "# model stacking\n",
    "layer의 집합을 하나의 단위로 반복(stack)함. 뉴런도 비슷한 애들끼리 근처에 있을테니까\n",
    "\n",
    "# Global Average Pooling\n",
    "Flatten을 대체할 수 있는 방법론. 변수의 양을 확 줄여서 연산량을 줄이는 효과가 있다. 데이터의 양이나 목표에 따라 선택하면 된다."
   ],
   "metadata": {
    "collapsed": false
   }
  }
 ],
 "metadata": {
  "kernelspec": {
   "display_name": "Python 3",
   "language": "python",
   "name": "python3"
  },
  "language_info": {
   "codemirror_mode": {
    "name": "ipython",
    "version": 2
   },
   "file_extension": ".py",
   "mimetype": "text/x-python",
   "name": "python",
   "nbconvert_exporter": "python",
   "pygments_lexer": "ipython2",
   "version": "2.7.6"
  }
 },
 "nbformat": 4,
 "nbformat_minor": 0
}
