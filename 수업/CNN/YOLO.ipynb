{
 "cells": [
  {
   "cell_type": "markdown",
   "source": [
    "# You Only Look Once\n",
    "object dectection -> regression으로 관점을 바꿈"
   ],
   "metadata": {
    "collapsed": false
   }
  },
  {
   "cell_type": "markdown",
   "source": [
    "objection dection -> image classify + 위치 추정 -> 한 번에 예측하는 모델로 만들어보자\n",
    "\n",
    "데이터 이미지 size 448*448로 맞춤\n",
    "1. 7*7 grid로 나누어 2개의 크기를 예측하면서, 물체인지 아닌지 예측함\n",
    "2. 각 크기별로 물체의 위치를 예측하면서 물체가 있을 경우가 많으면 bound를 잡고,\n",
    "이미지 영역에서 어떤 물체일지 class probability map을 그림\n",
    "3. 2번의 연산결과를 합침\n",
    "\n",
    "- 정확도는 좀 떨어지지만, 초 당 연산가능한 프레임 수가 많다. 45 ~ 155(fast yolo) frame\n",
    "- 작은 크기의 물체 찾기, false positive가 해결되지 않음\n",
    "\n",
    "- convolution의 특징상 그림의 사람과 사진의 사람들 다 사람이라고 판단할 수 있지만\n",
    "현대의(20년대) 상황에서는 더 이상 장점이 아니게 됨"
   ],
   "metadata": {
    "collapsed": false
   }
  },
  {
   "cell_type": "markdown",
   "source": [],
   "metadata": {
    "collapsed": false
   }
  },
  {
   "cell_type": "markdown",
   "source": [
    "# 221122\n",
    "GoogLeNet에 영향을 받았지만 inception은 없음 - 학습이 어려움\n",
    "\n",
    "convolution이 예측도 할 수 있다는 것은 그 당시(2015) 잘 알려지지 않았다.\n",
    "1 by 1 convolution의 특징\n",
    "1. 2D fully connected layer -> NN과 같은 역할 -> 학습 layer 사용 가능\n",
    "2. 차원의 수를 조절 가능 -> 일반적으로 parameter 수를 줄이는 테크닉으로 사용\n",
    "3. layer만 추가 시키고 싶은 경우 -> nonlinearty를 높여 파라미터 수를 늘리지 않고 모델의 복잡도(-성능)을 올릴 수 있다."
   ],
   "metadata": {
    "collapsed": false
   }
  },
  {
   "cell_type": "markdown",
   "source": [
    "YOLO => 박스를 찾고 NMS를 사용함\n",
    "\n",
    "% ML에서 L2 loss를 weight decay라고 부름\n",
    "stochastic weight decay : train error를 빠르게 줄여줌 - AlexNet(2012)\n",
    "% 학습하다 loss가 더 줄어들지 않을 때의 테크닉 : learning rate를 1/10으로 줄여본다.\n",
    "% VOC 데이터 살펴보기, MS-COCO"
   ],
   "metadata": {
    "collapsed": false
   }
  }
 ],
 "metadata": {
  "kernelspec": {
   "display_name": "Python 3",
   "language": "python",
   "name": "python3"
  },
  "language_info": {
   "codemirror_mode": {
    "name": "ipython",
    "version": 2
   },
   "file_extension": ".py",
   "mimetype": "text/x-python",
   "name": "python",
   "nbconvert_exporter": "python",
   "pygments_lexer": "ipython2",
   "version": "2.7.6"
  }
 },
 "nbformat": 4,
 "nbformat_minor": 0
}
