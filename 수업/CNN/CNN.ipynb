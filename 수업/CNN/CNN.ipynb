{
 "cells": [
  {
   "cell_type": "code",
   "execution_count": null,
   "outputs": [],
   "source": [
    "import numpy as np\n",
    "a = np.arange(24).reshape(4,6)"
   ],
   "metadata": {
    "collapsed": false
   }
  },
  {
   "cell_type": "code",
   "execution_count": null,
   "outputs": [],
   "source": [
    "a"
   ],
   "metadata": {
    "collapsed": false
   }
  },
  {
   "cell_type": "code",
   "execution_count": null,
   "metadata": {
    "collapsed": true
   },
   "outputs": [],
   "source": [
    "a.flatten()"
   ]
  },
  {
   "cell_type": "code",
   "execution_count": 4,
   "outputs": [],
   "source": [
    "import tensorflow as tf\n",
    "import matplotlib.pyplot as plt"
   ],
   "metadata": {
    "collapsed": false
   }
  },
  {
   "cell_type": "code",
   "execution_count": null,
   "outputs": [],
   "source": [
    "(X_train, y_train), (X_test, y_test) = tf.keras.datasets.mnist.load_data()\n",
    "plt.imshow(X_train[11], cmap='gray')"
   ],
   "metadata": {
    "collapsed": false
   }
  },
  {
   "cell_type": "markdown",
   "source": [
    "CNN feature extractor : 이미지는 위치 자체가 중요한 정보를 가지므로 column간 독립적이지 않다 -> 1-d로 그냥 바꾸면 공간에 대한 정보를 잃어버린다.\n",
    "전통적 머신 러닝 방법에서는 PCA 등을 이용하여 차원을 낮추는 테크닉을 사용한다\n",
    "\n",
    "이미지에서 feature는 로컬 또는 글로벌 정보를 말한다\n",
    "\n",
    "89년에 만들어진 convolution 기법 - 전통적인 1차원 모델 - 신호처리에서 사용되던 기법"
   ],
   "metadata": {
    "collapsed": false
   }
  },
  {
   "cell_type": "code",
   "execution_count": 10,
   "outputs": [],
   "source": [
    "from scipy.signal import correlate, convolve"
   ],
   "metadata": {
    "collapsed": false
   }
  },
  {
   "cell_type": "code",
   "execution_count": 15,
   "outputs": [],
   "source": [
    "a = np.array([1,2,3])\n",
    "b = np.array([-1,0,1])"
   ],
   "metadata": {
    "collapsed": false
   }
  },
  {
   "cell_type": "code",
   "execution_count": 17,
   "outputs": [
    {
     "data": {
      "text/plain": "array([2])"
     },
     "execution_count": 17,
     "metadata": {},
     "output_type": "execute_result"
    }
   ],
   "source": [
    "# full 방식 1 2 3\n",
    "#     -1 0 1        -> 1\n",
    "#       -1 0 1      -> 2\n",
    "#           ...\n",
    "# same 원래 비교하는 자료 사이즈와 같은 사이즈로 나오게함\n",
    "# valid 값이 하나만 나옴 => 내적과 계산방식이 같음\n",
    "correlate(a,b, mode='valid')\n"
   ],
   "metadata": {
    "collapsed": false
   }
  },
  {
   "cell_type": "code",
   "execution_count": 19,
   "outputs": [
    {
     "data": {
      "text/plain": "array([-1, -2, -2,  2,  3])"
     },
     "execution_count": 19,
     "metadata": {},
     "output_type": "execute_result"
    }
   ],
   "source": [
    "convolve(a,b, mode='full')\n",
    "# 좌우 반전을 하고 correlation 연산하는 것"
   ],
   "metadata": {
    "collapsed": false
   }
  },
  {
   "cell_type": "code",
   "execution_count": 26,
   "outputs": [],
   "source": [
    "from scipy.signal import convolve2d, correlate2d"
   ],
   "metadata": {
    "collapsed": false
   }
  },
  {
   "cell_type": "code",
   "execution_count": 28,
   "outputs": [],
   "source": [
    "aa = np.arange(36).reshape(6,6)\n",
    "bb = np.array([[1,0,1], [0,1,0], [1,0,1]])"
   ],
   "metadata": {
    "collapsed": false
   }
  },
  {
   "cell_type": "code",
   "execution_count": 29,
   "outputs": [
    {
     "data": {
      "text/plain": "array([[ 35,  40,  45,  50],\n       [ 65,  70,  75,  80],\n       [ 95, 100, 105, 110],\n       [125, 130, 135, 140]])"
     },
     "execution_count": 29,
     "metadata": {},
     "output_type": "execute_result"
    }
   ],
   "source": [
    "correlate2d(aa, bb, mode='valid')"
   ],
   "metadata": {
    "collapsed": false
   }
  },
  {
   "cell_type": "code",
   "execution_count": null,
   "outputs": [],
   "source": [
    "# convolve2d()는 필터이다"
   ],
   "metadata": {
    "collapsed": false
   }
  },
  {
   "cell_type": "code",
   "execution_count": null,
   "outputs": [],
   "source": [
    "# 2차원 convolution은 가로, 세로 둘 다 반전한다."
   ],
   "metadata": {
    "collapsed": false
   }
  },
  {
   "cell_type": "markdown",
   "source": [
    "translational invariance; 위치를 바꿔도 바뀌지 않는 특성\n",
    "rotational invariance: 회전 시켜도 바뀌지 않는 특성\n",
    "equivalance : 위치 빼고 나머지가 완전히 같음\n",
    "\n",
    "convolution은 equivalance한 연산이다.\n",
    "stationarity : 정상성, convolutional equivalant\n",
    "\n",
    "독립성의 문제를 해결함. Convol을 통해서 특정 feature의 유무를 classification하는 문제로 변환함"
   ],
   "metadata": {
    "collapsed": false
   }
  },
  {
   "cell_type": "markdown",
   "source": [
    "https://transcranial.github.io/keras-js/#/"
   ],
   "metadata": {
    "collapsed": false
   }
  },
  {
   "cell_type": "code",
   "execution_count": 30,
   "outputs": [
    {
     "name": "stdout",
     "output_type": "stream",
     "text": [
      "Model: \"model\"\n",
      "_________________________________________________________________\n",
      " Layer (type)                Output Shape              Param #   \n",
      "=================================================================\n",
      " input_1 (InputLayer)        [(28, 28)]                0         \n",
      "                                                                 \n",
      " dense (Dense)               (28, 128)                 3712      \n",
      "                                                                 \n",
      " dense_1 (Dense)             (28, 10)                  1290      \n",
      "                                                                 \n",
      "=================================================================\n",
      "Total params: 5,002\n",
      "Trainable params: 5,002\n",
      "Non-trainable params: 0\n",
      "_________________________________________________________________\n"
     ]
    }
   ],
   "source": [
    "tf.keras.layers.Conv2D(32, 3)\n",
    "\n",
    "\n",
    "input_ = tf.keras.Input(28,28)\n",
    "x = tf.keras.layers.Dense(128, activation='relu')(input_)\n",
    "x = tf.keras.layers.Dense(10, activation='relu')(x)\n",
    "\n",
    "model = tf.keras.Model(input_, x)\n",
    "model.summary()"
   ],
   "metadata": {
    "collapsed": false
   }
  },
  {
   "cell_type": "code",
   "execution_count": 32,
   "outputs": [
    {
     "name": "stdout",
     "output_type": "stream",
     "text": [
      "Model: \"model_2\"\n",
      "_________________________________________________________________\n",
      " Layer (type)                Output Shape              Param #   \n",
      "=================================================================\n",
      " input_3 (InputLayer)        [(None, 28, 28, 1)]       0         \n",
      "                                                                 \n",
      " conv2d_2 (Conv2D)           (None, 26, 26, 32)        320       \n",
      "                                                                 \n",
      "=================================================================\n",
      "Total params: 320\n",
      "Trainable params: 320\n",
      "Non-trainable params: 0\n",
      "_________________________________________________________________\n"
     ]
    }
   ],
   "source": [
    "#tf와 torch의 이미지 데이터는 기본적으로 3차원 데이터셋 width, height, color로 다룬다.\n",
    "\n",
    "X_train = X_train[..., tf.newaxis]\n",
    "input_ = tf.keras.Input((28,28,1))\n",
    "x = tf.keras.layers.Conv2D(32,3, padding='same')(input_)\n",
    "model = tf.keras.Model(input_, x)\n",
    "model.summary()"
   ],
   "metadata": {
    "collapsed": false
   }
  },
  {
   "cell_type": "code",
   "execution_count": null,
   "outputs": [],
   "source": [],
   "metadata": {
    "collapsed": false
   }
  },
  {
   "cell_type": "code",
   "execution_count": 5,
   "outputs": [
    {
     "name": "stdout",
     "output_type": "stream",
     "text": [
      "2.10.0\n"
     ]
    },
    {
     "data": {
      "text/plain": "[name: \"/device:CPU:0\"\n device_type: \"CPU\"\n memory_limit: 268435456\n locality {\n }\n incarnation: 793084907379388164\n xla_global_id: -1]"
     },
     "execution_count": 5,
     "metadata": {},
     "output_type": "execute_result"
    }
   ],
   "source": [
    "import tensorflow as tf\n",
    "print(tf.__version__)\n",
    "from tensorflow.python.client import device_lib\n",
    "device_lib.list_local_devices()"
   ],
   "metadata": {
    "collapsed": false
   }
  }
 ],
 "metadata": {
  "kernelspec": {
   "display_name": "Python 3",
   "language": "python",
   "name": "python3"
  },
  "language_info": {
   "codemirror_mode": {
    "name": "ipython",
    "version": 2
   },
   "file_extension": ".py",
   "mimetype": "text/x-python",
   "name": "python",
   "nbconvert_exporter": "python",
   "pygments_lexer": "ipython2",
   "version": "2.7.6"
  }
 },
 "nbformat": 4,
 "nbformat_minor": 0
}
