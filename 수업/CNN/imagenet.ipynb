{
 "cells": [
  {
   "cell_type": "code",
   "execution_count": 1,
   "metadata": {
    "collapsed": true
   },
   "outputs": [],
   "source": [
    "import tensorflow as tf\n"
   ]
  },
  {
   "cell_type": "code",
   "execution_count": 2,
   "outputs": [],
   "source": [
    "(X_train, y_train), (X_test, y_test) = tf.keras.datasets.mnist.load_data()"
   ],
   "metadata": {
    "collapsed": false
   }
  },
  {
   "cell_type": "code",
   "execution_count": 3,
   "outputs": [],
   "source": [
    "X_train = X_train.reshape(-1,28,28,1)\n",
    "input_ = tf.keras.Input((28,28,1))"
   ],
   "metadata": {
    "collapsed": false
   }
  },
  {
   "cell_type": "code",
   "execution_count": 5,
   "outputs": [],
   "source": [
    "x = tf.keras.layers.Conv2D(32, 3, strides=(2,2),activation='relu')(input_)\n",
    "# x = tf.keras.layers.MaxPool2D((2,2), strides=2)(x)\n",
    "x = tf.keras.layers.Conv2D(32, 3, activation='relu')(x)\n",
    "x = tf.keras.layers.Conv2D(32, 3, activation='relu')(x)\n",
    "x = tf.keras.layers.Flatten()(x)\n",
    "x = tf.keras.layers.Dense(128, activation='relu')(x)\n",
    "x = tf.keras.layers.Dense(10, activation='softmax')(x)"
   ],
   "metadata": {
    "collapsed": false
   }
  },
  {
   "cell_type": "code",
   "execution_count": 7,
   "outputs": [
    {
     "name": "stdout",
     "output_type": "stream",
     "text": [
      "Model: \"model_1\"\n",
      "_________________________________________________________________\n",
      " Layer (type)                Output Shape              Param #   \n",
      "=================================================================\n",
      " input_1 (InputLayer)        [(None, 28, 28, 1)]       0         \n",
      "                                                                 \n",
      " conv2d_1 (Conv2D)           (None, 26, 26, 32)        320       \n",
      "                                                                 \n",
      " conv2d_2 (Conv2D)           (None, 24, 24, 32)        9248      \n",
      "                                                                 \n",
      " conv2d_3 (Conv2D)           (None, 22, 22, 32)        9248      \n",
      "                                                                 \n",
      " flatten (Flatten)           (None, 15488)             0         \n",
      "                                                                 \n",
      " dense (Dense)               (None, 128)               1982592   \n",
      "                                                                 \n",
      " dense_1 (Dense)             (None, 10)                1290      \n",
      "                                                                 \n",
      "=================================================================\n",
      "Total params: 2,002,698\n",
      "Trainable params: 2,002,698\n",
      "Non-trainable params: 0\n",
      "_________________________________________________________________\n"
     ]
    }
   ],
   "source": [
    "model = tf.keras.models.Model(input_, x)\n",
    "model.summary()"
   ],
   "metadata": {
    "collapsed": false
   }
  },
  {
   "cell_type": "code",
   "execution_count": 20,
   "outputs": [],
   "source": [
    "input_ = tf.keras.Input((32, 32, 1))\n",
    "x = tf.keras.layers.Conv2D(6, 5, activation='relu')(input_)\n",
    "x = tf.keras.layers.AvgPool2D((2,2), strides=2)(x)\n",
    "x = tf.keras.layers.Conv2D(16, 5, activation='relu')(x)\n",
    "x = tf.keras.layers.MaxPool2D()(x)\n",
    "x = tf.keras.layers.Flatten()(x)\n",
    "x = tf.keras.layers.Dense(128, activation='relu')(x)\n",
    "x = tf.keras.layers.Dense(84, activation='relu')(x)\n",
    "x = tf.keras.layers.Dense(10, activation='softmax')(x)"
   ],
   "metadata": {
    "collapsed": false
   }
  },
  {
   "cell_type": "code",
   "execution_count": 21,
   "outputs": [
    {
     "name": "stdout",
     "output_type": "stream",
     "text": [
      "Model: \"model_8\"\n",
      "_________________________________________________________________\n",
      " Layer (type)                Output Shape              Param #   \n",
      "=================================================================\n",
      " input_8 (InputLayer)        [(None, 32, 32, 1)]       0         \n",
      "                                                                 \n",
      " conv2d_18 (Conv2D)          (None, 28, 28, 6)         156       \n",
      "                                                                 \n",
      " average_pooling2d_7 (Averag  (None, 14, 14, 6)        0         \n",
      " ePooling2D)                                                     \n",
      "                                                                 \n",
      " conv2d_19 (Conv2D)          (None, 10, 10, 16)        2416      \n",
      "                                                                 \n",
      " max_pooling2d_2 (MaxPooling  (None, 5, 5, 16)         0         \n",
      " 2D)                                                             \n",
      "                                                                 \n",
      " flatten_7 (Flatten)         (None, 400)               0         \n",
      "                                                                 \n",
      " dense_18 (Dense)            (None, 128)               51328     \n",
      "                                                                 \n",
      " dense_19 (Dense)            (None, 84)                10836     \n",
      "                                                                 \n",
      " dense_20 (Dense)            (None, 10)                850       \n",
      "                                                                 \n",
      "=================================================================\n",
      "Total params: 65,586\n",
      "Trainable params: 65,586\n",
      "Non-trainable params: 0\n",
      "_________________________________________________________________\n"
     ]
    }
   ],
   "source": [
    "model = tf.keras.models.Model(input_, x)\n",
    "model.summary()"
   ],
   "metadata": {
    "collapsed": false
   }
  },
  {
   "cell_type": "markdown",
   "source": [
    "# 2014 VGG에서 밝혀낸 결과\n",
    "local response normalization은 효과가 없었다."
   ],
   "metadata": {
    "collapsed": false
   }
  },
  {
   "cell_type": "code",
   "execution_count": null,
   "outputs": [
    {
     "ename": "ResourceExhaustedError",
     "evalue": "{{function_node __wrapped__Mul_device_/job:localhost/replica:0/task:0/device:CPU:0}} OOM when allocating tensor with shape[774400,4096] and type float on /job:localhost/replica:0/task:0/device:CPU:0 by allocator cpu [Op:Mul]",
     "output_type": "error",
     "traceback": [
      "\u001B[1;31m---------------------------------------------------------------------------\u001B[0m",
      "\u001B[1;31mResourceExhaustedError\u001B[0m                    Traceback (most recent call last)",
      "Cell \u001B[1;32mIn [24], line 13\u001B[0m\n\u001B[0;32m     11\u001B[0m \u001B[38;5;66;03m# x = tf.keras.layers.MaxPool2D((3,3))(x)\u001B[39;00m\n\u001B[0;32m     12\u001B[0m x \u001B[38;5;241m=\u001B[39m tf\u001B[38;5;241m.\u001B[39mkeras\u001B[38;5;241m.\u001B[39mlayers\u001B[38;5;241m.\u001B[39mFlatten()(x)\n\u001B[1;32m---> 13\u001B[0m x \u001B[38;5;241m=\u001B[39m tf\u001B[38;5;241m.\u001B[39mkeras\u001B[38;5;241m.\u001B[39mlayers\u001B[38;5;241m.\u001B[39mDense(\u001B[38;5;241m4096\u001B[39m, activation\u001B[38;5;241m=\u001B[39m\u001B[38;5;124m'\u001B[39m\u001B[38;5;124mrelu\u001B[39m\u001B[38;5;124m'\u001B[39m)(x)\n\u001B[0;32m     14\u001B[0m x \u001B[38;5;241m=\u001B[39m tf\u001B[38;5;241m.\u001B[39mkeras\u001B[38;5;241m.\u001B[39mlayers\u001B[38;5;241m.\u001B[39mDense(\u001B[38;5;241m4096\u001B[39m, activation\u001B[38;5;241m=\u001B[39m\u001B[38;5;124m'\u001B[39m\u001B[38;5;124mrelu\u001B[39m\u001B[38;5;124m'\u001B[39m)(x)\n\u001B[0;32m     15\u001B[0m x \u001B[38;5;241m=\u001B[39m tf\u001B[38;5;241m.\u001B[39mkeras\u001B[38;5;241m.\u001B[39mlayers\u001B[38;5;241m.\u001B[39mDense(\u001B[38;5;241m1000\u001B[39m, activation\u001B[38;5;241m=\u001B[39m\u001B[38;5;124m'\u001B[39m\u001B[38;5;124msoftmax\u001B[39m\u001B[38;5;124m'\u001B[39m)(x)\n",
      "File \u001B[1;32m~\\AppData\\Roaming\\Python\\Python310\\site-packages\\keras\\utils\\traceback_utils.py:70\u001B[0m, in \u001B[0;36mfilter_traceback.<locals>.error_handler\u001B[1;34m(*args, **kwargs)\u001B[0m\n\u001B[0;32m     67\u001B[0m     filtered_tb \u001B[38;5;241m=\u001B[39m _process_traceback_frames(e\u001B[38;5;241m.\u001B[39m__traceback__)\n\u001B[0;32m     68\u001B[0m     \u001B[38;5;66;03m# To get the full stack trace, call:\u001B[39;00m\n\u001B[0;32m     69\u001B[0m     \u001B[38;5;66;03m# `tf.debugging.disable_traceback_filtering()`\u001B[39;00m\n\u001B[1;32m---> 70\u001B[0m     \u001B[38;5;28;01mraise\u001B[39;00m e\u001B[38;5;241m.\u001B[39mwith_traceback(filtered_tb) \u001B[38;5;28;01mfrom\u001B[39;00m \u001B[38;5;28mNone\u001B[39m\n\u001B[0;32m     71\u001B[0m \u001B[38;5;28;01mfinally\u001B[39;00m:\n\u001B[0;32m     72\u001B[0m     \u001B[38;5;28;01mdel\u001B[39;00m filtered_tb\n",
      "File \u001B[1;32m~\\AppData\\Roaming\\Python\\Python310\\site-packages\\keras\\backend.py:2100\u001B[0m, in \u001B[0;36mRandomGenerator.random_uniform\u001B[1;34m(self, shape, minval, maxval, dtype, nonce)\u001B[0m\n\u001B[0;32m   2098\u001B[0m     \u001B[38;5;28;01mif\u001B[39;00m nonce:\n\u001B[0;32m   2099\u001B[0m         seed \u001B[38;5;241m=\u001B[39m tf\u001B[38;5;241m.\u001B[39mrandom\u001B[38;5;241m.\u001B[39mexperimental\u001B[38;5;241m.\u001B[39mstateless_fold_in(seed, nonce)\n\u001B[1;32m-> 2100\u001B[0m     \u001B[38;5;28;01mreturn\u001B[39;00m \u001B[43mtf\u001B[49m\u001B[38;5;241;43m.\u001B[39;49m\u001B[43mrandom\u001B[49m\u001B[38;5;241;43m.\u001B[39;49m\u001B[43mstateless_uniform\u001B[49m\u001B[43m(\u001B[49m\n\u001B[0;32m   2101\u001B[0m \u001B[43m        \u001B[49m\u001B[43mshape\u001B[49m\u001B[38;5;241;43m=\u001B[39;49m\u001B[43mshape\u001B[49m\u001B[43m,\u001B[49m\n\u001B[0;32m   2102\u001B[0m \u001B[43m        \u001B[49m\u001B[43mminval\u001B[49m\u001B[38;5;241;43m=\u001B[39;49m\u001B[43mminval\u001B[49m\u001B[43m,\u001B[49m\n\u001B[0;32m   2103\u001B[0m \u001B[43m        \u001B[49m\u001B[43mmaxval\u001B[49m\u001B[38;5;241;43m=\u001B[39;49m\u001B[43mmaxval\u001B[49m\u001B[43m,\u001B[49m\n\u001B[0;32m   2104\u001B[0m \u001B[43m        \u001B[49m\u001B[43mdtype\u001B[49m\u001B[38;5;241;43m=\u001B[39;49m\u001B[43mdtype\u001B[49m\u001B[43m,\u001B[49m\n\u001B[0;32m   2105\u001B[0m \u001B[43m        \u001B[49m\u001B[43mseed\u001B[49m\u001B[38;5;241;43m=\u001B[39;49m\u001B[43mseed\u001B[49m\u001B[43m,\u001B[49m\n\u001B[0;32m   2106\u001B[0m \u001B[43m    \u001B[49m\u001B[43m)\u001B[49m\n\u001B[0;32m   2107\u001B[0m \u001B[38;5;28;01mreturn\u001B[39;00m tf\u001B[38;5;241m.\u001B[39mrandom\u001B[38;5;241m.\u001B[39muniform(\n\u001B[0;32m   2108\u001B[0m     shape\u001B[38;5;241m=\u001B[39mshape,\n\u001B[0;32m   2109\u001B[0m     minval\u001B[38;5;241m=\u001B[39mminval,\n\u001B[1;32m   (...)\u001B[0m\n\u001B[0;32m   2112\u001B[0m     seed\u001B[38;5;241m=\u001B[39m\u001B[38;5;28mself\u001B[39m\u001B[38;5;241m.\u001B[39mmake_legacy_seed(),\n\u001B[0;32m   2113\u001B[0m )\n",
      "\u001B[1;31mResourceExhaustedError\u001B[0m: {{function_node __wrapped__Mul_device_/job:localhost/replica:0/task:0/device:CPU:0}} OOM when allocating tensor with shape[774400,4096] and type float on /job:localhost/replica:0/task:0/device:CPU:0 by allocator cpu [Op:Mul]"
     ]
    }
   ],
   "source": [
    "# 2012 alexNet 구현하기\n",
    "input_ = tf.keras.Input((227, 227, 3))\n",
    "x = tf.keras.layers.Conv2D(96, 11, strides=4, activation='relu')(input_)\n",
    "x = tf.keras.layers.Conv2D(256, 5, padding='same', activation='relu')(x)\n",
    "# x = tf.keras.layers.MaxPool2D((5,5))(x)\n",
    "# x = tf.keras.layers.Conv2D(16, 5, activation='relu')(x)\n",
    "# x = tf.keras.layers.MaxPool2D((3,3))(x)\n",
    "x = tf.keras.layers.Conv2D(384, 3, padding='same', activation='relu')(x)\n",
    "x = tf.keras.layers.Conv2D(384, 3, padding='same', activation='relu')(x)\n",
    "x = tf.keras.layers.Conv2D(256, 3, padding='same', activation='relu')(x)\n",
    "# x = tf.keras.layers.MaxPool2D((3,3))(x)\n",
    "x = tf.keras.layers.Flatten()(x)\n",
    "x = tf.keras.layers.Dense(4096, activation='relu')(x)\n",
    "x = tf.keras.layers.Dense(4096, activation='relu')(x)\n",
    "x = tf.keras.layers.Dense(1000, activation='softmax')(x)"
   ],
   "metadata": {
    "collapsed": false
   }
  },
  {
   "cell_type": "code",
   "execution_count": 25,
   "outputs": [
    {
     "name": "stdout",
     "output_type": "stream",
     "text": [
      "Model: \"model_10\"\n",
      "_________________________________________________________________\n",
      " Layer (type)                Output Shape              Param #   \n",
      "=================================================================\n",
      " input_10 (InputLayer)       [(None, 227, 227, 3)]     0         \n",
      "                                                                 \n",
      " conv2d_21 (Conv2D)          (None, 55, 55, 96)        34944     \n",
      "                                                                 \n",
      " conv2d_22 (Conv2D)          (None, 55, 55, 256)       614656    \n",
      "                                                                 \n",
      " conv2d_23 (Conv2D)          (None, 55, 55, 384)       885120    \n",
      "                                                                 \n",
      " conv2d_24 (Conv2D)          (None, 55, 55, 384)       1327488   \n",
      "                                                                 \n",
      " conv2d_25 (Conv2D)          (None, 55, 55, 256)       884992    \n",
      "                                                                 \n",
      " flatten_9 (Flatten)         (None, 774400)            0         \n",
      "                                                                 \n",
      "=================================================================\n",
      "Total params: 3,747,200\n",
      "Trainable params: 3,747,200\n",
      "Non-trainable params: 0\n",
      "_________________________________________________________________\n"
     ]
    }
   ],
   "source": [
    "model = tf.keras.models.Model(input_, x)\n",
    "model.summary()"
   ],
   "metadata": {
    "collapsed": false
   }
  },
  {
   "cell_type": "markdown",
   "source": [
    "# Dropout\n",
    "overfitting 막기\n",
    "\n",
    "catastropy forgetting 막기\n",
    "\n",
    "layer가 깊을 때 안 씀\n",
    "\n",
    "convolution 은 what과 where를 가지고 있다. -> OCR, object detection에서 사용 가능할 것\n",
    "\n",
    "ablation study : 특정 약, 알고리즘 등의 효과를 확인하기 위해 사용한 경우와 사용하지 않은 경우를 비교하는 실험적 방식\n"
   ],
   "metadata": {
    "collapsed": false
   }
  }
 ],
 "metadata": {
  "kernelspec": {
   "display_name": "Python 3",
   "language": "python",
   "name": "python3"
  },
  "language_info": {
   "codemirror_mode": {
    "name": "ipython",
    "version": 2
   },
   "file_extension": ".py",
   "mimetype": "text/x-python",
   "name": "python",
   "nbconvert_exporter": "python",
   "pygments_lexer": "ipython2",
   "version": "2.7.6"
  }
 },
 "nbformat": 4,
 "nbformat_minor": 0
}
