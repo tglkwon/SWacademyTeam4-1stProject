{
 "cells": [
  {
   "cell_type": "code",
   "execution_count": 1,
   "metadata": {
    "collapsed": true
   },
   "outputs": [],
   "source": [
    "import tensorflow as tf\n",
    "(X_train, y_train), (X_test, y_test) = tf.keras.datasets.mnist.load_data()"
   ]
  },
  {
   "cell_type": "code",
   "execution_count": 2,
   "outputs": [
    {
     "ename": "SyntaxError",
     "evalue": "invalid syntax (2573759257.py, line 1)",
     "output_type": "error",
     "traceback": [
      "\u001B[1;36m  Cell \u001B[1;32mIn [2], line 1\u001B[1;36m\u001B[0m\n\u001B[1;33m    tf.dataset.from(X_train)\u001B[0m\n\u001B[1;37m               ^\u001B[0m\n\u001B[1;31mSyntaxError\u001B[0m\u001B[1;31m:\u001B[0m invalid syntax\n"
     ]
    }
   ],
   "source": [
    "tf.data.Dataset.from_tensors(X_train)"
   ],
   "metadata": {
    "collapsed": false
   }
  },
  {
   "cell_type": "code",
   "execution_count": 17,
   "outputs": [],
   "source": [
    "# b = tf.data.detaset\n",
    "bb = tf.data.Dataset.from_tensor_slices((X_train, y_train))\n",
    "path = 'dataset/images/'"
   ],
   "metadata": {
    "collapsed": false
   }
  },
  {
   "cell_type": "code",
   "execution_count": 18,
   "outputs": [
    {
     "name": "stdout",
     "output_type": "stream",
     "text": [
      "Found 1656 files belonging to 3 classes.\n"
     ]
    }
   ],
   "source": [
    "im = tf.keras.preprocessing.image_dataset_from_directory(path, label_mode='categorical')"
   ],
   "metadata": {
    "collapsed": false
   }
  },
  {
   "cell_type": "code",
   "execution_count": 14,
   "outputs": [
    {
     "name": "stdout",
     "output_type": "stream",
     "text": [
      "tf.Tensor(\n",
      "[[0. 0. 1.]\n",
      " [0. 1. 0.]\n",
      " [1. 0. 0.]\n",
      " [0. 1. 0.]\n",
      " [0. 0. 1.]\n",
      " [1. 0. 0.]\n",
      " [1. 0. 0.]\n",
      " [0. 1. 0.]\n",
      " [1. 0. 0.]\n",
      " [0. 1. 0.]\n",
      " [1. 0. 0.]\n",
      " [1. 0. 0.]\n",
      " [1. 0. 0.]\n",
      " [1. 0. 0.]\n",
      " [1. 0. 0.]\n",
      " [1. 0. 0.]\n",
      " [0. 1. 0.]\n",
      " [0. 0. 1.]\n",
      " [1. 0. 0.]\n",
      " [1. 0. 0.]\n",
      " [0. 0. 1.]\n",
      " [0. 0. 1.]\n",
      " [0. 0. 1.]\n",
      " [0. 1. 0.]\n",
      " [1. 0. 0.]\n",
      " [1. 0. 0.]\n",
      " [0. 1. 0.]\n",
      " [1. 0. 0.]\n",
      " [0. 0. 1.]\n",
      " [1. 0. 0.]\n",
      " [1. 0. 0.]\n",
      " [0. 1. 0.]], shape=(32, 3), dtype=float32)\n"
     ]
    }
   ],
   "source": [
    "for i in im.take(1):\n",
    "    print(i[1])"
   ],
   "metadata": {
    "collapsed": false
   }
  },
  {
   "cell_type": "code",
   "execution_count": 19,
   "outputs": [],
   "source": [
    "idg = tf.keras.preprocessing.image.ImageDataGenerator()"
   ],
   "metadata": {
    "collapsed": false
   }
  },
  {
   "cell_type": "code",
   "execution_count": 21,
   "outputs": [
    {
     "name": "stdout",
     "output_type": "stream",
     "text": [
      "Found 1656 images belonging to 3 classes.\n"
     ]
    }
   ],
   "source": [
    "dig = idg.flow_from_directory(path)"
   ],
   "metadata": {
    "collapsed": false
   }
  },
  {
   "cell_type": "code",
   "execution_count": 24,
   "outputs": [
    {
     "data": {
      "text/plain": "keras.preprocessing.image.DirectoryIterator"
     },
     "execution_count": 24,
     "metadata": {},
     "output_type": "execute_result"
    }
   ],
   "source": [
    "type(dig)"
   ],
   "metadata": {
    "collapsed": false
   }
  },
  {
   "cell_type": "code",
   "execution_count": 25,
   "outputs": [
    {
     "ename": "TypeError",
     "evalue": "DatasetV2.from_generator() missing 1 required positional argument: 'generator'",
     "output_type": "error",
     "traceback": [
      "\u001B[1;31m---------------------------------------------------------------------------\u001B[0m",
      "\u001B[1;31mTypeError\u001B[0m                                 Traceback (most recent call last)",
      "Cell \u001B[1;32mIn [25], line 1\u001B[0m\n\u001B[1;32m----> 1\u001B[0m tf\u001B[38;5;241m.\u001B[39mdata\u001B[38;5;241m.\u001B[39mDataset\u001B[38;5;241m.\u001B[39mfrom_generator()\n",
      "File \u001B[1;32m~\\AppData\\Roaming\\Python\\Python310\\site-packages\\tensorflow\\python\\util\\deprecation.py:561\u001B[0m, in \u001B[0;36mdeprecated_args.<locals>.deprecated_wrapper.<locals>.new_func\u001B[1;34m(*args, **kwargs)\u001B[0m\n\u001B[0;32m    553\u001B[0m         _PRINTED_WARNING[(func, arg_name)] \u001B[38;5;241m=\u001B[39m \u001B[38;5;28;01mTrue\u001B[39;00m\n\u001B[0;32m    554\u001B[0m       logging\u001B[38;5;241m.\u001B[39mwarning(\n\u001B[0;32m    555\u001B[0m           \u001B[38;5;124m'\u001B[39m\u001B[38;5;124mFrom \u001B[39m\u001B[38;5;132;01m%s\u001B[39;00m\u001B[38;5;124m: calling \u001B[39m\u001B[38;5;132;01m%s\u001B[39;00m\u001B[38;5;124m (from \u001B[39m\u001B[38;5;132;01m%s\u001B[39;00m\u001B[38;5;124m) with \u001B[39m\u001B[38;5;132;01m%s\u001B[39;00m\u001B[38;5;124m is deprecated and will \u001B[39m\u001B[38;5;124m'\u001B[39m\n\u001B[0;32m    556\u001B[0m           \u001B[38;5;124m'\u001B[39m\u001B[38;5;124mbe removed \u001B[39m\u001B[38;5;132;01m%s\u001B[39;00m\u001B[38;5;124m.\u001B[39m\u001B[38;5;130;01m\\n\u001B[39;00m\u001B[38;5;124mInstructions for updating:\u001B[39m\u001B[38;5;130;01m\\n\u001B[39;00m\u001B[38;5;132;01m%s\u001B[39;00m\u001B[38;5;124m'\u001B[39m,\n\u001B[1;32m   (...)\u001B[0m\n\u001B[0;32m    559\u001B[0m           \u001B[38;5;124m'\u001B[39m\u001B[38;5;124min a future version\u001B[39m\u001B[38;5;124m'\u001B[39m \u001B[38;5;28;01mif\u001B[39;00m date \u001B[38;5;129;01mis\u001B[39;00m \u001B[38;5;28;01mNone\u001B[39;00m \u001B[38;5;28;01melse\u001B[39;00m (\u001B[38;5;124m'\u001B[39m\u001B[38;5;124mafter \u001B[39m\u001B[38;5;132;01m%s\u001B[39;00m\u001B[38;5;124m'\u001B[39m \u001B[38;5;241m%\u001B[39m date),\n\u001B[0;32m    560\u001B[0m           instructions)\n\u001B[1;32m--> 561\u001B[0m \u001B[38;5;28;01mreturn\u001B[39;00m func(\u001B[38;5;241m*\u001B[39margs, \u001B[38;5;241m*\u001B[39m\u001B[38;5;241m*\u001B[39mkwargs)\n",
      "\u001B[1;31mTypeError\u001B[0m: DatasetV2.from_generator() missing 1 required positional argument: 'generator'"
     ]
    }
   ],
   "source": [
    "tf.data.Dataset.from_generator()"
   ],
   "metadata": {
    "collapsed": false
   }
  },
  {
   "cell_type": "code",
   "execution_count": 26,
   "outputs": [
    {
     "data": {
      "text/plain": "<keras.engine.base_preprocessing_layer.PreprocessingLayer at 0x26ac2f72170>"
     },
     "execution_count": 26,
     "metadata": {},
     "output_type": "execute_result"
    }
   ],
   "source": [
    "tf.keras.layers.experimental.preprocessing.PreprocessingLayer()"
   ],
   "metadata": {
    "collapsed": false
   }
  },
  {
   "cell_type": "code",
   "execution_count": 39,
   "outputs": [],
   "source": [
    "import pandas as pd"
   ],
   "metadata": {
    "collapsed": false
   }
  },
  {
   "cell_type": "code",
   "execution_count": 48,
   "outputs": [],
   "source": [
    "path_anno_air = 'dataset/annotations/airplane.csv'\n",
    "airplane = pd.read_csv(path_anno_air, header=None)\n",
    "face = pd.read_csv('dataset/annotations/face.csv', header=None)\n",
    "motorcycle = pd.read_csv('dataset/annotations/motorcycle.csv', header=None)"
   ],
   "metadata": {
    "collapsed": false
   }
  },
  {
   "cell_type": "code",
   "execution_count": 49,
   "outputs": [],
   "source": [
    "head = {0:'fileName', 1:'x1', 2:'y1', 3:'x2', 4:'y2', 5:'target'}\n",
    "airplane.rename(head, axis=1, inplace=True)\n",
    "airplane['fileName'] = airplane.fileName.map(lambda n: 'airplane/'+n)\n",
    "face.rename(head, axis=1, inplace=True)\n",
    "face['fileName'] = airplane.fileName.map(lambda n: 'face/'+n)\n",
    "motorcycle.rename(head, axis=1, inplace=True)\n",
    "motorcycle['fileName'] = motorcycle.fileName.map(lambda n: 'motorcycle/'+n)"
   ],
   "metadata": {
    "collapsed": false
   }
  },
  {
   "cell_type": "code",
   "execution_count": 52,
   "outputs": [
    {
     "data": {
      "text/plain": "                                      fileName  x1  y1   x2   y2      target\n0       dataset/images/airplane/image_0001.jpg  49  30  349  137    airplane\n1       dataset/images/airplane/image_0002.jpg  59  35  342  153    airplane\n2       dataset/images/airplane/image_0003.jpg  47  36  331  135    airplane\n3       dataset/images/airplane/image_0004.jpg  47  24  342  141    airplane\n4       dataset/images/airplane/image_0005.jpg  48  18  339  146    airplane\n...                                        ...  ..  ..  ...  ...         ...\n2028  dataset/images/motorcycle/image_0794.jpg  47  44  218  133  motorcycle\n2029  dataset/images/motorcycle/image_0795.jpg  44  38  216  135  motorcycle\n2030  dataset/images/motorcycle/image_0796.jpg  47  40  217  141  motorcycle\n2031  dataset/images/motorcycle/image_0797.jpg  48  54  211  150  motorcycle\n2032  dataset/images/motorcycle/image_0798.jpg  42  33  218  140  motorcycle\n\n[2033 rows x 6 columns]",
      "text/html": "<div>\n<style scoped>\n    .dataframe tbody tr th:only-of-type {\n        vertical-align: middle;\n    }\n\n    .dataframe tbody tr th {\n        vertical-align: top;\n    }\n\n    .dataframe thead th {\n        text-align: right;\n    }\n</style>\n<table border=\"1\" class=\"dataframe\">\n  <thead>\n    <tr style=\"text-align: right;\">\n      <th></th>\n      <th>fileName</th>\n      <th>x1</th>\n      <th>y1</th>\n      <th>x2</th>\n      <th>y2</th>\n      <th>target</th>\n    </tr>\n  </thead>\n  <tbody>\n    <tr>\n      <th>0</th>\n      <td>dataset/images/airplane/image_0001.jpg</td>\n      <td>49</td>\n      <td>30</td>\n      <td>349</td>\n      <td>137</td>\n      <td>airplane</td>\n    </tr>\n    <tr>\n      <th>1</th>\n      <td>dataset/images/airplane/image_0002.jpg</td>\n      <td>59</td>\n      <td>35</td>\n      <td>342</td>\n      <td>153</td>\n      <td>airplane</td>\n    </tr>\n    <tr>\n      <th>2</th>\n      <td>dataset/images/airplane/image_0003.jpg</td>\n      <td>47</td>\n      <td>36</td>\n      <td>331</td>\n      <td>135</td>\n      <td>airplane</td>\n    </tr>\n    <tr>\n      <th>3</th>\n      <td>dataset/images/airplane/image_0004.jpg</td>\n      <td>47</td>\n      <td>24</td>\n      <td>342</td>\n      <td>141</td>\n      <td>airplane</td>\n    </tr>\n    <tr>\n      <th>4</th>\n      <td>dataset/images/airplane/image_0005.jpg</td>\n      <td>48</td>\n      <td>18</td>\n      <td>339</td>\n      <td>146</td>\n      <td>airplane</td>\n    </tr>\n    <tr>\n      <th>...</th>\n      <td>...</td>\n      <td>...</td>\n      <td>...</td>\n      <td>...</td>\n      <td>...</td>\n      <td>...</td>\n    </tr>\n    <tr>\n      <th>2028</th>\n      <td>dataset/images/motorcycle/image_0794.jpg</td>\n      <td>47</td>\n      <td>44</td>\n      <td>218</td>\n      <td>133</td>\n      <td>motorcycle</td>\n    </tr>\n    <tr>\n      <th>2029</th>\n      <td>dataset/images/motorcycle/image_0795.jpg</td>\n      <td>44</td>\n      <td>38</td>\n      <td>216</td>\n      <td>135</td>\n      <td>motorcycle</td>\n    </tr>\n    <tr>\n      <th>2030</th>\n      <td>dataset/images/motorcycle/image_0796.jpg</td>\n      <td>47</td>\n      <td>40</td>\n      <td>217</td>\n      <td>141</td>\n      <td>motorcycle</td>\n    </tr>\n    <tr>\n      <th>2031</th>\n      <td>dataset/images/motorcycle/image_0797.jpg</td>\n      <td>48</td>\n      <td>54</td>\n      <td>211</td>\n      <td>150</td>\n      <td>motorcycle</td>\n    </tr>\n    <tr>\n      <th>2032</th>\n      <td>dataset/images/motorcycle/image_0798.jpg</td>\n      <td>42</td>\n      <td>33</td>\n      <td>218</td>\n      <td>140</td>\n      <td>motorcycle</td>\n    </tr>\n  </tbody>\n</table>\n<p>2033 rows × 6 columns</p>\n</div>"
     },
     "execution_count": 52,
     "metadata": {},
     "output_type": "execute_result"
    }
   ],
   "source": [
    "datasets = pd.concat([airplane, face, motorcycle], axis=0, ignore_index=True)\n",
    "datasets.fileName = datasets.fileName.map(lambda n: 'dataset/images/'+n)\n",
    "datasets"
   ],
   "metadata": {
    "collapsed": false
   }
  },
  {
   "cell_type": "code",
   "execution_count": 61,
   "outputs": [
    {
     "name": "stdout",
     "output_type": "stream",
     "text": [
      "Found 1217 validated image filenames.\n"
     ]
    },
    {
     "name": "stderr",
     "output_type": "stream",
     "text": [
      "C:\\Users\\tglkwon\\AppData\\Roaming\\Python\\Python310\\site-packages\\keras\\preprocessing\\image.py:1139: UserWarning: Found 816 invalid image filename(s) in x_col=\"fileName\". These filename(s) will be ignored.\n",
      "  warnings.warn(\n"
     ]
    }
   ],
   "source": [
    "idg = tf.keras.preprocessing.image.ImageDataGenerator()\n",
    "dig = idg.flow_from_dataframe(datasets, x_col='fileName', y_col=['x1', 'y1', 'x2', 'y2', 'target'], class_mode='raw')\n",
    "temp = next(dig)"
   ],
   "metadata": {
    "collapsed": false
   }
  },
  {
   "cell_type": "code",
   "execution_count": 62,
   "outputs": [
    {
     "data": {
      "text/plain": "array([[40, 7, 348, 138, 'airplane'],\n       [38, 34, 228, 170, 'motorcycle'],\n       [54, 24, 346, 110, 'airplane'],\n       [52, 28, 347, 114, 'airplane'],\n       [60, 26, 350, 107, 'airplane'],\n       [60, 31, 353, 122, 'airplane'],\n       [36, 14, 234, 146, 'motorcycle'],\n       [38, 23, 232, 141, 'motorcycle'],\n       [38, 15, 234, 116, 'motorcycle'],\n       [58, 35, 358, 146, 'airplane'],\n       [51, 32, 351, 140, 'airplane'],\n       [60, 30, 356, 139, 'airplane'],\n       [56, 33, 353, 105, 'airplane'],\n       [46, 30, 344, 96, 'airplane'],\n       [53, 27, 351, 114, 'airplane'],\n       [56, 32, 352, 123, 'airplane'],\n       [48, 25, 345, 125, 'airplane'],\n       [61, 30, 353, 119, 'airplane'],\n       [35, 22, 229, 123, 'motorcycle'],\n       [33, 16, 231, 111, 'motorcycle'],\n       [33, 38, 349, 118, 'airplane'],\n       [57, 27, 355, 91, 'airplane'],\n       [41, 29, 228, 135, 'motorcycle'],\n       [66, 25, 349, 124, 'airplane'],\n       [47, 33, 356, 93, 'airplane'],\n       [66, 39, 361, 144, 'airplane'],\n       [35, 19, 229, 126, 'motorcycle'],\n       [35, 17, 230, 107, 'motorcycle'],\n       [33, 25, 231, 145, 'motorcycle'],\n       [58, 27, 347, 128, 'airplane'],\n       [40, 24, 223, 127, 'motorcycle'],\n       [66, 39, 355, 157, 'airplane']], dtype=object)"
     },
     "execution_count": 62,
     "metadata": {},
     "output_type": "execute_result"
    }
   ],
   "source": [
    "temp[1]"
   ],
   "metadata": {
    "collapsed": false
   }
  },
  {
   "cell_type": "code",
   "execution_count": null,
   "outputs": [],
   "source": [],
   "metadata": {
    "collapsed": false
   }
  }
 ],
 "metadata": {
  "kernelspec": {
   "display_name": "Python 3",
   "language": "python",
   "name": "python3"
  },
  "language_info": {
   "codemirror_mode": {
    "name": "ipython",
    "version": 2
   },
   "file_extension": ".py",
   "mimetype": "text/x-python",
   "name": "python",
   "nbconvert_exporter": "python",
   "pygments_lexer": "ipython2",
   "version": "2.7.6"
  }
 },
 "nbformat": 4,
 "nbformat_minor": 0
}
