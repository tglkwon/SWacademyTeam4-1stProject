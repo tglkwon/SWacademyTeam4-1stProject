{
 "cells": [
  {
   "cell_type": "markdown",
   "source": [
    "# CS에서 Efficient : parameter를 줄이고 연산량을 줄이는 경우\n",
    "\n",
    "# depthwise Separable Convolution\n",
    "convolution filter 별로 group convolution학습시키는 테크닉\n",
    "- 파라미터가 줄어서 성능은 떨어지지만 연산량을 엄청 줄이면서도 성능저하를 줄여냄\n",
    "- 뒤에 one by one을 붙여서 차원수 조절 가능하다\n",
    "\n"
   ],
   "metadata": {
    "collapsed": false
   }
  },
  {
   "cell_type": "code",
   "execution_count": null,
   "outputs": [],
   "source": [
    "import tensorflow as tf\n",
    "# depthwise separable convolution\n",
    "tf.keras.layers.SeparableConv2D()"
   ],
   "metadata": {
    "collapsed": false
   }
  }
 ],
 "metadata": {
  "kernelspec": {
   "display_name": "Python 3",
   "language": "python",
   "name": "python3"
  },
  "language_info": {
   "codemirror_mode": {
    "name": "ipython",
    "version": 2
   },
   "file_extension": ".py",
   "mimetype": "text/x-python",
   "name": "python",
   "nbconvert_exporter": "python",
   "pygments_lexer": "ipython2",
   "version": "2.7.6"
  }
 },
 "nbformat": 4,
 "nbformat_minor": 0
}
