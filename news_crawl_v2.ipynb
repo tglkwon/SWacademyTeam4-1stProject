{
  "cells": [
    {
      "cell_type": "code",
      "execution_count": 23,
      "id": "cd858497",
      "metadata": {
        "id": "cd858497"
      },
      "outputs": [],
      "source": [
        "from requests import get, Session, request\n",
        "from requests.compat import urlparse, urlunparse, urljoin\n",
        "from bs4 import BeautifulSoup\n",
        "import re\n",
        "import sqlite3\n",
        "from time import time, localtime, sleep, strftime, mktime\n",
        "from datetime import datetime, timedelta\n",
        "import json\n",
        "\n",
        "session = Session()\n",
        "headers={'user-agent':'Mozilla/5.0 (Macintosh; Intel Mac OS X 10_15_7) AppleWebKit/537.36 (KHTML, like Gecko) Chrome/105.0.0.0 Safari/537.36',\n",
        "         'Referer': 'https://www.yna.co.kr/'}"
      ]
    },
    {
      "cell_type": "code",
      "execution_count": 24,
      "id": "552a4d07",
      "metadata": {
        "id": "552a4d07"
      },
      "outputs": [],
      "source": [
        "def robotParser(domain):\n",
        "    url = urlunparse(urlparse(domain)[:2] + ('',)*4)\n",
        "    url += '/robots.txt'    \n",
        "    pathEnable = dict()\n",
        "    resp = get(url)\n",
        "    if resp.status_code == 200:\n",
        "        agent = None\n",
        "        for line in resp.text.splitlines():\n",
        "            k, *v = line.split(':')\n",
        "            k = k.strip()\n",
        "            v = ':'.join(v).strip()\n",
        "            if k.lower() == 'user-agent':\n",
        "                agent = v\n",
        "                if v not in pathEnable:\n",
        "                    pathEnable[v] = dict()\n",
        "            else:\n",
        "                if k.lower() == 'allow':\n",
        "                    pathEnable[agent][v] = True\n",
        "                else:\n",
        "                    pathEnable[agent][v] = False\n",
        "    else:\n",
        "        pathEnable['*'] = True\n",
        "    return pathEnable"
      ]
    },
    {
      "cell_type": "code",
      "execution_count": 25,
      "id": "4c0331e6",
      "metadata": {
        "id": "4c0331e6"
      },
      "outputs": [],
      "source": [
        "def canFetch(pathEnable, path):\n",
        "    agent = '*'\n",
        "    path = urlparse(path).path\n",
        "    \n",
        "    if agent in pathEnable:\n",
        "        if path in pathEnable[agent]:\n",
        "            return pathEnable[agent][path]\n",
        "        else:\n",
        "            if path == '/':\n",
        "                return True\n",
        "            else:\n",
        "                return canFetch(pathEnable,\n",
        "                                '/'.join(path.split('/')[:-1]))\n",
        "    else:\n",
        "        return True"
      ]
    },
    {
      "cell_type": "code",
      "source": [
        "from google.colab import drive\n",
        "drive.mount('/content/drive')\n",
        "!cd '/content/drive/MyDrive/Colab Notebooks'"
      ],
      "metadata": {
        "colab": {
          "base_uri": "https://localhost:8080/"
        },
        "id": "syP_oa-1sf53",
        "outputId": "35d207fb-a060-46d3-d1d6-72aba40968b5"
      },
      "id": "syP_oa-1sf53",
      "execution_count": 26,
      "outputs": [
        {
          "output_type": "stream",
          "name": "stdout",
          "text": [
            "Drive already mounted at /content/drive; to attempt to forcibly remount, call drive.mount(\"/content/drive\", force_remount=True).\n"
          ]
        }
      ]
    },
    {
      "cell_type": "code",
      "source": [
        "# Initial parameters\n",
        "\n",
        "searchDate = '20221201'\n",
        "nday = 365\n",
        "page_no = 1\n",
        "\n",
        "# url = 'https://www.yna.co.kr/search/index'\n",
        "today = datetime.today()\n",
        "today = datetime.strftime(today, '%Y%m%d')\n",
        "\n",
        "seens = dict()\n",
        "headers={'user-agent':'Mozilla/5.0 (Macintosh; Intel Mac OS X 10_15_7) AppleWebKit/537.36 (KHTML, like Gecko) Chrome/105.0.0.0 Safari/537.36'}\n",
        "\n",
        "query = dict()\n",
        "\n",
        "categories = {'정치': '01', '경제': '02', '사회': '05', '금융증권산업': '03%2C04', '사건사고': '06', '문화': '07', '생활건강': '08', 'IT과학' : '09', '북한': '10', '국제': '11', '스포츠': '12', '연예': '0712'}\n",
        "\n",
        "params = {\n",
        "    'query': '%ED%96%88%EB%8B%A4',\n",
        "    'period': '1y',\n",
        "    'page_no': page_no,\n",
        "    'ctype': 'A',\n",
        "    'from': today,\n",
        "    'to': today,\n",
        "    'page_size': 10,\n",
        "    'channel': 'basic_kr'\n",
        "}"
      ],
      "metadata": {
        "id": "dSRuI4ZeqX5T"
      },
      "id": "dSRuI4ZeqX5T",
      "execution_count": 30,
      "outputs": []
    },
    {
      "cell_type": "code",
      "execution_count": null,
      "outputs": [],
      "source": [],
      "metadata": {
        "id": "A5b3VJ_BfrpW"
      },
      "id": "A5b3VJ_BfrpW"
    },
    {
      "cell_type": "code",
      "execution_count": 31,
      "outputs": [],
      "source": [
        "# crawl to db\n",
        "con = sqlite3.connect('news_Crawl')\n",
        "cur = con.cursor()"
      ],
      "metadata": {
        "id": "QY0_liDwfrpX"
      },
      "id": "QY0_liDwfrpX"
    },
    {
      "cell_type": "code",
      "source": [
        "# # create table\n",
        "# # use once\n",
        "# cur.executescript('''\n",
        "# \tDROP TABLE IF EXISTS visited; \n",
        "# \tCREATE TABLE visited\n",
        "# \t(id TEXT PRIMARY KEY,\n",
        "# \tvisited INTEGER NOT NULL DEFAULT 0);\n",
        "  \n",
        "#   DROP TABLE IF EXISTS news; \n",
        "#   CREATE TABLE news\n",
        "# \t(url TEXT PRIMARY KEY,\n",
        "#   id TEXT NOT NULL,\n",
        "#   title TEXT,\n",
        "#   content TEXT,\n",
        "#   dateNews DATETIME,\n",
        "#   keywords TEXT,\n",
        "#   category TEXT,\n",
        "#   dateInput DATETIME DEFAULT CURRENT_TIMESTAMP),\n",
        "#   FOREIGN KEY(id) REFERENCES visited (id)\t);\n",
        "# ''')"
      ],
      "metadata": {
        "id": "6UIik7hUiBnS"
      },
      "id": "6UIik7hUiBnS",
      "execution_count": null,
      "outputs": []
    },
    {
      "cell_type": "code",
      "execution_count": null,
      "outputs": [
        {
          "data": {
            "text/plain": "str"
          },
          "execution_count": 28,
          "metadata": {},
          "output_type": "execute_result"
        }
      ],
      "source": [
        "# contents_id = 'AKR20221205120300009'\n",
        "# page_url = 'https://www.yna.co.kr/view/{}'.format(contents_id)\n",
        "# page_resp = get(page_url, headers=headers)\n",
        "# dom = BeautifulSoup(page_resp.text, 'html.parser')\n",
        "# category = dom.select_one('meta[property=\"article:section\"]')['content']\n",
        "# title = dom.select_one('h1.tit')\n",
        "\n",
        "# content = dom.select('article.story-news.article p')[2:-2]\n",
        "# #### 질문? 불필요한 tag 찾아서 정리하기\n",
        "\n",
        "# [ar.string for ar in content if ar.string is not None]\n",
        "# url = 'https://ars.yna.co.kr/api/v2/search.asis?query=%ED%96%88%EB%8B%A4&page_no={}&period=1y&from=20211206&to=20221206&ctype=A&page_size=10&channel=basic_kr'.format(page_no)\n",
        "# resp = get(url, headers=headers)\n",
        "# ids = json.loads(resp.text)['KR_ARTICLE']['result']\n",
        "# type(ids[0]['CONTENTS_ID'])"
      ],
      "metadata": {
        "id": "ReqriSoQfrpX",
        "outputId": "22f1f284-c857-4cbc-dec5-3d7eaf0dc4da"
      },
      "id": "ReqriSoQfrpX"
    },
    {
      "cell_type": "code",
      "execution_count": null,
      "outputs": [
        {
          "output_type": "stream",
          "name": "stdout",
          "text": [
            "10\n",
            "20\n",
            "30\n",
            "40\n",
            "50\n",
            "60\n",
            "70\n",
            "80\n",
            "90\n",
            "100\n",
            "110\n",
            "120\n",
            "130\n",
            "140\n",
            "150\n",
            "160\n",
            "170\n",
            "180\n",
            "190\n",
            "200\n",
            "210\n",
            "220\n",
            "230\n",
            "240\n",
            "250\n",
            "260\n",
            "270\n",
            "280\n",
            "290\n",
            "300\n",
            "310\n",
            "320\n",
            "330\n",
            "340\n",
            "350\n",
            "360\n",
            "370\n",
            "380\n",
            "390\n",
            "400\n",
            "410\n",
            "420\n",
            "430\n",
            "440\n",
            "450\n",
            "460\n",
            "470\n",
            "480\n",
            "490\n",
            "500\n",
            "510\n",
            "520\n",
            "530\n",
            "540\n",
            "550\n",
            "560\n",
            "570\n",
            "580\n",
            "590\n",
            "600\n",
            "610\n",
            "620\n",
            "630\n",
            "640\n",
            "650\n",
            "660\n",
            "670\n",
            "680\n",
            "690\n",
            "700\n",
            "710\n",
            "720\n",
            "730\n",
            "740\n",
            "750\n",
            "760\n",
            "770\n",
            "780\n",
            "790\n",
            "800\n",
            "810\n",
            "820\n",
            "830\n",
            "840\n",
            "850\n",
            "860\n",
            "870\n",
            "880\n",
            "890\n",
            "900\n",
            "910\n",
            "920\n",
            "930\n",
            "940\n",
            "950\n",
            "960\n",
            "970\n",
            "980\n",
            "990\n",
            "1000\n",
            "1010\n",
            "1020\n",
            "1030\n",
            "1040\n",
            "1050\n",
            "1060\n",
            "1070\n",
            "1080\n",
            "1090\n",
            "1100\n",
            "1110\n",
            "1120\n",
            "1130\n",
            "1140\n",
            "1150\n",
            "1160\n",
            "1170\n",
            "1180\n",
            "1190\n",
            "1200\n",
            "1210\n",
            "1220\n",
            "1230\n",
            "1240\n",
            "1250\n",
            "1260\n",
            "1270\n",
            "1280\n",
            "1290\n",
            "1300\n",
            "1310\n",
            "1320\n",
            "1330\n",
            "1340\n",
            "1350\n",
            "1360\n",
            "1370\n",
            "1380\n",
            "1390\n",
            "1400\n",
            "1410\n",
            "1420\n",
            "1430\n",
            "1440\n",
            "1450\n",
            "1460\n",
            "1470\n",
            "1480\n",
            "1490\n",
            "1500\n",
            "1510\n",
            "1520\n",
            "1530\n",
            "1540\n",
            "1550\n",
            "1560\n",
            "1570\n",
            "1580\n",
            "1590\n",
            "1600\n",
            "1610\n",
            "1620\n",
            "1630\n",
            "1640\n",
            "1650\n",
            "1660\n",
            "1670\n",
            "1680\n",
            "1690\n",
            "1700\n",
            "1710\n",
            "1720\n",
            "1730\n",
            "1740\n",
            "1750\n",
            "1760\n",
            "1770\n",
            "1780\n",
            "1790\n",
            "1800\n",
            "1810\n",
            "1820\n",
            "1830\n",
            "1840\n",
            "1850\n",
            "1860\n",
            "1870\n",
            "1880\n",
            "1890\n",
            "1900\n",
            "1910\n",
            "1920\n",
            "1930\n",
            "1940\n",
            "1950\n",
            "1960\n",
            "1970\n",
            "1980\n",
            "1990\n",
            "2000\n",
            "2010\n",
            "2020\n",
            "2030\n"
          ]
        }
      ],
      "source": [
        "while True:\n",
        "    url = 'https://ars.yna.co.kr/api/v2/search.asis?query=%ED%96%88%EB%8B%A4&page_no={}&period=1y&from=20211201&to=20221201&ctype=A&page_size=10&channel=basic_kr'.format(page_no)\n",
        "    resp = get(url, headers=headers)\n",
        "    if resp.status_code != 200:\n",
        "        break\n",
        "\n",
        "    ids = json.loads(resp.text)['KR_ARTICLE']['result']\n",
        "\n",
        "    for articleId in ids:\n",
        "        idd = articleId['CONTENTS_ID']\n",
        "        \n",
        "        cur.execute('''\n",
        "        INSERT OR IGNORE INTO visited (id) VALUES (:idd);\n",
        "        ''', [idd])\n",
        "        result = cur.fetchone()\n",
        "    page_no += 1\n",
        "    if page_no % 10 == 0:\n",
        "        print(page_no)"
      ],
      "metadata": {
        "colab": {
          "base_uri": "https://localhost:8080/"
        },
        "id": "3O1uSlmrfrpY",
        "outputId": "4903579f-0fbe-4b05-c092-20a4444fa71c"
      },
      "id": "3O1uSlmrfrpY"
    },
    {
      "cell_type": "code",
      "source": [
        "# save article ids\n",
        "con.commit()"
      ],
      "metadata": {
        "id": "MvjMfRm3o94n"
      },
      "id": "MvjMfRm3o94n",
      "execution_count": null,
      "outputs": []
    },
    {
      "cell_type": "code",
      "execution_count": null,
      "outputs": [
        {
          "name": "stdout",
          "output_type": "stream",
          "text": [
            "{'URL': 'https://www.yna.co.kr/view/AKR20221201085351001', 'title': '野 \"李해임안 반드시 가결\"…본회의 개의 불발에 김의장 비판도(종합)', 'content': ' (서울=연합뉴스) 고상민 박경준 정윤주 기자 = 더불어민주당은 1일 이상민 행정안전부 장관 해임건의안 처리를 다짐하며 대여(對與) 압박을 이어갔다. 다만 김진표 국회의장이 이날 예정됐던 본회의를 개의하지 않은 탓에 2일에 해임건의안을 표결하겠다던 애초 계획에 차질이 불가피해졌다. 박홍근 원내대표는 이날 오전 정책조정회의에서 \"민주당은 본회의를 반드시 열어 해임건의안을 가결할 것\"이라며 \"이 장관이 자진해서 사퇴하지 않거나 윤석열 대통령이 (박진 외교부 장관 해임건의에 이어) 또다시 거부한다면 탄핵소추안을 발의해 정기국회 내에 이 장관 문책을 매듭짓겠다\"고 말했다.  이어 김 의장을 향해 \"본회의 개의는 국회의장의 결단에 따라 가능하다\"면서 \"안건 없이도 본회의를 개의한 적이 있다는 사실을 의장도 잘 알 것으로 믿는다\"고 했다. 법안심사 지연 등으로 본회의에 올릴 다른 안건이 부재하다는 점을 들어 김 의장이 \\'해임건의안 보고\\' 자체를 거부할 수도 있는 만큼 김 의장을 상대로 강한 압박에 나섰던 것이다. 박 원내대표는 오후에도 김 의장을 찾아가 같은 의견을 전달했으나 김 의장은 끝내 본회의를 열지 않았다. 민주당은 격앙된 반응을 보였다. 박 원내대표는 오후 늦게 기자간담회를 열어 \"김 의장 결정에 심각한 우려를 표한다\"며 \"여야가 합의한 일정을 일방적으로 파기한 것은 월권이자 권한남용\"이라고 주장했다. 이어 \"이태원 참사 책임을 볼모로 잡아 합의된 일정을 파기한 여당에 의장까지 부화뇌동하나\"라며 \"예산안 처리 법정시한인 2일 오후에는 본회의를 반드시 열고, 내주 월요일까지 해임건의안 처리를 위한 본회의를 추가로 소집하라\"고 촉구했다.(서울=연합뉴스) 더불어민주당 위성곤 의원(오른쪽)과 이수진 의원이 30일 국회 의안과에 이상민 행정안전부 장관 해임건의안을 제출하기 위해 걸어오고 있다. 2022.11.30 [국회사진기자단] toadboy@yna.co.kr 민주당은 윤 대통령의 해임건의안 거부 시 추진키로 한 \\'이상민 탄핵소추안\\'과 관련, 이미 외부 법률적 검토도 마쳤다. 박 최고위원은 \"(탄핵소추는) 사법적으로 다투는 부분이라 사실은 법무법인의 의견도 들었다\"며 \"20 몇 페이지에 달하는 보고서를 살펴봤는데 탄핵소추안을 처리할 수 있는 논거는 충분하다\"고 강조했다.(서울=연합뉴스) 백승렬 기자 = 더불어민주당 박홍근 원내대표가 1일 국회에서 열린 정책조정회의에서 발언하고 있다. 2022.12.1 srbaek@yna.co.kr 민주당은 내년도 예산안 심사 지연 사태를 두고는 정부·여당의 \\'예산 파업\\'으로 규정하며, 예산안 처리 법정시한(12월 2일)을 사실상 넘기게 된 책임을 여당에 돌렸다. 김성환 정책위의장은 \"국민의힘은 해임건의안을 이유로 예산안 심사를 지연시키고 있다\"며 \"국정운영에 무한책임을 져야 할 여당과 정부가 예산안 처리를 앞두고 파업을 하는 것\"이라고 말했다.  박 최고위원도 \"정부·여당의 제안은 \\'원안을 받아라, 아니면 준예산으로 가겠다\\'는 것\"이라며 \"사실상 \\'준예산 협박\\'인데, 우리의 대안은 수정안을 본회의에서 (단독) 처리하는 것\"이라고 했다. 한편, 당 \\'윤석열정권 정치탄압 대책위원회\\'는 이날 오전 용산 대통령실 앞 전쟁기념관에서 기자회견 및 규탄대회를 열고 \\'서해 공무원 피격 사건\\' 수사 등에 대해 \\'정치탄압\\', \\'야당탄압\\'이라는 구호를 외치며 비판했다. 위원장인 박범계 의원은 \"윤 대통령은 민생 위기를 외면한 채 전 정부 탄압 수사에 (관심을) 돌린다\"며 \"공포 정치가 재연되는 것은 아닌지 우려스럽다\"고 말했다.', 'dateNews': '20221201', 'category': '정치'}\n"
          ]
        },
        {
          "ename": "IntegrityError",
          "evalue": "NOT NULL constraint failed: news.id",
          "output_type": "error",
          "traceback": [
            "\u001b[1;31m---------------------------------------------------------------------------\u001b[0m",
            "\u001b[1;31mIntegrityError\u001b[0m                            Traceback (most recent call last)",
            "Cell \u001b[1;32mIn [30], line 27\u001b[0m\n\u001b[0;32m     25\u001b[0m query[\u001b[38;5;124m'\u001b[39m\u001b[38;5;124mcategory\u001b[39m\u001b[38;5;124m'\u001b[39m] \u001b[38;5;241m=\u001b[39m category\n\u001b[0;32m     26\u001b[0m \u001b[38;5;28mprint\u001b[39m(query)\n\u001b[1;32m---> 27\u001b[0m cur\u001b[38;5;241m.\u001b[39mexecute(\u001b[38;5;124m'''\u001b[39m\n\u001b[0;32m     28\u001b[0m \u001b[38;5;124m    INSERT INTO news\u001b[39m\n\u001b[0;32m     29\u001b[0m \u001b[38;5;124m    (URL, title, content, dateNews, category)\u001b[39m\n\u001b[0;32m     30\u001b[0m \u001b[38;5;124m    VALUES (:URL, :title, :content, :dateNews, :category);\u001b[39m\n\u001b[0;32m     31\u001b[0m \u001b[38;5;124m    \u001b[39m\u001b[38;5;124m'''\u001b[39m, query)\n\u001b[0;32m     33\u001b[0m result \u001b[38;5;241m=\u001b[39m cur\u001b[38;5;241m.\u001b[39mfetchone()\n",
            "\u001b[1;31mIntegrityError\u001b[0m: NOT NULL constraint failed: news.id"
          ]
        }
      ],
      "source": [
        "for articleId in ids:\n",
        "    contents_id = articleId['CONTENTS_ID']\n",
        "    if contents_id in seens:\n",
        "        break\n",
        "    else:\n",
        "        seens[contents_id] = articleId['DIST_DATE']\n",
        "# get each pages\n",
        "    page_url = 'https://www.yna.co.kr/view/{}'.format(contents_id)\n",
        "    page_resp = get(page_url, headers=headers)\n",
        "    dom = BeautifulSoup(page_resp.text, 'html.parser')\n",
        "    category = dom.select_one('meta[property=\"article:section\"]')['content']\n",
        "    title = dom.select_one('h1.tit').string\n",
        "    # dateNews = dom.select_one('#newsUpdateTime01')['data-pulished-time']\n",
        "    # if dateNews != articleId['DIST_DATE']+articleId['DIST_TIME']:\n",
        "    #     print('different date at: ', contents_id)\n",
        "\n",
        "    # get rid of not content texts(info of journalist)\n",
        "    content = dom.select('article.story-news.article p')[2:-2]\n",
        "    content = [ar.string for ar in content if ar.string is not None]\n",
        "    content = ''.join(content)\n",
        "    query['URL'] = page_url\n",
        "    query['title'] = title\n",
        "    query['content'] = content\n",
        "    query['dateNews'] = articleId['DIST_DATE']\n",
        "    query['category'] = category\n",
        "    print(query)\n",
        "    cur.execute('''\n",
        "        INSERT INTO news\n",
        "        (URL, title, content, dateNews, category)\n",
        "        VALUES (:URL, :title, :content, :dateNews, :category);\n",
        "        ''', query)\n",
        "\n",
        "    result = cur.fetchone()"
      ],
      "metadata": {
        "id": "wJSmIsBJfrpY",
        "outputId": "e3a23d1e-73d7-4808-c43d-bffc59b60e73"
      },
      "id": "wJSmIsBJfrpY"
    },
    {
      "cell_type": "code",
      "execution_count": null,
      "outputs": [],
      "source": [
        "cur.fetchall()\n",
        "con.commit()\n",
        "con.close()"
      ],
      "metadata": {
        "id": "YZ2PNREFfrpY"
      },
      "id": "YZ2PNREFfrpY"
    },
    {
      "cell_type": "code",
      "execution_count": null,
      "outputs": [],
      "source": [],
      "metadata": {
        "id": "EwUI7oxLfrpZ"
      },
      "id": "EwUI7oxLfrpZ"
    }
  ],
  "metadata": {
    "kernelspec": {
      "display_name": "Python 3 (ipykernel)",
      "language": "python",
      "name": "python3"
    },
    "language_info": {
      "codemirror_mode": {
        "name": "ipython",
        "version": 3
      },
      "file_extension": ".py",
      "mimetype": "text/x-python",
      "name": "python",
      "nbconvert_exporter": "python",
      "pygments_lexer": "ipython3",
      "version": "3.9.13"
    },
    "colab": {
      "provenance": []
    }
  },
  "nbformat": 4,
  "nbformat_minor": 5
}