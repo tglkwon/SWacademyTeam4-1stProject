{
 "cells": [
  {
   "cell_type": "code",
   "execution_count": 1,
   "id": "cd858497",
   "metadata": {
    "id": "cd858497"
   },
   "outputs": [],
   "source": [
    "import random\n",
    "from requests import get, Session, request\n",
    "from requests.compat import urlparse, urlunparse, urljoin\n",
    "from bs4 import BeautifulSoup\n",
    "import re\n",
    "import sqlite3\n",
    "from time import time, localtime, sleep, strftime, mktime\n",
    "from datetime import datetime, timedelta\n",
    "import json\n",
    "\n",
    "session = Session()\n",
    "headers={'user-agent':'Mozilla/5.0 (Macintosh; Intel Mac OS X 10_15_7) AppleWebKit/537.36 (KHTML, like Gecko) Chrome/105.0.0.0 Safari/537.36',\n",
    "         'Referer': 'https://www.yna.co.kr/'}"
   ]
  },
  {
   "cell_type": "code",
   "execution_count": 2,
   "id": "552a4d07",
   "metadata": {
    "id": "552a4d07"
   },
   "outputs": [],
   "source": [
    "def robotParser(domain):\n",
    "    url = urlunparse(urlparse(domain)[:2] + ('',)*4)\n",
    "    url += '/robots.txt'    \n",
    "    pathEnable = dict()\n",
    "    resp = get(url)\n",
    "    if resp.status_code == 200:\n",
    "        agent = None\n",
    "        for line in resp.text.splitlines():\n",
    "            k, *v = line.split(':')\n",
    "            k = k.strip()\n",
    "            v = ':'.join(v).strip()\n",
    "            if k.lower() == 'user-agent':\n",
    "                agent = v\n",
    "                if v not in pathEnable:\n",
    "                    pathEnable[v] = dict()\n",
    "            else:\n",
    "                if k.lower() == 'allow':\n",
    "                    pathEnable[agent][v] = True\n",
    "                else:\n",
    "                    pathEnable[agent][v] = False\n",
    "    else:\n",
    "        pathEnable['*'] = True\n",
    "    return pathEnable"
   ]
  },
  {
   "cell_type": "code",
   "execution_count": 3,
   "id": "4c0331e6",
   "metadata": {
    "id": "4c0331e6"
   },
   "outputs": [],
   "source": [
    "def canFetch(pathEnable, path):\n",
    "    agent = '*'\n",
    "    path = urlparse(path).path\n",
    "    \n",
    "    if agent in pathEnable:\n",
    "        if path in pathEnable[agent]:\n",
    "            return pathEnable[agent][path]\n",
    "        else:\n",
    "            if path == '/':\n",
    "                return True\n",
    "            else:\n",
    "                return canFetch(pathEnable,\n",
    "                                '/'.join(path.split('/')[:-1]))\n",
    "    else:\n",
    "        return True"
   ]
  },
  {
   "cell_type": "code",
   "source": [
    "from google.colab import drive\n",
    "drive.mount('/content/drive')\n",
    "!cd '/content/drive/MyDrive/Colab Notebooks'"
   ],
   "metadata": {
    "colab": {
     "base_uri": "https://localhost:8080/"
    },
    "id": "syP_oa-1sf53",
    "outputId": "35d207fb-a060-46d3-d1d6-72aba40968b5"
   },
   "id": "syP_oa-1sf53",
   "execution_count": null,
   "outputs": []
  },
  {
   "cell_type": "code",
   "source": [
    "# Initial parameters\n",
    "theday = datetime.today()\n",
    "today_string = datetime.strftime(theday, '%Y%m%d')\n",
    "\n",
    "categories = {'정치': '01', '경제': '02', '사회': '05', '금융증권산업': '03%2C04', '사건사고': '06', '문화': '07', '생활건강': '08', 'IT과학' : '09', '북한': '10', '국제': '11', '스포츠': '12', '연예': '0712'}"
   ],
   "metadata": {
    "id": "dSRuI4ZeqX5T"
   },
   "id": "dSRuI4ZeqX5T",
   "execution_count": null,
   "outputs": []
  },
  {
   "cell_type": "code",
   "execution_count": 4,
   "outputs": [],
   "source": [
    "# crawl to db\n",
    "# con = sqlite3.connect('/content/drive/MyDrive/Colab Notebooks/news_Crawl.db')\n",
    "con = sqlite3.connect('news_Crawl.db')\n",
    "cur = con.cursor()"
   ],
   "metadata": {
    "id": "QY0_liDwfrpX"
   },
   "id": "QY0_liDwfrpX"
  },
  {
   "cell_type": "code",
   "execution_count": null,
   "outputs": [],
   "source": [
    "def id_crawl(day):\n",
    "    page_no = 1\n",
    "    while True:\n",
    "        url = 'https://ars.yna.co.kr/api/v2/search.asis?query=%ED%96%88%EB%8B%A4&page_no={}&period=diy&from={}&to={}&ctype=A&page_size=30&channel=basic_kr'.format(page_no, theday_string, theday_string)\n",
    "        resp = get(url, headers=headers)\n",
    "        if resp.status_code != 200:\n",
    "            break\n",
    "\n",
    "        ids = json.loads(resp.text)['KR_ARTICLE']['result']\n",
    "        if len(ids) < 30:\n",
    "            break\n",
    "        for articleId in ids:\n",
    "            idd = articleId['CONTENTS_ID']\n",
    "            # print(idd)\n",
    "            cur.execute('''\n",
    "            INSERT OR IGNORE INTO visited (id) VALUES (:idd);\n",
    "            ''', [idd])\n",
    "        page_no += 1"
   ],
   "metadata": {
    "id": "ReqriSoQfrpX",
    "outputId": "22f1f284-c857-4cbc-dec5-3d7eaf0dc4da"
   },
   "id": "ReqriSoQfrpX"
  },
  {
   "cell_type": "code",
   "execution_count": null,
   "outputs": [],
   "source": [
    "while True:\n",
    "    con = sqlite3.connect('/content/drive/MyDrive/Colab Notebooks/news_Crawl.db')\n",
    "    cur = con.cursor()\n",
    "    theday_string = datetime.strftime(theday, '%Y%m%d')\n",
    "    # one day len(new) ~ 500, 12 categories * 30 ~ 480\n",
    "    try:\n",
    "        id_crawl(theday_string)\n",
    "    except:\n",
    "        sleep(5*random.random())\n",
    "    finally:\n",
    "        pass\n",
    "\n",
    "    con.commit()\n",
    "    con.close()\n",
    "    theday -= timedelta(days=1)\n",
    "    print(theday_string)"
   ],
   "metadata": {
    "collapsed": false
   }
  },
  {
   "cell_type": "code",
   "source": [
    "# save article ids\n",
    "con.commit()\n",
    "con.close()"
   ],
   "metadata": {
    "id": "MvjMfRm3o94n"
   },
   "id": "MvjMfRm3o94n",
   "execution_count": 10,
   "outputs": [
    {
     "ename": "ProgrammingError",
     "evalue": "Cannot operate on a closed database.",
     "output_type": "error",
     "traceback": [
      "\u001B[1;31m---------------------------------------------------------------------------\u001B[0m",
      "\u001B[1;31mProgrammingError\u001B[0m                          Traceback (most recent call last)",
      "Cell \u001B[1;32mIn [10], line 2\u001B[0m\n\u001B[0;32m      1\u001B[0m \u001B[38;5;66;03m# save article ids\u001B[39;00m\n\u001B[1;32m----> 2\u001B[0m con\u001B[38;5;241m.\u001B[39mcommit()\n\u001B[0;32m      3\u001B[0m con\u001B[38;5;241m.\u001B[39mclose()\n",
      "\u001B[1;31mProgrammingError\u001B[0m: Cannot operate on a closed database."
     ]
    }
   ]
  },
  {
   "cell_type": "code",
   "execution_count": 5,
   "outputs": [
    {
     "data": {
      "text/plain": "87920"
     },
     "execution_count": 5,
     "metadata": {},
     "output_type": "execute_result"
    }
   ],
   "source": [
    "cur.execute('''\n",
    "    SELECT id FROM visited WHERE bool = 0\n",
    "''')\n",
    "ids = cur.fetchall()\n",
    "len(ids)"
   ],
   "metadata": {
    "collapsed": false
   }
  },
  {
   "cell_type": "code",
   "execution_count": 6,
   "outputs": [],
   "source": [
    "def news_crawl(news_list):\n",
    "    for article_id in news_list:\n",
    "        article_id = article_id[0]\n",
    "        page_url = 'https://www.yna.co.kr/view/{}'.format(article_id)\n",
    "        page_resp = get(page_url, headers=headers)\n",
    "        dom = BeautifulSoup(page_resp.text, 'html.parser')\n",
    "\n",
    "        title = dom.select_one('h1.tit').string\n",
    "        content = dom.select('article.story-news.article p')\n",
    "        content = [p for p in content if not p.has_attr('class')]\n",
    "        content = [ar.string for ar in content if ar.string is not None]\n",
    "        content = ''.join(content)\n",
    "        dateNews = article_id[4:14]\n",
    "        category = dom.select_one('meta[property=\"article:section\"]')['content']\n",
    "\n",
    "        cur.execute('''\n",
    "            INSERT OR IGNORE INTO news\n",
    "            (id, url, title, content, dateNews, category)\n",
    "            VALUES (:id, :url, :title, :content, :dateNews, :category);\n",
    "            ''', (article_id, page_url, title, content, dateNews, category))\n",
    "\n",
    "        cur.execute('''\n",
    "            UPDATE visited SET bool = 1 where id = ?\n",
    "        ''', [article_id])"
   ],
   "metadata": {
    "collapsed": false
   }
  },
  {
   "cell_type": "code",
   "execution_count": null,
   "outputs": [],
   "source": [
    "# get each pages\n",
    "while True:\n",
    "    # crawl to db\n",
    "    con = sqlite3.connect('/content/drive/MyDrive/Colab Notebooks/news_Crawl_home.db')\n",
    "    cur = con.cursor()\n",
    "\n",
    "    cur.execute('''\n",
    "        SELECT id FROM visited WHERE bool = 0 ORDER BY id DESC LIMIT 100\n",
    "    ''')\n",
    "    news_list = cur.fetchall()\n",
    "    if len(news_list) == 0:\n",
    "        break\n",
    "\n",
    "    # print(news_list)\n",
    "    try:\n",
    "        news_crawl(news_list)\n",
    "    except:\n",
    "        sleep(15*60)\n",
    "    finally:\n",
    "        pass\n",
    "\n",
    "    con.commit()\n",
    "    con.close()\n",
    "    print('.')"
   ],
   "metadata": {
    "id": "wJSmIsBJfrpY",
    "outputId": "e3a23d1e-73d7-4808-c43d-bffc59b60e73"
   },
   "id": "wJSmIsBJfrpY"
  },
  {
   "cell_type": "code",
   "execution_count": null,
   "outputs": [],
   "source": [
    "con.commit()\n",
    "# con.close()"
   ],
   "metadata": {
    "collapsed": false
   }
  },
  {
   "cell_type": "code",
   "execution_count": 8,
   "outputs": [
    {
     "data": {
      "text/plain": "(137367, 49447, 48812)"
     },
     "execution_count": 8,
     "metadata": {},
     "output_type": "execute_result"
    }
   ],
   "source": [
    "cur.execute('''\n",
    "    SELECT count(id) FROM visited\n",
    "''')\n",
    "result = cur.fetchone()\n",
    "cur.execute('''\n",
    "    SELECT count(id) FROM visited WHERE bool = 1\n",
    "''')\n",
    "result_1 = cur.fetchone()\n",
    "\n",
    "cur.execute('''\n",
    "    SELECT count(url) FROM news\n",
    "''')\n",
    "result_news = cur.fetchone()\n",
    "result[0], result_1[0], result_news[0]"
   ],
   "metadata": {
    "collapsed": false
   }
  },
  {
   "cell_type": "code",
   "execution_count": null,
   "outputs": [],
   "source": [],
   "metadata": {
    "collapsed": false
   }
  }
 ],
 "metadata": {
  "kernelspec": {
   "display_name": "Python 3 (ipykernel)",
   "language": "python",
   "name": "python3"
  },
  "language_info": {
   "codemirror_mode": {
    "name": "ipython",
    "version": 3
   },
   "file_extension": ".py",
   "mimetype": "text/x-python",
   "name": "python",
   "nbconvert_exporter": "python",
   "pygments_lexer": "ipython3",
   "version": "3.9.13"
  },
  "colab": {
   "provenance": []
  }
 },
 "nbformat": 4,
 "nbformat_minor": 5
}
