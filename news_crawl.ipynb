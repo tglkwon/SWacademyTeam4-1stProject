{
 "cells": [
  {
   "cell_type": "code",
   "execution_count": 1,
   "id": "cd858497",
   "metadata": {
    "id": "cd858497"
   },
   "outputs": [],
   "source": [
    "from requests import get, Session, request\n",
    "from requests.compat import urlparse, urlunparse, urljoin\n",
    "from bs4 import BeautifulSoup\n",
    "import re\n",
    "import sqlite3\n",
    "from time import time, localtime, sleep, strftime, mktime\n",
    "from datetime import datetime, timedelta\n",
    "\n",
    "session = Session()\n",
    "headers={'user-agent':'Mozilla/5.0 (Macintosh; Intel Mac OS X 10_15_7) AppleWebKit/537.36 (KHTML, like Gecko) Chrome/105.0.0.0 Safari/537.36',\n",
    "         'Referer': 'https://www.yna.co.kr/'}\n",
    "searchDate = '20221201'\n",
    "nday = 365"
   ]
  },
  {
   "cell_type": "code",
   "execution_count": 4,
   "id": "552a4d07",
   "metadata": {
    "id": "552a4d07"
   },
   "outputs": [],
   "source": [
    "def robotParser(domain):\n",
    "    url = urlunparse(urlparse(domain)[:2] + ('',)*4)\n",
    "    url += '/robots.txt'    \n",
    "    pathEnable = dict()\n",
    "    resp = get(url)\n",
    "    if resp.status_code == 200:\n",
    "        agent = None\n",
    "        for line in resp.text.splitlines():\n",
    "            k, *v = line.split(':')\n",
    "            k = k.strip()\n",
    "            v = ':'.join(v).strip()\n",
    "            if k.lower() == 'user-agent':\n",
    "                agent = v\n",
    "                if v not in pathEnable:\n",
    "                    pathEnable[v] = dict()\n",
    "            else:\n",
    "                if k.lower() == 'allow':\n",
    "                    pathEnable[agent][v] = True\n",
    "                else:\n",
    "                    pathEnable[agent][v] = False\n",
    "    else:\n",
    "        pathEnable['*'] = True\n",
    "    return pathEnable"
   ]
  },
  {
   "cell_type": "code",
   "execution_count": 5,
   "id": "4c0331e6",
   "metadata": {
    "id": "4c0331e6"
   },
   "outputs": [],
   "source": [
    "def canFetch(pathEnable, path):\n",
    "    agent = '*'\n",
    "    path = urlparse(path).path\n",
    "    \n",
    "    if agent in pathEnable:\n",
    "        if path in pathEnable[agent]:\n",
    "            return pathEnable[agent][path]\n",
    "        else:\n",
    "            if path == '/':\n",
    "                return True\n",
    "            else:\n",
    "                return canFetch(pathEnable,\n",
    "                                '/'.join(path.split('/')[:-1]))\n",
    "    else:\n",
    "        return True"
   ]
  },
  {
   "cell_type": "code",
   "source": [
    "from google.colab import drive\n",
    "drive.mount('/content/drive')"
   ],
   "metadata": {
    "colab": {
     "base_uri": "https://localhost:8080/"
    },
    "id": "syP_oa-1sf53",
    "outputId": "272c3def-5228-4526-91e4-f43cd5289848"
   },
   "id": "syP_oa-1sf53",
   "execution_count": 6,
   "outputs": [
    {
     "ename": "ModuleNotFoundError",
     "evalue": "No module named 'google.colab'",
     "output_type": "error",
     "traceback": [
      "\u001B[1;31m---------------------------------------------------------------------------\u001B[0m",
      "\u001B[1;31mModuleNotFoundError\u001B[0m                       Traceback (most recent call last)",
      "Cell \u001B[1;32mIn [6], line 1\u001B[0m\n\u001B[1;32m----> 1\u001B[0m \u001B[38;5;28;01mfrom\u001B[39;00m \u001B[38;5;21;01mgoogle\u001B[39;00m\u001B[38;5;21;01m.\u001B[39;00m\u001B[38;5;21;01mcolab\u001B[39;00m \u001B[38;5;28;01mimport\u001B[39;00m drive\n\u001B[0;32m      2\u001B[0m drive\u001B[38;5;241m.\u001B[39mmount(\u001B[38;5;124m'\u001B[39m\u001B[38;5;124m/content/drive\u001B[39m\u001B[38;5;124m'\u001B[39m)\n",
      "\u001B[1;31mModuleNotFoundError\u001B[0m: No module named 'google.colab'"
     ]
    }
   ]
  },
  {
   "cell_type": "code",
   "source": [
    "url = 'https://www.yna.co.kr/search/index'\n",
    "urls = list()\n",
    "urls.append((url, 0)) # 깊이 제한\n",
    "seens = list()\n",
    "headers={'user-agent':'Mozilla/5.0 (Macintosh; Intel Mac OS X 10_15_7) AppleWebKit/537.36 (KHTML, like Gecko) Chrome/105.0.0.0 Safari/537.36'}\n",
    "\n",
    "robots = dict()\n",
    "\n",
    "categories = {'정치': '01', '경제': '02', '사회': '05', '금융증권산업': '03%2C04', '사건사고': '06', '문화': '07', '생활건강': '08', 'IT과학' : '09', '북한': '10', '국제': '11', '스포츠': '12', '연예': '0712'}\n",
    "\n",
    "url_exp = 'https://www.yna.co.kr/search/index?query=%EC%82%AC%ED%9A%8C'"
   ],
   "metadata": {
    "id": "dSRuI4ZeqX5T"
   },
   "id": "dSRuI4ZeqX5T",
   "execution_count": 39,
   "outputs": []
  },
  {
   "cell_type": "code",
   "source": [
    "today = datetime.today()\n",
    "uptodate = datetime.strptime(searchDate, '%Y%m%d')\n",
    "\n",
    "# aday = 60*60*24\n",
    "\n",
    "# days_ago = today - timedelta(days=1)\n",
    "# endday = days_ago.strftime('%Y%m%d')\n",
    "# print(endday)\n",
    "\n",
    "for t in range(nday):\n",
    "    days_ago = today - timedelta(days=t)\n",
    "    theday = days_ago.strftime('%Y%m%d')\n",
    "    break\n",
    "\n",
    "\n",
    "for cate, code in categories.items():\n",
    "    params = {\n",
    "    'query': cate,\n",
    "    'ctype': 'A',\n",
    "    'from': theday,\n",
    "    'to': theday,\n",
    "    'period': 'diy',\n",
    "    'div_code': code\n",
    "}"
   ],
   "metadata": {
    "id": "8O5Dpyk1QBw_"
   },
   "id": "8O5Dpyk1QBw_",
   "execution_count": 56,
   "outputs": [
    {
     "name": "stdout",
     "output_type": "stream",
     "text": [
      "20221204\n"
     ]
    }
   ]
  },
  {
   "cell_type": "code",
   "execution_count": 2,
   "outputs": [],
   "source": [
    "js ='https://rd.yna.co.kr/global/js/ns.js?v=120221129_0955'\n",
    "cb = 'https://ars.yna.co.kr/api/v2/search.asis?query=%EB%8B%A4.&ctype=A&div_code=09&page_size=10&channel=basic_kr'"
   ],
   "metadata": {
    "collapsed": false
   }
  },
  {
   "cell_type": "code",
   "source": [
    "# resp = get(url, params=params, headers=headers) # 깊이 제한\n",
    "resp = get(cb, headers=headers) # 깊이 제한\n",
    "\n",
    "# resp.status_code, resp.headers \n",
    "# resp.text[:1000]\n",
    "dom = BeautifulSoup(resp.text, 'html.parser')\n",
    "# dom.select('.title')\n",
    "dom\n",
    "# hList = dom.select('#article_list.cts_atclst .tt2')\n",
    "\n",
    "## 크롬 DevTools에서 Elements 탭에서 보이는 HTML과 Network 탭에서 response.text의 결과가 다릅니다."
   ],
   "metadata": {
    "colab": {
     "base_uri": "https://localhost:8080/"
    },
    "id": "LKLM77XZu3IF",
    "outputId": "05a5f063-c75d-483b-dbb6-09f94fd2ed78"
   },
   "id": "LKLM77XZu3IF",
   "execution_count": 3,
   "outputs": [
    {
     "data": {
      "text/plain": "{\"CONVERT_TIME\":0,\"ctype\":\"A\",\"LOAD\":113,\"_V\":\"NEW\",\"channel\":\"basic_kr\",\"KR_ARTICLE\":{\"result\":[{\"CONTENTS_ID\":\"AKR20221205120300009\",\"URGENCY\":\"3\",\"DIST_TIME\":\"1729\",\"WRITER_NAME\":\"임화섭\",\"TITLE\":\"세계 최고성능 전파망원경, 구상 30년만에 남아공·호주서 착공\",\"DIST_DATE\":\"20221205\",\"INNER_FILE_INFO\":\"\\/etc\\/inner\\/KR\\/2022\\/12\\/05\\/AKR20221205120300009_04_i_T.jpg\",\"TEXT_BODY\":\"..., 블랙홀 주변의 환경, 중력파의 전파(傳播) 등 <b>다&lt;\\/b&gt;양한 천문학 연구가 가능해질 것으로 전망된다.\\n  ... 197개가 설치된다. 안테나간 최대 거리는 150㎞<b>다&lt;\\/b&gt;.\\n    SKA-미드는 현존 최고 성능 시설인 미국 ...0여개 기관들이 참여했다.\\n    SKAO 사무총장인 필 <b>다&lt;\\/b&gt;이아몬드 맨체스터대 물리천문학부 교수는 이번 ...\"},{\"CONTENTS_ID\":\"AKR20221205113200009\",\"URGENCY\":\"3\",\"DIST_TIME\":\"1703\",\"WRITER_NAME\":\"이주영\",\"TITLE\":\"\"박쥐, 데스메탈 가수처럼 7옥타브 넘나드는 소리 낸다\"\",\"DIST_DATE\":\"20221205\",\"INNER_FILE_INFO\":\"\\/etc\\/inner\\/KR\\/2022\\/12\\/05\\/AKR20221205113200009_01_i_T.jpg\",\"TEXT_BODY\":\"... 같은 기법을 사용한다는 것이다.\\n    연구팀은 <b>다&lt;\\/b&gt;우벤토 박쥐 5마리에서 채취한 후두를 이용한 ...부터 120㎑의 고주파까지 낼 수 있다. 저주파로는 <b>다&lt;\\/b&gt;른 박쥐들과 소통하고 고주파는 비행경로 탐색, ... 희생이 따른다며 \"그 소리는 복부에서 가슴, <b>다&lt;\\/b&gt;리, 목까지 온몸을 사용해 내는 소리\"라고 ...\"},{\"CONTENTS_ID\":\"AKR20221205090600054\",\"URGENCY\":\"4\",\"DIST_TIME\":\"1457\",\"WRITER_NAME\":\"형민우\",\"TITLE\":\"영광군, 고향사랑기부제 답례품 12개 선정\",\"DIST_DATE\":\"20221205\",\"INNER_FILE_INFO\":\"\\/etc\\/inner\\/KR\\/2022\\/12\\/05\\/AKR20221205090600054_01_i_T.jpg\",\"TEXT_BODY\":\"...현 주소지를 제외한 자치단체에 연간 500만원 한도로 기부하면 세액공제와 답례품을 받는 제도이다. \\n    강종만 군수는 \"지역 농가소득이 향상되고 군 재정 또한 확대될 것으로 기대된다\"며 \"고향사랑기부제가 성공적으로 정착될 수 있도록 최선을 <b>다&lt;\\/b&gt;하겠다\"고 말했다.\\n    minu21@yna.co.kr\\n(끝)\"},{\"CONTENTS_ID\":\"AKR20221205075300052\",\"URGENCY\":\"3\",\"DIST_TIME\":\"1334\",\"WRITER_NAME\":\"김선경\",\"TITLE\":\"전기연구원, 창원 '이순신 방위산업전'에서 국방기술 선보인다\",\"DIST_DATE\":\"20221205\",\"INNER_FILE_INFO\":\"\\/etc\\/inner\\/KR\\/2022\\/12\\/05\\/AKR20221205075300052_01_i_T.jpg\",\"TEXT_BODY\":\"...실 비용 절감 등 효과를 창출한 바 있다.\\n    고출력 전자파는 상대방의 피부에 쏘게 되면 생명이나 외상의 위험 없이 고통을 안겨주는 일종의 '통증 무기'<b>다&lt;\\/b&gt;.\\n    선박·항공용 비접촉 마그네틱 기어 기반 상반회전 프로펠러는 자석의 N극과 S극이 서로 밀고 당기는 힘을 활용해 기어 부품들의 접촉 없이 동력을 ...\"},{\"CONTENTS_ID\":\"AKR20221205050400017\",\"URGENCY\":\"3\",\"DIST_TIME\":\"1040\",\"WRITER_NAME\":\"오규진\",\"TITLE\":\"네이버 \"국제 머신러닝 학회에서 논문 11편 발표\"\",\"DIST_DATE\":\"20221205\",\"INNER_FILE_INFO\":\"\\/etc\\/inner\\/KR\\/2022\\/12\\/05\\/AKR20221205050400017_01_i_T.jpg\",\"TEXT_BODY\":\"\\n\\n\\n    (서울=연합뉴스) 오규진 기자 = 네이버[035420]는 인공지능(AI) 학회인 신경정보처리시스템학회(뉴립스) 2022'에서 논문 11편을 발표했다고 5일 밝혔다. 뉴립스는 머신러닝 분야 중장기 연구 결과가 주로 발표되는 학회다.\\n    네이버는 이번 학회에서 인공지능 연구개발 역량을 재확인했다고 자평하면서, 텍스트...\"},{\"CONTENTS_ID\":\"AKR20221205045700057\",\"URGENCY\":\"3\",\"DIST_TIME\":\"1026\",\"WRITER_NAME\":\"김용태\",\"TITLE\":\"UNIST·고신대병원, 한국인 맞춤형 당뇨 발병 예측 모델 개발\",\"DIST_DATE\":\"20221205\",\"INNER_FILE_INFO\":\"\\/etc\\/inner\\/KR\\/2022\\/12\\/05\\/AKR20221205045700057_02_i_T.jpg\",\"TEXT_BODY\":\"... 당뇨 발병 예측 성능을 높였다.\\n    제2형 당뇨 발병에 관한 유전 정보는 '<b>다&lt;\\/b&gt;유전자 위험 점수'를 한국인 유전자 특성에 맞게 새로 계산해 예측 모델에 ...에 큰 의미가 있다\"며 \"아시아 집단의 코호트 데이터를 이용하는 <b>다&lt;\\/b&gt;양한 후속 연구에도 활용할 수 있을 것\"이라고 말했다.\\n    연구 결과는 ...\"},{\"CONTENTS_ID\":\"AKR20221202001400083\",\"URGENCY\":\"3\",\"DIST_TIME\":\"0501\",\"WRITER_NAME\":\"조준형\",\"TITLE\":\"[위기의 K반도체] ④ 디커플링 맞서 '자립 생태계' 조성중인 중국\",\"DIST_DATE\":\"20221205\",\"INNER_FILE_INFO\":\"\\/etc\\/inner\\/KR\\/2022\\/12\\/02\\/AKR20221202001400083_04_i_T.jpg\",\"TEXT_BODY\":\"... 독려하기 위한 약간의 정책·2000년 6월) 체제'<b>다&lt;\\/b&gt;. \\n    중국을 대표하는 파운드리(반도체 ..., 결국 중국은 해당 지원책을 철회했다. \\n    이후 <b>다&lt;\\/b&gt;시 반도체 굴기의 신발 끈을 조인 것은 2011년 일명 ... 강요'와 대기금이 나왔다. \\n    이 체제가 과거와 <b>다&lt;\\/b&gt;른 점은 민간 자본의 '저수지'를 만든 점과 중국 ...\"},{\"CONTENTS_ID\":\"AKR20221202131800017\",\"URGENCY\":\"3\",\"DIST_TIME\":\"0900\",\"WRITER_NAME\":\"임성호\",\"TITLE\":\"[위클리 스마트] \"사람 돕고 감동 주는 AI, 누구나 쉽게 쓸 수 있게\"\",\"DIST_DATE\":\"20221203\",\"INNER_FILE_INFO\":\"\\/etc\\/inner\\/KR\\/2022\\/12\\/02\\/AKR20221202131800017_01_i_T.jpg\",\"TEXT_BODY\":\"... 2016년 출범했다. 서울대 전기공학부(98학번)에 <b>다&lt;\\/b&gt;니며 학내 학생벤처 네트워크 부회장을 지낸 장 ...을 이해하고, 사람처럼 말을 건네는 '대화형 AI'<b>다&lt;\\/b&gt;. 처음에는 문자로 소통하는 챗봇 기술로 ...서, 안내원 등까지 AI 휴먼이 적용될 수 있는 분야가 <b>다&lt;\\/b&gt;양하다고 장 대표는 강조했다.\\n\\n    \\n    최근에는 ...\"},{\"CONTENTS_ID\":\"AKR20221202074400005\",\"URGENCY\":\"3\",\"DIST_TIME\":\"1407\",\"WRITER_NAME\":\"오명언\",\"TITLE\":\"아리랑TV 방송에 신기술 활용\\u2026<b>다&lt;\\/b&gt;언어 AI 앵커·AI 프롬프터 등\",\"DIST_DATE\":\"20221202\",\"INNER_FILE_INFO\":\"\\/etc\\/inner\\/KR\\/2022\\/12\\/02\\/AKR20221202074400005_01_i_T.jpg\",\"TEXT_BODY\":\"융합기술 실용화하는 아리랑TV 'MAX 프로젝트'\\u20262일 시연회\\n\\n\\n    (서울=연합뉴스) 오명언 기자 = 아리랑TV가 내년부터 메타버스, 인공지능(AI), 확장현실(XR)을 활용한 방송을 선보인다. \\n    아리랑TV는 2일 서울 서초구 서초동 본사 사옥에서 융합기술을 방송에 실용화하는 'MAX(Metaverse·AI·XR) 프로젝트' 시연회...\"},{\"CONTENTS_ID\":\"AKR20221201085600009\",\"URGENCY\":\"3\",\"DIST_TIME\":\"1139\",\"WRITER_NAME\":\"엄남석\",\"TITLE\":\"개미 번데기 '우유'같은 분비물로 발달단계 <b>다&lt;\\/b&gt;른 세대 통합\",\"DIST_DATE\":\"20221201\",\"INNER_FILE_INFO\":\"\\/etc\\/inner\\/KR\\/2022\\/12\\/01\\/AKR20221201085600009_01_i_T.jpg\",\"TEXT_BODY\":\"... 즉각 먹어 치울 땐 에너지원이 돼 발달 단계가 <b>다&lt;\\/b&gt;른 개미 집단 내 모든 개체가 서로 의존하게 ... 집단에서 애벌레와 번데기, 성체 등 발달 단계가 <b>다&lt;\\/b&gt;른 개미를 격리한 뒤 집단에 미치는 영향을 ...하는 데 재활용하지만, 개미의 번데기는 이를 집단 내 <b>다&lt;\\/b&gt;른 개체와 공유하는 것으로 드러났다.   \\n    이 ...\"}],\"uid\":\"9gOjRO4vbG\",\"hostName\":\"isrch1_19y\",\"analyzed_query\":\"다 다*\",\"responseTime\":0.11,\"query\":\"다\",\"count\":10,\"simdoc_query\":\"\",\"page_no\":1,\"totalCount\":9901,\"collName\":\"KR_ARTICLE\",\"page_size\":10},\"URL\":\"http:\\/\\/30.1.1.177:7003\\/qp?coll=YIB_KR_A;&amp;srch_area=article&amp;query=%EB%8B%A4.&amp;channel=basic_kr&amp;page_no=1&amp;sort=date&amp;qmodifier=title_body&amp;result=list÷_code=09&amp;ctype=A&amp;result_style=json&amp;page_size=10&amp;from_date=20121208&amp;to_date=20221206\"}</b></b></b></b></b></b></b></b></b></b></b></b></b></b></b></b></b></b></b></b></b>"
     },
     "execution_count": 3,
     "metadata": {},
     "output_type": "execute_result"
    }
   ]
  },
  {
   "cell_type": "code",
   "execution_count": null,
   "outputs": [],
   "source": [
    "# crawl to db\n",
    "con = sqlite3.connect('news_Crawl')\n",
    "cur = con.cursor()"
   ],
   "metadata": {
    "collapsed": false
   }
  },
  {
   "cell_type": "code",
   "execution_count": null,
   "outputs": [],
   "source": [
    "cur.execute('''\n",
    "\tINSERT INTO news\n",
    "\t(URL, title, content, dateNews, keywords, category, dataInput)\n",
    "\tVALUES (:url, :title, :content, :dateNews, :keywords, :category, :dataInput);\n",
    "''', {'url': url, 'title': hList, 'content': news, 'dateNews': dateNews, 'keywords': keywords, 'category': cate})"
   ],
   "metadata": {
    "collapsed": false
   }
  },
  {
   "cell_type": "code",
   "execution_count": null,
   "id": "f5539a46",
   "metadata": {
    "id": "f5539a46",
    "outputId": "e65d6514-acf2-4095-9635-eaa8db2e8020",
    "colab": {
     "base_uri": "https://localhost:8080/"
    }
   },
   "outputs": [],
   "source": [
    "while urls:\n",
    "    # URLs Pool\n",
    "    seed = urls.pop(-1) # Queue=BFS, Stack=DFS\n",
    "    seens.append(seed[0]) # 깊이 제한\n",
    "    \n",
    "    # Robots.txt\n",
    "#     if seed not in robots:\n",
    "#         robots[seed] = robotParser(seed)\n",
    "#     rp = robots[seed]\n",
    "#     print('[Robots.txt]', seed, canFetch(rp, seed)) # True일때만, 지금은무시\n",
    "    \n",
    "    # Focused Crawling\n",
    "#     if seed[1] > 2: # 자의적 => 휴리스틱\n",
    "#         continue\n",
    "        \n",
    "    resp = get(seed[0], headers=headers) # 깊이 제한\n",
    "    if resp.status_code == 200 and 'Content-Type'.lower() in resp.headers:\n",
    "                                   # content-type이 있을때만\n",
    "        if 'text/html' in\\\n",
    "           [_.strip() for _ in resp.headers['Content-Type'].split(';')]: #바꿔야함\n",
    "            dom = BeautifulSoup(resp.text, 'html.parser')\n",
    "            domlist = dom.select('#article_list.search_news_list.dis_none')\n",
    "            aList = dom.select('#article_list.cts_atclst a')\n",
    "            hList = dom.select('#article_list.cts_atclst .tt2')\n",
    "            news = dom.select_one('.story-news\\ article p')\n",
    "            if len(aList) > 0:\n",
    "                for el in aList[1:6]:\n",
    "                    url = el.attrs['href']\n",
    "                    nextUrl = urljoin(seed[0], url)\n",
    "                    urlParams = urlparse(nextUrl)\n",
    "\n",
    "                    # URL 체크\n",
    "                    if nextUrl not in seens and\\\n",
    "                       nextUrl not in [_[0] for _ in urls] and\\\n",
    "                       nextUrl.startswith('http'):\n",
    "                        urls.append((nextUrl, seed[1]+1))\n",
    "            if len(hList) > 0:\n",
    "                for el in hList:\n",
    "                    url = el.attrs['href']\n",
    "                    nextUrl = urljoin(seed[0], url)\n",
    "                    urlParams = urlparse(nextUrl)\n",
    "# https://n.news.naver.com/mnews/article/119/0002640090?sid=102\n",
    "                    # URL 체크\n",
    "                    if nextUrl not in seens and\\\n",
    "                       nextUrl not in [_[0] for _ in urls] and\\\n",
    "                       nextUrl.startswith('http'):\n",
    "                        urls.append((nextUrl, seed[1]+1))\n",
    "            news = dom.select_one('#ct #contents')\n",
    "            if news:\n",
    "                fileName = re.search('(\\d{10})[?]sid=(\\d{3})$', resp.url)\n",
    "                with open(\n",
    "                    '/content/drive/MyDrive/dataset/paper/{}-{}.txt'.format(fileName.group(2),\n",
    "                                              fileName.group(1)),\n",
    "                    'w', encoding='utf8') as f:\n",
    "                    f.write(news.text.strip())\n",
    "                for img in news.select('img[data-src]'):\n",
    "                    urls.append((urljoin(resp.url, img.attrs['data-src']), seed[1]+1))\n",
    "#             for el in dom.select('[src], [href]'): # [:10] 너비제한\n",
    "#                 url = el.attrs['src' if 'src' in el.attrs else 'href']\n",
    "#                 nextUrl = urljoin(seed[0], url) # 깊이 제한\n",
    "#                 urlParams = urlparse(nextUrl)\n",
    "\n",
    "#                 # URL 체크\n",
    "#                 if nextUrl not in seens and\\\n",
    "#                    nextUrl not in [_[0] for _ in urls] and\\\n",
    "#                    urlParams.netloc == 'blog.naver.com' and\\\n",
    "#                    nextUrl.startswith('http'):\n",
    "#                     # javascript, #fragment 제외시켜야 함\n",
    "#                     # Focused = 특정 도메인으로 제한\n",
    "#                     urls.append((nextUrl, seed[1]+1)) # 깊이 제한\n",
    "        else:\n",
    "            #image/jpeg\n",
    "            ext = re.search(r'image/(png|jpeg|bmp|gif)', resp.headers['Content-Type'])\n",
    "            if ext:\n",
    "#                 fileName = re.search('(\\d{8}_\\d{3})', resp.url)\n",
    "                fileName = resp.url.split('/')[-1]\n",
    "                fileName += '.'+ ext.group(1)\n",
    "                with open('/content/drive/MyDrive/dataset/news/'+fileName, 'wb') as fp:\n",
    "                    fp.write(resp.content)\n",
    "    print(len(urls), len(seens))"
   ]
  }
 ],
 "metadata": {
  "kernelspec": {
   "display_name": "Python 3 (ipykernel)",
   "language": "python",
   "name": "python3"
  },
  "language_info": {
   "codemirror_mode": {
    "name": "ipython",
    "version": 3
   },
   "file_extension": ".py",
   "mimetype": "text/x-python",
   "name": "python",
   "nbconvert_exporter": "python",
   "pygments_lexer": "ipython3",
   "version": "3.9.13"
  },
  "colab": {
   "provenance": []
  }
 },
 "nbformat": 4,
 "nbformat_minor": 5
}
