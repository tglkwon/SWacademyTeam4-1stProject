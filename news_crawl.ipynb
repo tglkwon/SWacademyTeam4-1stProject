{
 "cells": [
  {
   "cell_type": "code",
   "execution_count": 2,
   "id": "cd858497",
   "metadata": {
    "id": "cd858497"
   },
   "outputs": [],
   "source": [
    "from requests import get, Session, request\n",
    "from requests.compat import urlparse, urlunparse, urljoin\n",
    "from bs4 import BeautifulSoup\n",
    "import re\n",
    "import sqlite3\n",
    "from time import time, localtime, sleep, strftime, mktime\n",
    "from datetime import datetime, timedelta\n",
    "import json\n",
    "\n",
    "session = Session()\n",
    "headers={'user-agent':'Mozilla/5.0 (Macintosh; Intel Mac OS X 10_15_7) AppleWebKit/537.36 (KHTML, like Gecko) Chrome/105.0.0.0 Safari/537.36',\n",
    "         'Referer': 'https://www.yna.co.kr/'}\n",
    "searchDate = '20221201'\n",
    "nday = 365\n",
    "page_no = 1"
   ]
  },
  {
   "cell_type": "code",
   "execution_count": 2,
   "id": "552a4d07",
   "metadata": {
    "id": "552a4d07"
   },
   "outputs": [],
   "source": [
    "def robotParser(domain):\n",
    "    url = urlunparse(urlparse(domain)[:2] + ('',)*4)\n",
    "    url += '/robots.txt'    \n",
    "    pathEnable = dict()\n",
    "    resp = get(url)\n",
    "    if resp.status_code == 200:\n",
    "        agent = None\n",
    "        for line in resp.text.splitlines():\n",
    "            k, *v = line.split(':')\n",
    "            k = k.strip()\n",
    "            v = ':'.join(v).strip()\n",
    "            if k.lower() == 'user-agent':\n",
    "                agent = v\n",
    "                if v not in pathEnable:\n",
    "                    pathEnable[v] = dict()\n",
    "            else:\n",
    "                if k.lower() == 'allow':\n",
    "                    pathEnable[agent][v] = True\n",
    "                else:\n",
    "                    pathEnable[agent][v] = False\n",
    "    else:\n",
    "        pathEnable['*'] = True\n",
    "    return pathEnable"
   ]
  },
  {
   "cell_type": "code",
   "execution_count": 3,
   "id": "4c0331e6",
   "metadata": {
    "id": "4c0331e6"
   },
   "outputs": [],
   "source": [
    "def canFetch(pathEnable, path):\n",
    "    agent = '*'\n",
    "    path = urlparse(path).path\n",
    "    \n",
    "    if agent in pathEnable:\n",
    "        if path in pathEnable[agent]:\n",
    "            return pathEnable[agent][path]\n",
    "        else:\n",
    "            if path == '/':\n",
    "                return True\n",
    "            else:\n",
    "                return canFetch(pathEnable,\n",
    "                                '/'.join(path.split('/')[:-1]))\n",
    "    else:\n",
    "        return True"
   ]
  },
  {
   "cell_type": "code",
   "source": [
    "from google.colab import drive\n",
    "drive.mount('/content/drive')"
   ],
   "metadata": {
    "colab": {
     "base_uri": "https://localhost:8080/"
    },
    "id": "syP_oa-1sf53",
    "outputId": "272c3def-5228-4526-91e4-f43cd5289848"
   },
   "id": "syP_oa-1sf53",
   "execution_count": null,
   "outputs": []
  },
  {
   "cell_type": "code",
   "source": [
    "# url = 'https://www.yna.co.kr/search/index'\n",
    "today = datetime.today()\n",
    "theday = datetime.strptime(searchDate, '%Y%m%d')\n",
    "\n",
    "seens = dict()\n",
    "headers={'user-agent':'Mozilla/5.0 (Macintosh; Intel Mac OS X 10_15_7) AppleWebKit/537.36 (KHTML, like Gecko) Chrome/105.0.0.0 Safari/537.36'}\n",
    "\n",
    "query = dict()\n",
    "\n",
    "categories = {'정치': '01', '경제': '02', '사회': '05', '금융증권산업': '03%2C04', '사건사고': '06', '문화': '07', '생활건강': '08', 'IT과학' : '09', '북한': '10', '국제': '11', '스포츠': '12', '연예': '0712'}\n",
    "\n",
    "params = {\n",
    "    'query': '%ED%96%88%EB%8B%A4',\n",
    "    'period': '1y',\n",
    "    'page_no': page_no,\n",
    "    'ctype': 'A',\n",
    "    'from': theday,\n",
    "    'to': theday,\n",
    "    'page_size': 10,\n",
    "    'channel': 'basic_kr'\n",
    "}"
   ],
   "metadata": {
    "id": "dSRuI4ZeqX5T"
   },
   "id": "dSRuI4ZeqX5T",
   "execution_count": 4,
   "outputs": []
  },
  {
   "cell_type": "code",
   "source": [
    "# aday = 60*60*24\n",
    "\n",
    "# days_ago = today - timedelta(days=1)\n",
    "# endday = days_ago.strftime('%Y%m%d')\n",
    "# print(endday)\n",
    "\n",
    "for t in range(nday):\n",
    "    days_ago = today - timedelta(days=t)\n",
    "    theday = days_ago.strftime('%Y%m%d')\n",
    "    break\n",
    "\n",
    "\n",
    "for cate, code in categories.items():\n",
    "    params = {\n",
    "    'query': cate,\n",
    "    'ctype': 'A',\n",
    "    'from': theday,\n",
    "    'to': theday,\n",
    "    'period': 'diy',\n",
    "    'div_code': code\n",
    "}"
   ],
   "metadata": {
    "id": "8O5Dpyk1QBw_"
   },
   "id": "8O5Dpyk1QBw_",
   "execution_count": null,
   "outputs": []
  },
  {
   "cell_type": "code",
   "execution_count": null,
   "outputs": [],
   "source": [
    "# page_resp = get('https://www.yna.co.kr/view/AKR20221205120300009', headers=headers)\n",
    "# dom = BeautifulSoup(page_resp.text, 'html.parser')\n",
    "# content = dom.select('article.story-news.article p')\n",
    "# content[2:-2],len(content)"
   ],
   "metadata": {
    "collapsed": false
   }
  },
  {
   "cell_type": "code",
   "execution_count": 7,
   "outputs": [
    {
     "data": {
      "text/plain": "[\" (서울=연합뉴스) 임화섭 기자 = 완공시 세계에서 가장 성능이 뛰어난 전파망원경이 될 '스퀘어 킬로미터 어레이'(Square Kilometre Array·SKA) 시설이 5일(현지시간) 호주와 남아프리카공화국에서 각각 착공됐다.\",\n ' 구상 30여년 만에 착공된 이 시설이 10년 뒤 완공돼 가동되면 우주의 시작, 먼 은하의 상태, 블랙홀 주변의 환경, 중력파의 전파(傳播) 등 다양한 천문학 연구가 가능해질 것으로 전망된다.',\n \" SKA 운영 기관 'SKAO'는 이날 차세대 전파망원경인 SKA의 착공 사실을 발표했다.\",\n ' SKA는 아직 건설 초기 단계여서 정확한 총 건설비는 나오지 않고 있다. 2020년 추산에 따르면 당시 물가 기준으로 2030년까지 망원경을 건설하고 가동하는 데 19억 유로(2조6천억 원)가 들 것으로 전망됐다.',\n ' SKA는 국제적인 대규모 분산 시설이다.',\n \" 호주에 만들어질 'SKA-로'(SKA-Low), 남아프리카공화국에 지어지는 'SKA-미드'(SKA-미드), 고성능 슈퍼컴퓨터 등으로 데이터를 종합하고 분석할 SKAO 영국 글로벌 본부 등으로 구성된다.\",\n '[SKAO 제공 사진]',\n ' SKA 시설 중 50∼350㎒의 비교적 낮은 주파수를 담당하는 SKA-로는 호주 웨스턴오스트레일리아주의 와자리 지역에 들어선다.',\n ' 크리스마스트리처럼 생긴 소형 안테나 13만1천72개가 512개 기지국으로 나뉘어 설치된다. 기지국당 안테나 수는 256개다.',\n ' 기지국간 최대 거리는 65㎞, 안테나간 최대 거리는 74㎞가 될 예정이다.',\n ' SKA-로는 현존 최고 성능 시설인 네덜란드 로파(LOFAR) 대비 해상도는 1.2배, 하늘 전체를 훑는 속도는 135배, 감도는 8배가 될 것으로 전망된다.',\n ' 이보다 상대적으로 높은 350㎒∼15.4㎓의 중간 주파수를 담당하는 SKA-미드는 남아프리카공화국 카루 지역에 들어선다.',\n ' 여기에는 접시 안테나 197개가 설치된다. 안테나간 최대 거리는 150㎞다.',\n \" SKA-미드는 현존 최고 성능 시설인 미국 뉴멕시코주 소재 'JVLA' 대비 해상도는 4배, 하늘 전체를 훑는 속도는 60배, 감도는 5배일 것으로 전망된다.\",\n \" SKAO 글로벌 본부는 영국 맨체스터대 산하 '조드렐뱅크 관측소' 옆에 세워졌다.\",\n ' SKA는 3개 대륙에 걸친 빅데이터 처리 시설이기도 하다. 한 해에 350 PB(페타바이트)의 데이터가 생성돼 세계 곳곳에 보관된다.',\n ' 정부간 컨소시엄인 SKAO의 정회원국은 호주, 중국, 이탈리아, 네덜란드, 포르투갈, 남아프리카공화국, 스위스, 영국 등 8개국이다.',\n ' SKAO의 구상은 1990년대에 나왔으며, 기본 구상 단계부터 구체적 설계에 이르기까지 30여년간 20여개국 100여개 기관들이 참여했다.',\n ' SKAO 사무총장인 필 다이아몬드 맨체스터대 물리천문학부 교수는 이번 착공에 대해 \"30년간의 여정을 거쳐 (SKA 구상이) 현실이 되는 순간\"이라고 표현했다고 영국 공영방송 BBC 뉴스는 전했다.']"
     },
     "execution_count": 7,
     "metadata": {},
     "output_type": "execute_result"
    }
   ],
   "source": [
    "contents_id = 'AKR20221205120300009'\n",
    "page_url = 'https://www.yna.co.kr/view/{}'.format(contents_id)\n",
    "page_resp = get(page_url, headers=headers)\n",
    "dom = BeautifulSoup(page_resp.text, 'html.parser')\n",
    "category = dom.select_one('meta[property=\"article:section\"]')['content']\n",
    "title = dom.select_one('h1.tit')\n",
    "\n",
    "content = dom.select('article.story-news.article p')[2:-2]\n",
    "#### 질문? 불필요한 tag 찾아서 정리하기\n",
    "\n",
    "[ar.string for ar in content if ar.string is not None]"
   ],
   "metadata": {
    "collapsed": false
   }
  },
  {
   "cell_type": "code",
   "execution_count": 8,
   "outputs": [],
   "source": [
    "# crawl to db\n",
    "con = sqlite3.connect('news_Crawl')\n",
    "cur = con.cursor()"
   ],
   "metadata": {
    "collapsed": false
   }
  },
  {
   "cell_type": "code",
   "execution_count": 9,
   "outputs": [
    {
     "ename": "NameError",
     "evalue": "name 'params' is not defined",
     "output_type": "error",
     "traceback": [
      "\u001B[1;31m---------------------------------------------------------------------------\u001B[0m",
      "\u001B[1;31mNameError\u001B[0m                                 Traceback (most recent call last)",
      "Cell \u001B[1;32mIn [9], line 3\u001B[0m\n\u001B[0;32m      1\u001B[0m \u001B[38;5;28;01mwhile\u001B[39;00m \u001B[38;5;28;01mTrue\u001B[39;00m:\n\u001B[0;32m      2\u001B[0m     url \u001B[38;5;241m=\u001B[39m \u001B[38;5;124m'\u001B[39m\u001B[38;5;124mhttps://ars.yna.co.kr/api/v2/search.asis?query=\u001B[39m\u001B[38;5;132;01m%E\u001B[39;00m\u001B[38;5;124mD\u001B[39m\u001B[38;5;132;01m%96%\u001B[39;00m\u001B[38;5;124m88\u001B[39m\u001B[38;5;132;01m%E\u001B[39;00m\u001B[38;5;124mB\u001B[39m\u001B[38;5;124m%\u001B[39m\u001B[38;5;124m8B\u001B[39m\u001B[38;5;124m%\u001B[39m\u001B[38;5;124mA4&page_no=\u001B[39m\u001B[38;5;132;01m{}\u001B[39;00m\u001B[38;5;124m&period=1y&from=20211206&to=20221206&ctype=A&page_size=10&channel=basic_kr\u001B[39m\u001B[38;5;124m'\u001B[39m\u001B[38;5;241m.\u001B[39mformat(page_no)\n\u001B[1;32m----> 3\u001B[0m     resp \u001B[38;5;241m=\u001B[39m get(url, params\u001B[38;5;241m=\u001B[39mparams, headers\u001B[38;5;241m=\u001B[39mheaders) \u001B[38;5;66;03m# 깊이 제한\u001B[39;00m\n\u001B[0;32m      4\u001B[0m     \u001B[38;5;28;01mif\u001B[39;00m resp\u001B[38;5;241m.\u001B[39mstatus_code \u001B[38;5;241m!=\u001B[39m \u001B[38;5;241m200\u001B[39m:\n\u001B[0;32m      5\u001B[0m         \u001B[38;5;28;01mbreak\u001B[39;00m\n",
      "\u001B[1;31mNameError\u001B[0m: name 'params' is not defined"
     ]
    }
   ],
   "source": [
    "while True:\n",
    "    url = 'https://ars.yna.co.kr/api/v2/search.asis?query=%ED%96%88%EB%8B%A4&page_no={}&period=1y&from=20211206&to=20221206&ctype=A&page_size=10&channel=basic_kr'.format(page_no)\n",
    "    resp = get(url, params=params, headers=headers) # 깊이 제한\n",
    "    if resp.status_code != 200:\n",
    "        break\n",
    "\n",
    "    ids = json.loads(resp.text)['KR_ARTICLE']['result']\n",
    "    for id in ids:\n",
    "        contents_id = id['CONTENTS_ID']\n",
    "        if contents_id in seens:\n",
    "            break\n",
    "        else:\n",
    "            seens[contents_id] = id['DIST_DATE']\n",
    "# get each pages\n",
    "        page_url = 'https://www.yna.co.kr/view/{}'.format(contents_id)\n",
    "        page_resp = get(page_url, headers=headers)\n",
    "        dom = BeautifulSoup(page_resp.text, 'html.parser')\n",
    "        category = dom.select_one('meta[property=\"article:section\"]')['content']\n",
    "        title = dom.select_one('h1.tit')\n",
    "        # dateNews = dom.select_one('#newsUpdateTime01')['data-pulished-time']\n",
    "        # if dateNews != id['DIST_DATE']+id['DIST_TIME']:\n",
    "        #     print('different date at: ', contents_id)\n",
    "\n",
    "        # get rid of not content texts(info of journalist)\n",
    "        content = dom.select('article.story-news.article p')[2:-2]\n",
    "        #### 질문? 불필요한 tag 찾아서 정리하기\n",
    "        content = [ar.string for ar in content if ar.string is not None]\n",
    "        content = ' '.join(content)\n",
    "        query['URL'] = page_url\n",
    "        query['title'] = title\n",
    "        query['content'] = content\n",
    "        query['dateNews'] = id['DIST_DATE']\n",
    "        query['category'] = category\n",
    "        cur.execute('''\n",
    "\tINSERT INTO news\n",
    "\t(URL, title, content, dateNews, category, dataInput)\n",
    "\tVALUES (:url, :title, :content, :dateNews, :category, :dataInput);\n",
    "''', query)\n",
    "\n",
    "    page_no += 1\n",
    "    print(page_no)\n",
    "    break"
   ],
   "metadata": {
    "collapsed": false
   }
  },
  {
   "cell_type": "code",
   "execution_count": null,
   "outputs": [],
   "source": [],
   "metadata": {
    "collapsed": false
   }
  },
  {
   "cell_type": "code",
   "execution_count": null,
   "outputs": [],
   "source": [],
   "metadata": {
    "collapsed": false
   }
  },
  {
   "cell_type": "code",
   "execution_count": null,
   "outputs": [],
   "source": [],
   "metadata": {
    "collapsed": false
   }
  },
  {
   "cell_type": "code",
   "execution_count": null,
   "id": "f5539a46",
   "metadata": {
    "id": "f5539a46",
    "outputId": "e65d6514-acf2-4095-9635-eaa8db2e8020",
    "colab": {
     "base_uri": "https://localhost:8080/"
    }
   },
   "outputs": [],
   "source": [
    "while urls:\n",
    "    # URLs Pool\n",
    "    seed = urls.pop(-1) # Queue=BFS, Stack=DFS\n",
    "    seens.append(seed[0]) # 깊이 제한\n",
    "    \n",
    "    # Robots.txt\n",
    "#     if seed not in robots:\n",
    "#         robots[seed] = robotParser(seed)\n",
    "#     rp = robots[seed]\n",
    "#     print('[Robots.txt]', seed, canFetch(rp, seed)) # True일때만, 지금은무시\n",
    "    \n",
    "    # Focused Crawling\n",
    "#     if seed[1] > 2: # 자의적 => 휴리스틱\n",
    "#         continue\n",
    "        \n",
    "    resp = get(seed[0], headers=headers) # 깊이 제한\n",
    "    if resp.status_code == 200 and 'Content-Type'.lower() in resp.headers:\n",
    "                                   # content-type이 있을때만\n",
    "        if 'text/html' in\\\n",
    "           [_.strip() for _ in resp.headers['Content-Type'].split(';')]: #바꿔야함\n",
    "            dom = BeautifulSoup(resp.text, 'html.parser')\n",
    "            domlist = dom.select('#article_list.search_news_list.dis_none')\n",
    "            aList = dom.select('#article_list.cts_atclst a')\n",
    "            hList = dom.select('#article_list.cts_atclst .tt2')\n",
    "            news = dom.select_one('.story-news\\ article p')\n",
    "            if len(aList) > 0:\n",
    "                for el in aList[1:6]:\n",
    "                    url = el.attrs['href']\n",
    "                    nextUrl = urljoin(seed[0], url)\n",
    "                    urlParams = urlparse(nextUrl)\n",
    "\n",
    "                    # URL 체크\n",
    "                    if nextUrl not in seens and\\\n",
    "                       nextUrl not in [_[0] for _ in urls] and\\\n",
    "                       nextUrl.startswith('http'):\n",
    "                        urls.append((nextUrl, seed[1]+1))\n",
    "            if len(hList) > 0:\n",
    "                for el in hList:\n",
    "                    url = el.attrs['href']\n",
    "                    nextUrl = urljoin(seed[0], url)\n",
    "                    urlParams = urlparse(nextUrl)\n",
    "# https://n.news.naver.com/mnews/article/119/0002640090?sid=102\n",
    "                    # URL 체크\n",
    "                    if nextUrl not in seens and\\\n",
    "                       nextUrl not in [_[0] for _ in urls] and\\\n",
    "                       nextUrl.startswith('http'):\n",
    "                        urls.append((nextUrl, seed[1]+1))\n",
    "            news = dom.select_one('#ct #contents')\n",
    "            if news:\n",
    "                fileName = re.search('(\\d{10})[?]sid=(\\d{3})$', resp.url)\n",
    "                with open(\n",
    "                    '/content/drive/MyDrive/dataset/paper/{}-{}.txt'.format(fileName.group(2),\n",
    "                                              fileName.group(1)),\n",
    "                    'w', encoding='utf8') as f:\n",
    "                    f.write(news.text.strip())\n",
    "                for img in news.select('img[data-src]'):\n",
    "                    urls.append((urljoin(resp.url, img.attrs['data-src']), seed[1]+1))\n",
    "#             for el in dom.select('[src], [href]'): # [:10] 너비제한\n",
    "#                 url = el.attrs['src' if 'src' in el.attrs else 'href']\n",
    "#                 nextUrl = urljoin(seed[0], url) # 깊이 제한\n",
    "#                 urlParams = urlparse(nextUrl)\n",
    "\n",
    "#                 # URL 체크\n",
    "#                 if nextUrl not in seens and\\\n",
    "#                    nextUrl not in [_[0] for _ in urls] and\\\n",
    "#                    urlParams.netloc == 'blog.naver.com' and\\\n",
    "#                    nextUrl.startswith('http'):\n",
    "#                     # javascript, #fragment 제외시켜야 함\n",
    "#                     # Focused = 특정 도메인으로 제한\n",
    "#                     urls.append((nextUrl, seed[1]+1)) # 깊이 제한\n",
    "        else:\n",
    "            #image/jpeg\n",
    "            ext = re.search(r'image/(png|jpeg|bmp|gif)', resp.headers['Content-Type'])\n",
    "            if ext:\n",
    "#                 fileName = re.search('(\\d{8}_\\d{3})', resp.url)\n",
    "                fileName = resp.url.split('/')[-1]\n",
    "                fileName += '.'+ ext.group(1)\n",
    "                with open('/content/drive/MyDrive/dataset/news/'+fileName, 'wb') as fp:\n",
    "                    fp.write(resp.content)\n",
    "    print(len(urls), len(seens))"
   ]
  }
 ],
 "metadata": {
  "kernelspec": {
   "display_name": "Python 3 (ipykernel)",
   "language": "python",
   "name": "python3"
  },
  "language_info": {
   "codemirror_mode": {
    "name": "ipython",
    "version": 3
   },
   "file_extension": ".py",
   "mimetype": "text/x-python",
   "name": "python",
   "nbconvert_exporter": "python",
   "pygments_lexer": "ipython3",
   "version": "3.9.13"
  },
  "colab": {
   "provenance": []
  }
 },
 "nbformat": 4,
 "nbformat_minor": 5
}
