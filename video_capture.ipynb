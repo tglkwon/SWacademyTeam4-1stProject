{
 "cells": [
  {
   "cell_type": "code",
   "execution_count": 188,
   "metadata": {},
   "outputs": [],
   "source": [
    "import cv2\n",
    "import os\n",
    "import re\n",
    "from datetime import datetime, timedelta"
   ]
  },
  {
   "cell_type": "code",
   "execution_count": 189,
   "metadata": {},
   "outputs": [],
   "source": [
    "def make_dirs(path):\n",
    "    try:\n",
    "        os.makedirs(path)\n",
    "    except OSError:\n",
    "        if not os.path.isdir(path):\n",
    "            raise"
   ]
  },
  {
   "cell_type": "code",
   "execution_count": 190,
   "metadata": {},
   "outputs": [],
   "source": [
    "def get_record_times(current_time):\n",
    "    # 추후 조건에 맞게 시간 수정 예정\n",
    "    record_start_time = current_time + timedelta(seconds=1)\n",
    "    record_end_time = record_start_time + timedelta(seconds=30)\n",
    "        \n",
    "    return record_start_time, record_end_time"
   ]
  },
  {
   "cell_type": "code",
   "execution_count": 191,
   "metadata": {},
   "outputs": [],
   "source": [
    "def get_video_name(save_path, current_time):\n",
    "    # 날짜별 저장을 위한 분리 및 폴더 생성\n",
    "    folder_name, video_name = str(current_time).split()\n",
    "    video_save_path = save_path + folder_name + '/'\n",
    "    video_name = re.sub(r'[:]', '-', video_name[:8])\n",
    "    \n",
    "    make_dirs(video_save_path)\n",
    "\n",
    "    return f'{video_save_path}{video_name}.avi'"
   ]
  },
  {
   "cell_type": "code",
   "execution_count": 192,
   "metadata": {},
   "outputs": [],
   "source": [
    "fourcc = cv2.VideoWriter_fourcc(*'XVID')\n",
    "current_time = datetime.now()\n",
    "record = False\n",
    "record_start_time, record_end_time = get_record_times(current_time)\n",
    "save_path = 'C:/VideoRecord/'\n",
    "video_capture = cv2.VideoCapture(0)\n",
    "video_width, video_height = round(video_capture.get(cv2.CAP_PROP_FRAME_WIDTH)), round(video_capture.get(cv2.CAP_PROP_FRAME_HEIGHT))"
   ]
  },
  {
   "cell_type": "code",
   "execution_count": 193,
   "metadata": {},
   "outputs": [
    {
     "name": "stdout",
     "output_type": "stream",
     "text": [
      "C:/VideoRecord/2022-12-06/13-06-30.avi Record Start\n",
      "record end\n"
     ]
    }
   ],
   "source": [
    "if video_capture.isOpened():\n",
    "    while True:\n",
    "        ret, frame = video_capture.read()\n",
    "        current_time = datetime.now()\n",
    "\n",
    "        if not ret:\n",
    "            print(\"Can't receive frame. Exiting ...\")\n",
    "            break\n",
    "\n",
    "        cv2.imshow('Camera', frame)\n",
    "\n",
    "        if current_time >= record_start_time and record == False:\n",
    "            record = True\n",
    "            video_name = get_video_name(save_path, current_time)\n",
    "            video = cv2.VideoWriter(video_name, fourcc, 20.0, (video_width, video_height))\n",
    "            print(f'{video_name} record start')\n",
    "        elif current_time >= record_end_time and record == True:\n",
    "            current_time = datetime.now()\n",
    "            record = False\n",
    "            record_start_time, record_end_time = get_record_times(current_time)\n",
    "            print(f'{video_name} record end')\n",
    "            video.release()\n",
    "\n",
    "        if record == True:\n",
    "            video.write(frame)\n",
    "        \n",
    "        if cv2.waitKey(1) == ord('q'):\n",
    "            if record == True:\n",
    "                record = False\n",
    "                print(f'{video_name} record end')\n",
    "                video.release()\n",
    "            break\n",
    "\n",
    "    video_capture.release()\n",
    "    cv2.destroyAllWindows()"
   ]
  },
  {
   "cell_type": "code",
   "execution_count": null,
   "metadata": {},
   "outputs": [],
   "source": []
  }
 ],
 "metadata": {
  "kernelspec": {
   "display_name": "Python 3.9.2 64-bit",
   "language": "python",
   "name": "python3"
  },
  "language_info": {
   "codemirror_mode": {
    "name": "ipython",
    "version": 3
   },
   "file_extension": ".py",
   "mimetype": "text/x-python",
   "name": "python",
   "nbconvert_exporter": "python",
   "pygments_lexer": "ipython3",
   "version": "3.9.2"
  },
  "orig_nbformat": 4,
  "vscode": {
   "interpreter": {
    "hash": "43c396205119e0bf8ba0f044c086e580415856f0dd4404af3b74e6da0571f5dd"
   }
  }
 },
 "nbformat": 4,
 "nbformat_minor": 2
}
