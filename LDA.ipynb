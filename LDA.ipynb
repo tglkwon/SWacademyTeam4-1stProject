{
 "cells": [
  {
   "cell_type": "code",
   "execution_count": 2,
   "metadata": {
    "collapsed": true
   },
   "outputs": [],
   "source": [
    "from random import randint, choices\n",
    "from nltk.tokenize import word_tokenize\n",
    "from konlpy.tag import Okt\n",
    "import re\n",
    "from tqdm import tqdm, trange\n",
    "\n",
    "import sqlite3\n",
    "import pickle\n",
    "\n",
    "ma = Okt()"
   ]
  },
  {
   "cell_type": "code",
   "execution_count": 3,
   "outputs": [],
   "source": [
    "with open('LDA_news_theta.pickle', 'rb') as fi:\n",
    "    theta = pickle.load(fi)\n",
    "\n",
    "with open('LDA_news_phi.pickle', 'rb') as fi:\n",
    "    phi = pickle.load(fi)\n",
    "\n",
    "with open('LDA_news_z.pickle', 'rb') as fi:\n",
    "    z = pickle.load(fi)\n",
    "\n",
    "with open('LDA_news_V.pickle', 'rb') as fi:\n",
    "    V = pickle.load(fi)"
   ],
   "metadata": {
    "collapsed": false
   }
  },
  {
   "cell_type": "code",
   "execution_count": 6,
   "outputs": [],
   "source": [
    "K = 4\n",
    "alpha = .1\n",
    "beta = .1"
   ],
   "metadata": {
    "collapsed": false
   }
  },
  {
   "cell_type": "code",
   "execution_count": 7,
   "outputs": [],
   "source": [
    "# crawl to db\n",
    "con = sqlite3.connect('./news_Crawl.db')\n",
    "cur = con.cursor()"
   ],
   "metadata": {
    "collapsed": false
   }
  },
  {
   "cell_type": "code",
   "execution_count": 14,
   "outputs": [],
   "source": [
    "cur.execute('''\n",
    "    SELECT id, content, category FROM news LIMIT 100;\n",
    "''')\n",
    "articles = cur.fetchall()"
   ],
   "metadata": {
    "collapsed": false
   }
  },
  {
   "cell_type": "code",
   "execution_count": 15,
   "outputs": [
    {
     "data": {
      "text/plain": "' (서울=연합뉴스) 조민정 박경준 기자 = 이태원 압사 참사 다음 날 윤석열 대통령 주재 회의에서 \\'압사\\'라는 단어를 쓰지 말 것과, \\'이태원 사고\\'라는 표현을 쓰라는 지시가 나왔다는 의혹이 제기됐다. 국회 \\'용산 이태원 참사 진상규명과 재발 방지를 위한 국정조사 특별위원회\\' 소속 더불어민주당 신현영 의원은 7일 참사 당시 보건복지부, 소방청, 소방본부 등의 관계자가 나눈 모바일 메신저 대화를 근거로 이같이 주장했다. 참사 다음 날인 10월 30일 오후 박향 보건복지부 공공보건정책관은 \\'오늘 대통령주재 회의 결과 이태원압사사건을 \\'압사\\' 제외하시고 이태원 사고로 요청드려요\\'라는 글을 올린다. 이후 한 관계자는 \\'이태원 사고로 변경하겠습니다\\'라고 답을 하고 박 정책관은 \\'감사해요\\'라는 메시지를 남긴다. 야당은 이 같은 대화 내용이 참사 대응에 주력했어야 할 정부가 그 책임을 축소하는 데 급급했다는 점을 보여준다고 지적했다. 신 의원은 \"참담한 사고 진상을 밝히고 수습하기보다 10·29 참사의 본질을 교묘하게 왜곡하고 사실을 축소하려는 의도는 아니었는지 진상을 밝혀야 할 것\"이라고 말했다. 같은 당 이수진 원내대변인은 이날 국회 브리핑에서 \"압사임이 명백한데 \\'압사\\'를 빼라고 한 이유는 무엇인가\"라며 \"윤석열 정권이 참사 수습보다 책임 회피에 급급했음이 드러났다\"고 말했다. 이어 \"제대로 된 국정조사가 필요하다\"며 \"최소한의 책임 있는 조치조차 외면하는 정권을 더는 용납할 수 없다\"고 했다. 참사 명칭을 둘러싼 이런 논란에 복지부 측은 기자들에게 보낸 메시지를 통해 \"이태원 사고 명칭과 관련해서는 그간 여러 차례 정부 입장을 설명해 드린 바 있다\"며 \"추가로 답변할 내용은 없다\"고 밝혔다. 행정안전부는 10월 31일에 발송한 \\'이태원 사고 관련 지역 단위 합동분향소 설치 협조\\' 공문에서 제단 중앙에 \\'이태원 사고 사망자\\'라고 쓰도록 안내했다. 그러나 한덕수 국무총리는 지난달 8일 국회 예산결산특별위원회 종합정책질의에서 \"최근 진행된 수사 등을 봤을 때 \\'참사\\'로 그 표현을 바꿀 수 있겠다고 생각한다\"고 한 바 있다. 이후 정부는 \\'사고\\'와 \\'참사\\'라는 단어를 혼용했다. 정부가 설치한 \\'이태원 사고 중앙재난안전대책본부\\'는 지난 2일 해제할 때까지 해당 명칭을 유지한 반면, 이태원 참사 유가족 협의회 설립을 지원하고 이들과 소통하고자 만든 전담 조직의 명칭은 \\'이태원 참사 행안부 지원단\\'이다.'"
     },
     "execution_count": 15,
     "metadata": {},
     "output_type": "execute_result"
    }
   ],
   "source": [
    "articles[0][1]"
   ],
   "metadata": {
    "collapsed": false
   }
  },
  {
   "cell_type": "code",
   "execution_count": 16,
   "outputs": [],
   "source": [
    "corpus = [ma.morphs(content[1]) for content in articles]"
   ],
   "metadata": {
    "collapsed": false
   }
  },
  {
   "cell_type": "code",
   "execution_count": 17,
   "outputs": [
    {
     "data": {
      "text/plain": "['(',\n '서울',\n '=',\n '연합뉴스',\n ')',\n '조',\n '민정',\n '박경준',\n '기자',\n '=',\n '이태원',\n '압사',\n '참사',\n '다음',\n '날',\n '윤석열',\n '대통령',\n '주재',\n '회의',\n '에서',\n \"'\",\n '압사',\n \"'\",\n '라는',\n '단어',\n '를',\n '쓰지',\n '말',\n '것',\n '과',\n ',',\n \"'\",\n '이태원',\n '사고',\n \"'\",\n '라는',\n '표현',\n '을',\n '쓰라는',\n '지시',\n '가',\n '나왔다는',\n '의혹',\n '이',\n '제기',\n '됐다',\n '.',\n '국회',\n \"'\",\n '용산',\n '이태원',\n '참사',\n '진상',\n '규명',\n '과',\n '재발',\n '방지',\n '를',\n '위',\n '한',\n '국정조사',\n '특별',\n '위원회',\n \"'\",\n '소속',\n '더불어',\n '민주당',\n '신',\n '현영',\n '의원',\n '은',\n '7일',\n '참사',\n '당시',\n '보건복지부',\n ',',\n '소방청',\n ',',\n '소방본부',\n '등',\n '의',\n '관계자',\n '가',\n '나눈',\n '모바일',\n '메신저',\n '대화',\n '를',\n '근거',\n '로',\n '이같이',\n '주장',\n '했다',\n '.',\n '참사',\n '다음',\n '날인',\n '10월',\n '30일',\n '오후',\n '박향',\n '보건복지부',\n '공공',\n '보건',\n '정책',\n '관',\n '은',\n \"'\",\n '오늘',\n '대통령',\n '주재',\n '회의',\n '결과',\n '이태원',\n '압사',\n '사건',\n '을',\n \"'\",\n '압사',\n \"'\",\n '제외',\n '하시고',\n '이태원',\n '사고',\n '로',\n '요청',\n '드려요',\n \"'\",\n '라는',\n '글',\n '을',\n '올린다',\n '.',\n '이후',\n '한',\n '관계자',\n '는',\n \"'\",\n '이태원',\n '사고',\n '로',\n '변경',\n '하겠습니다',\n \"'\",\n '라고',\n '답',\n '을',\n '하고',\n '박',\n '정책',\n '관',\n '은',\n \"'\",\n '감사해요',\n \"'\",\n '라는',\n '메시지',\n '를',\n '남긴다',\n '.',\n '야당',\n '은',\n '이',\n '같은',\n '대화',\n '내용',\n '이',\n '참사',\n '대응',\n '에',\n '주력',\n '했어야',\n '할',\n '정부',\n '가',\n '그',\n '책임',\n '을',\n '축소',\n '하는',\n '데',\n '급',\n '급했다는',\n '점',\n '을',\n '보여준다고',\n '지적',\n '했다',\n '.',\n '신',\n '의원',\n '은',\n '\"',\n '참담한',\n '사고',\n '진상',\n '을',\n '밝히고',\n '수습',\n '하기보다',\n '10',\n '·',\n '29',\n '참사',\n '의',\n '본질',\n '을',\n '교묘하게',\n '왜곡',\n '하고',\n '사실',\n '을',\n '축소',\n '하려는',\n '의도',\n '는',\n '아니었는지',\n '진상',\n '을',\n '밝혀야',\n '할',\n '것',\n '\"',\n '이라고',\n '말',\n '했다',\n '.',\n '같은',\n '당',\n '이수진',\n '원',\n '내',\n '대변인',\n '은',\n '이',\n '날',\n '국회',\n '브리핑',\n '에서',\n '\"',\n '압사',\n '임',\n '이',\n '명백한데',\n \"'\",\n '압사',\n \"'\",\n '를',\n '빼',\n '라고',\n '한',\n '이유',\n '는',\n '무엇',\n '인가',\n '\"',\n '라며',\n '\"',\n '윤석열',\n '정권',\n '이',\n '참사',\n '수습',\n '보다',\n '책임',\n '회피',\n '에',\n '급',\n '급했음',\n '이',\n '드러났다',\n '\"',\n '고',\n '말',\n '했다',\n '.',\n '이어',\n '\"',\n '제대로',\n '된',\n '국정조사',\n '가',\n '필요하다',\n '\"',\n '며',\n '\"',\n '최소한',\n '의',\n '책임',\n '있는',\n '조치',\n '조차',\n '외면',\n '하는',\n '정권',\n '을',\n '더',\n '는',\n '용납',\n '할',\n '수',\n '없다',\n '\"',\n '고',\n '했다',\n '.',\n '참사',\n '명칭',\n '을',\n '둘러싼',\n '이런',\n '논란',\n '에',\n '복지부',\n '측은',\n '기자',\n '들',\n '에게',\n '보낸',\n '메시지',\n '를',\n '통해',\n '\"',\n '이태원',\n '사고',\n '명칭',\n '과',\n '관련',\n '해서는',\n '그간',\n '여러',\n '차례',\n '정부',\n '입장',\n '을',\n '설명',\n '해',\n '드린',\n '바',\n '있다',\n '\"',\n '며',\n '\"',\n '추가',\n '로',\n '답변',\n '할',\n '내용',\n '은',\n '없다',\n '\"',\n '고',\n '밝혔다',\n '.',\n '행정안전부',\n '는',\n '10월',\n '31일',\n '에',\n '발송',\n '한',\n \"'\",\n '이태원',\n '사고',\n '관련',\n '지역',\n '단위',\n '합동',\n '분향소',\n '설치',\n '협조',\n \"'\",\n '공문',\n '에서',\n '제단',\n '중앙',\n '에',\n \"'\",\n '이태원',\n '사고',\n '사망자',\n \"'\",\n '라고',\n '쓰도록',\n '안',\n '내',\n '했다',\n '.',\n '그러나',\n '한덕수',\n '국무총리',\n '는',\n '지난달',\n '8일',\n '국회',\n '예산',\n '결산',\n '특별',\n '위원회',\n '종합',\n '정책',\n '질의',\n '에서',\n '\"',\n '최근',\n '진행',\n '된',\n '수사',\n '등',\n '을',\n '봤을',\n '때',\n \"'\",\n '참사',\n \"'\",\n '로',\n '그',\n '표현',\n '을',\n '바꿀',\n '수',\n '있겠다고',\n '생각',\n '한다',\n '\"',\n '고',\n '한',\n '바',\n '있다',\n '.',\n '이후',\n '정부',\n '는',\n \"'\",\n '사고',\n \"'\",\n '와',\n \"'\",\n '참사',\n \"'\",\n '라는',\n '단어',\n '를',\n '혼용',\n '했다',\n '.',\n '정부',\n '가',\n '설치',\n '한',\n \"'\",\n '이태원',\n '사고',\n '중앙',\n '재난',\n '안전',\n '대책',\n '본부',\n \"'\",\n '는',\n '지난',\n '2일',\n '해제',\n '할',\n '때',\n '까지',\n '해당',\n '명칭',\n '을',\n '유지',\n '한',\n '반면',\n ',',\n '이태원',\n '참사',\n '유가족',\n '협의',\n '회',\n '설립',\n '을',\n '지원',\n '하고',\n '이',\n '들',\n '과',\n '소통',\n '하고자',\n '만든',\n '전담',\n '조직',\n '의',\n '명칭',\n '은',\n \"'\",\n '이태원',\n '참사',\n '행안부',\n '지',\n '원단',\n \"'\",\n '이다',\n '.']"
     },
     "execution_count": 17,
     "metadata": {},
     "output_type": "execute_result"
    }
   ],
   "source": [
    "corpus[0]"
   ],
   "metadata": {
    "collapsed": false
   }
  },
  {
   "cell_type": "code",
   "execution_count": 18,
   "outputs": [],
   "source": [
    "theta = dict() # 문서-토픽 분포(빈도) => m번째 문서, k번째 토픽 => {m:{k:빈도}}\n",
    "phi = dict() # 단어픽 분포(빈도) => m번째 문서, k번째 토픽 => {m:{k:빈도}}\n",
    "z = dict() # 문서-단어 토픽 할당 정보 => m번째 문서, l번째 단어 => {m:{l:k}}\n",
    "\n",
    "V = list()\n",
    "for m, d in enumerate(corpus):\n",
    "    for l, w in enumerate(d):\n",
    "        V.append(w.lower())\n",
    "        if m not in z:\n",
    "            z[m] = dict()\n",
    "        if l not in z[m]:\n",
    "            z[m][l] = 0\n",
    "        z[m][l] = randint(1,K) # 토픽 할당\n",
    "\n",
    "V = set(V)\n",
    "i2w = {i: v for i, v in enumerate(V)}\n",
    "w2i = {v: i for i, v in enumerate(V)}\n",
    "\n",
    "for m, L in z.items():\n",
    "    if m not in theta:\n",
    "        theta[m] = dict()\n",
    "    for l, t in L.items():\n",
    "        if t not in theta[m]:\n",
    "            theta[m][t] = 0\n",
    "        theta[m][t] += 1\n",
    "\n",
    "        v = w2i[corpus[m][l].lower()]\n",
    "\n",
    "        if v not in phi:\n",
    "            phi[v] = dict()\n",
    "        if t not in phi[v]:\n",
    "            phi[v][t] = 0\n",
    "        phi[v][t] += 1"
   ],
   "metadata": {
    "collapsed": false
   }
  },
  {
   "cell_type": "code",
   "execution_count": 19,
   "outputs": [
    {
     "name": "stderr",
     "output_type": "stream",
     "text": [
      "  1%|          | 1/100 [01:44<2:52:06, 104.31s/it]"
     ]
    },
    {
     "name": "stdout",
     "output_type": "stream",
     "text": [
      "0%\n"
     ]
    },
    {
     "name": "stderr",
     "output_type": "stream",
     "text": [
      "  2%|▏         | 2/100 [03:24<2:46:36, 102.01s/it]"
     ]
    },
    {
     "name": "stdout",
     "output_type": "stream",
     "text": [
      "1%\n"
     ]
    },
    {
     "name": "stderr",
     "output_type": "stream",
     "text": [
      "  3%|▎         | 3/100 [05:17<2:52:31, 106.71s/it]"
     ]
    },
    {
     "name": "stdout",
     "output_type": "stream",
     "text": [
      "2%\n"
     ]
    },
    {
     "name": "stderr",
     "output_type": "stream",
     "text": [
      "  4%|▍         | 4/100 [06:57<2:47:03, 104.42s/it]"
     ]
    },
    {
     "name": "stdout",
     "output_type": "stream",
     "text": [
      "3%\n"
     ]
    },
    {
     "name": "stderr",
     "output_type": "stream",
     "text": [
      "  5%|▌         | 5/100 [08:40<2:44:05, 103.63s/it]"
     ]
    },
    {
     "name": "stdout",
     "output_type": "stream",
     "text": [
      "4%\n"
     ]
    },
    {
     "name": "stderr",
     "output_type": "stream",
     "text": [
      "  6%|▌         | 6/100 [10:24<2:42:52, 103.96s/it]"
     ]
    },
    {
     "name": "stdout",
     "output_type": "stream",
     "text": [
      "5%\n"
     ]
    },
    {
     "name": "stderr",
     "output_type": "stream",
     "text": [
      "  7%|▋         | 7/100 [12:05<2:39:33, 102.94s/it]"
     ]
    },
    {
     "name": "stdout",
     "output_type": "stream",
     "text": [
      "6%\n"
     ]
    },
    {
     "name": "stderr",
     "output_type": "stream",
     "text": [
      "  8%|▊         | 8/100 [13:45<2:36:25, 102.02s/it]"
     ]
    },
    {
     "name": "stdout",
     "output_type": "stream",
     "text": [
      "7%\n"
     ]
    },
    {
     "name": "stderr",
     "output_type": "stream",
     "text": [
      "  9%|▉         | 9/100 [15:22<2:32:27, 100.52s/it]"
     ]
    },
    {
     "name": "stdout",
     "output_type": "stream",
     "text": [
      "8%\n"
     ]
    },
    {
     "name": "stderr",
     "output_type": "stream",
     "text": [
      " 10%|█         | 10/100 [17:02<2:30:32, 100.36s/it]"
     ]
    },
    {
     "name": "stdout",
     "output_type": "stream",
     "text": [
      "9%\n"
     ]
    },
    {
     "name": "stderr",
     "output_type": "stream",
     "text": [
      " 11%|█         | 11/100 [18:41<2:28:09, 99.88s/it] "
     ]
    },
    {
     "name": "stdout",
     "output_type": "stream",
     "text": [
      "10%\n"
     ]
    },
    {
     "name": "stderr",
     "output_type": "stream",
     "text": [
      " 12%|█▏        | 12/100 [20:23<2:27:16, 100.42s/it]"
     ]
    },
    {
     "name": "stdout",
     "output_type": "stream",
     "text": [
      "11%\n"
     ]
    },
    {
     "name": "stderr",
     "output_type": "stream",
     "text": [
      " 13%|█▎        | 13/100 [22:05<2:26:23, 100.96s/it]"
     ]
    },
    {
     "name": "stdout",
     "output_type": "stream",
     "text": [
      "12%\n"
     ]
    },
    {
     "name": "stderr",
     "output_type": "stream",
     "text": [
      " 14%|█▍        | 14/100 [23:41<2:22:31, 99.43s/it] "
     ]
    },
    {
     "name": "stdout",
     "output_type": "stream",
     "text": [
      "13%\n"
     ]
    },
    {
     "name": "stderr",
     "output_type": "stream",
     "text": [
      " 15%|█▌        | 15/100 [25:20<2:20:46, 99.37s/it]"
     ]
    },
    {
     "name": "stdout",
     "output_type": "stream",
     "text": [
      "14%\n"
     ]
    },
    {
     "name": "stderr",
     "output_type": "stream",
     "text": [
      " 16%|█▌        | 16/100 [26:59<2:18:51, 99.18s/it]"
     ]
    },
    {
     "name": "stdout",
     "output_type": "stream",
     "text": [
      "15%\n"
     ]
    },
    {
     "name": "stderr",
     "output_type": "stream",
     "text": [
      " 17%|█▋        | 17/100 [28:40<2:17:50, 99.64s/it]"
     ]
    },
    {
     "name": "stdout",
     "output_type": "stream",
     "text": [
      "16%\n"
     ]
    },
    {
     "name": "stderr",
     "output_type": "stream",
     "text": [
      " 18%|█▊        | 18/100 [30:16<2:14:42, 98.56s/it]"
     ]
    },
    {
     "name": "stdout",
     "output_type": "stream",
     "text": [
      "17%\n"
     ]
    },
    {
     "name": "stderr",
     "output_type": "stream",
     "text": [
      " 19%|█▉        | 19/100 [31:51<2:11:40, 97.53s/it]"
     ]
    },
    {
     "name": "stdout",
     "output_type": "stream",
     "text": [
      "18%\n"
     ]
    },
    {
     "name": "stderr",
     "output_type": "stream",
     "text": [
      " 20%|██        | 20/100 [33:26<2:09:09, 96.87s/it]"
     ]
    },
    {
     "name": "stdout",
     "output_type": "stream",
     "text": [
      "19%\n"
     ]
    },
    {
     "name": "stderr",
     "output_type": "stream",
     "text": [
      " 21%|██        | 21/100 [35:02<2:07:02, 96.48s/it]"
     ]
    },
    {
     "name": "stdout",
     "output_type": "stream",
     "text": [
      "20%\n"
     ]
    },
    {
     "name": "stderr",
     "output_type": "stream",
     "text": [
      " 22%|██▏       | 22/100 [36:39<2:05:49, 96.79s/it]"
     ]
    },
    {
     "name": "stdout",
     "output_type": "stream",
     "text": [
      "21%\n"
     ]
    },
    {
     "name": "stderr",
     "output_type": "stream",
     "text": [
      " 23%|██▎       | 23/100 [38:18<2:05:00, 97.41s/it]"
     ]
    },
    {
     "name": "stdout",
     "output_type": "stream",
     "text": [
      "22%\n"
     ]
    },
    {
     "name": "stderr",
     "output_type": "stream",
     "text": [
      " 24%|██▍       | 24/100 [39:56<2:03:30, 97.51s/it]"
     ]
    },
    {
     "name": "stdout",
     "output_type": "stream",
     "text": [
      "23%\n"
     ]
    },
    {
     "name": "stderr",
     "output_type": "stream",
     "text": [
      " 25%|██▌       | 25/100 [41:35<2:02:31, 98.02s/it]"
     ]
    },
    {
     "name": "stdout",
     "output_type": "stream",
     "text": [
      "24%\n"
     ]
    },
    {
     "name": "stderr",
     "output_type": "stream",
     "text": [
      " 26%|██▌       | 26/100 [43:18<2:02:43, 99.51s/it]"
     ]
    },
    {
     "name": "stdout",
     "output_type": "stream",
     "text": [
      "25%\n"
     ]
    },
    {
     "name": "stderr",
     "output_type": "stream",
     "text": [
      " 27%|██▋       | 27/100 [44:57<2:00:59, 99.44s/it]"
     ]
    },
    {
     "name": "stdout",
     "output_type": "stream",
     "text": [
      "26%\n"
     ]
    },
    {
     "name": "stderr",
     "output_type": "stream",
     "text": [
      " 28%|██▊       | 28/100 [46:36<1:59:04, 99.24s/it]"
     ]
    },
    {
     "name": "stdout",
     "output_type": "stream",
     "text": [
      "27%\n"
     ]
    },
    {
     "name": "stderr",
     "output_type": "stream",
     "text": [
      " 29%|██▉       | 29/100 [48:12<1:56:16, 98.27s/it]"
     ]
    },
    {
     "name": "stdout",
     "output_type": "stream",
     "text": [
      "28%\n"
     ]
    },
    {
     "name": "stderr",
     "output_type": "stream",
     "text": [
      " 30%|███       | 30/100 [49:50<1:54:34, 98.20s/it]"
     ]
    },
    {
     "name": "stdout",
     "output_type": "stream",
     "text": [
      "29%\n"
     ]
    },
    {
     "name": "stderr",
     "output_type": "stream",
     "text": [
      " 31%|███       | 31/100 [51:27<1:52:32, 97.86s/it]"
     ]
    },
    {
     "name": "stdout",
     "output_type": "stream",
     "text": [
      "30%\n"
     ]
    },
    {
     "name": "stderr",
     "output_type": "stream",
     "text": [
      " 32%|███▏      | 32/100 [53:03<1:50:20, 97.35s/it]"
     ]
    },
    {
     "name": "stdout",
     "output_type": "stream",
     "text": [
      "31%\n"
     ]
    },
    {
     "name": "stderr",
     "output_type": "stream",
     "text": [
      " 33%|███▎      | 33/100 [54:45<1:50:11, 98.68s/it]"
     ]
    },
    {
     "name": "stdout",
     "output_type": "stream",
     "text": [
      "32%\n"
     ]
    },
    {
     "name": "stderr",
     "output_type": "stream",
     "text": [
      " 34%|███▍      | 34/100 [56:20<1:47:09, 97.41s/it]"
     ]
    },
    {
     "name": "stdout",
     "output_type": "stream",
     "text": [
      "33%\n"
     ]
    },
    {
     "name": "stderr",
     "output_type": "stream",
     "text": [
      " 35%|███▌      | 35/100 [57:55<1:44:47, 96.73s/it]"
     ]
    },
    {
     "name": "stdout",
     "output_type": "stream",
     "text": [
      "34%\n"
     ]
    },
    {
     "name": "stderr",
     "output_type": "stream",
     "text": [
      " 36%|███▌      | 36/100 [59:30<1:42:38, 96.22s/it]"
     ]
    },
    {
     "name": "stdout",
     "output_type": "stream",
     "text": [
      "35%\n"
     ]
    },
    {
     "name": "stderr",
     "output_type": "stream",
     "text": [
      " 37%|███▋      | 37/100 [1:01:08<1:41:34, 96.73s/it]"
     ]
    },
    {
     "name": "stdout",
     "output_type": "stream",
     "text": [
      "36%\n"
     ]
    },
    {
     "name": "stderr",
     "output_type": "stream",
     "text": [
      " 38%|███▊      | 38/100 [1:02:44<1:39:49, 96.60s/it]"
     ]
    },
    {
     "name": "stdout",
     "output_type": "stream",
     "text": [
      "37%\n"
     ]
    },
    {
     "name": "stderr",
     "output_type": "stream",
     "text": [
      " 39%|███▉      | 39/100 [1:04:20<1:37:54, 96.31s/it]"
     ]
    },
    {
     "name": "stdout",
     "output_type": "stream",
     "text": [
      "38%\n"
     ]
    },
    {
     "name": "stderr",
     "output_type": "stream",
     "text": [
      " 40%|████      | 40/100 [1:05:54<1:35:46, 95.77s/it]"
     ]
    },
    {
     "name": "stdout",
     "output_type": "stream",
     "text": [
      "39%\n"
     ]
    },
    {
     "name": "stderr",
     "output_type": "stream",
     "text": [
      " 41%|████      | 41/100 [1:07:32<1:34:41, 96.29s/it]"
     ]
    },
    {
     "name": "stdout",
     "output_type": "stream",
     "text": [
      "40%\n"
     ]
    },
    {
     "name": "stderr",
     "output_type": "stream",
     "text": [
      " 42%|████▏     | 42/100 [1:09:07<1:32:50, 96.05s/it]"
     ]
    },
    {
     "name": "stdout",
     "output_type": "stream",
     "text": [
      "41%\n"
     ]
    },
    {
     "name": "stderr",
     "output_type": "stream",
     "text": [
      " 43%|████▎     | 43/100 [1:10:42<1:30:53, 95.68s/it]"
     ]
    },
    {
     "name": "stdout",
     "output_type": "stream",
     "text": [
      "42%\n"
     ]
    },
    {
     "name": "stderr",
     "output_type": "stream",
     "text": [
      " 44%|████▍     | 44/100 [1:12:18<1:29:17, 95.66s/it]"
     ]
    },
    {
     "name": "stdout",
     "output_type": "stream",
     "text": [
      "43%\n"
     ]
    },
    {
     "name": "stderr",
     "output_type": "stream",
     "text": [
      " 45%|████▌     | 45/100 [1:13:53<1:27:38, 95.61s/it]"
     ]
    },
    {
     "name": "stdout",
     "output_type": "stream",
     "text": [
      "44%\n"
     ]
    },
    {
     "name": "stderr",
     "output_type": "stream",
     "text": [
      " 46%|████▌     | 46/100 [1:15:30<1:26:21, 95.95s/it]"
     ]
    },
    {
     "name": "stdout",
     "output_type": "stream",
     "text": [
      "45%\n"
     ]
    },
    {
     "name": "stderr",
     "output_type": "stream",
     "text": [
      " 47%|████▋     | 47/100 [1:17:07<1:25:10, 96.43s/it]"
     ]
    },
    {
     "name": "stdout",
     "output_type": "stream",
     "text": [
      "46%\n"
     ]
    },
    {
     "name": "stderr",
     "output_type": "stream",
     "text": [
      " 48%|████▊     | 48/100 [1:18:45<1:23:51, 96.76s/it]"
     ]
    },
    {
     "name": "stdout",
     "output_type": "stream",
     "text": [
      "47%\n"
     ]
    },
    {
     "name": "stderr",
     "output_type": "stream",
     "text": [
      " 49%|████▉     | 49/100 [1:20:21<1:21:59, 96.45s/it]"
     ]
    },
    {
     "name": "stdout",
     "output_type": "stream",
     "text": [
      "48%\n"
     ]
    },
    {
     "name": "stderr",
     "output_type": "stream",
     "text": [
      " 50%|█████     | 50/100 [1:22:00<1:21:08, 97.37s/it]"
     ]
    },
    {
     "name": "stdout",
     "output_type": "stream",
     "text": [
      "49%\n"
     ]
    },
    {
     "name": "stderr",
     "output_type": "stream",
     "text": [
      " 51%|█████     | 51/100 [1:23:37<1:19:27, 97.30s/it]"
     ]
    },
    {
     "name": "stdout",
     "output_type": "stream",
     "text": [
      "50%\n"
     ]
    },
    {
     "name": "stderr",
     "output_type": "stream",
     "text": [
      " 52%|█████▏    | 52/100 [1:25:15<1:17:54, 97.39s/it]"
     ]
    },
    {
     "name": "stdout",
     "output_type": "stream",
     "text": [
      "51%\n"
     ]
    },
    {
     "name": "stderr",
     "output_type": "stream",
     "text": [
      " 53%|█████▎    | 53/100 [1:26:51<1:16:01, 97.05s/it]"
     ]
    },
    {
     "name": "stdout",
     "output_type": "stream",
     "text": [
      "52%\n"
     ]
    },
    {
     "name": "stderr",
     "output_type": "stream",
     "text": [
      " 54%|█████▍    | 54/100 [1:28:28<1:14:24, 97.05s/it]"
     ]
    },
    {
     "name": "stdout",
     "output_type": "stream",
     "text": [
      "53%\n"
     ]
    },
    {
     "name": "stderr",
     "output_type": "stream",
     "text": [
      " 55%|█████▌    | 55/100 [1:30:02<1:11:59, 95.98s/it]"
     ]
    },
    {
     "name": "stdout",
     "output_type": "stream",
     "text": [
      "54%\n"
     ]
    },
    {
     "name": "stderr",
     "output_type": "stream",
     "text": [
      " 56%|█████▌    | 56/100 [1:31:35<1:09:55, 95.36s/it]"
     ]
    },
    {
     "name": "stdout",
     "output_type": "stream",
     "text": [
      "55%\n"
     ]
    },
    {
     "name": "stderr",
     "output_type": "stream",
     "text": [
      " 57%|█████▋    | 57/100 [1:33:11<1:08:24, 95.46s/it]"
     ]
    },
    {
     "name": "stdout",
     "output_type": "stream",
     "text": [
      "56%\n"
     ]
    },
    {
     "name": "stderr",
     "output_type": "stream",
     "text": [
      " 58%|█████▊    | 58/100 [1:34:45<1:06:23, 94.85s/it]"
     ]
    },
    {
     "name": "stdout",
     "output_type": "stream",
     "text": [
      "57%\n"
     ]
    },
    {
     "name": "stderr",
     "output_type": "stream",
     "text": [
      " 59%|█████▉    | 59/100 [1:36:20<1:04:59, 95.12s/it]"
     ]
    },
    {
     "name": "stdout",
     "output_type": "stream",
     "text": [
      "58%\n"
     ]
    },
    {
     "name": "stderr",
     "output_type": "stream",
     "text": [
      " 60%|██████    | 60/100 [1:37:58<1:03:57, 95.94s/it]"
     ]
    },
    {
     "name": "stdout",
     "output_type": "stream",
     "text": [
      "59%\n"
     ]
    },
    {
     "name": "stderr",
     "output_type": "stream",
     "text": [
      " 61%|██████    | 61/100 [1:39:33<1:02:12, 95.72s/it]"
     ]
    },
    {
     "name": "stdout",
     "output_type": "stream",
     "text": [
      "60%\n"
     ]
    },
    {
     "name": "stderr",
     "output_type": "stream",
     "text": [
      " 62%|██████▏   | 62/100 [1:41:07<1:00:17, 95.20s/it]"
     ]
    },
    {
     "name": "stdout",
     "output_type": "stream",
     "text": [
      "61%\n"
     ]
    },
    {
     "name": "stderr",
     "output_type": "stream",
     "text": [
      " 63%|██████▎   | 63/100 [1:42:42<58:33, 94.96s/it]  "
     ]
    },
    {
     "name": "stdout",
     "output_type": "stream",
     "text": [
      "62%\n"
     ]
    },
    {
     "name": "stderr",
     "output_type": "stream",
     "text": [
      " 64%|██████▍   | 64/100 [1:44:16<56:51, 94.78s/it]"
     ]
    },
    {
     "name": "stdout",
     "output_type": "stream",
     "text": [
      "63%\n"
     ]
    },
    {
     "name": "stderr",
     "output_type": "stream",
     "text": [
      " 65%|██████▌   | 65/100 [1:45:50<55:11, 94.62s/it]"
     ]
    },
    {
     "name": "stdout",
     "output_type": "stream",
     "text": [
      "64%\n"
     ]
    },
    {
     "name": "stderr",
     "output_type": "stream",
     "text": [
      " 66%|██████▌   | 66/100 [1:47:24<53:29, 94.40s/it]"
     ]
    },
    {
     "name": "stdout",
     "output_type": "stream",
     "text": [
      "65%\n"
     ]
    },
    {
     "name": "stderr",
     "output_type": "stream",
     "text": [
      " 67%|██████▋   | 67/100 [1:48:59<51:56, 94.43s/it]"
     ]
    },
    {
     "name": "stdout",
     "output_type": "stream",
     "text": [
      "66%\n"
     ]
    },
    {
     "name": "stderr",
     "output_type": "stream",
     "text": [
      " 68%|██████▊   | 68/100 [1:50:33<50:21, 94.41s/it]"
     ]
    },
    {
     "name": "stdout",
     "output_type": "stream",
     "text": [
      "67%\n"
     ]
    },
    {
     "name": "stderr",
     "output_type": "stream",
     "text": [
      " 69%|██████▉   | 69/100 [1:52:09<48:57, 94.77s/it]"
     ]
    },
    {
     "name": "stdout",
     "output_type": "stream",
     "text": [
      "68%\n"
     ]
    },
    {
     "name": "stderr",
     "output_type": "stream",
     "text": [
      " 70%|███████   | 70/100 [1:53:41<46:58, 93.94s/it]"
     ]
    },
    {
     "name": "stdout",
     "output_type": "stream",
     "text": [
      "69%\n"
     ]
    },
    {
     "name": "stderr",
     "output_type": "stream",
     "text": [
      " 71%|███████   | 71/100 [1:55:13<45:12, 93.55s/it]"
     ]
    },
    {
     "name": "stdout",
     "output_type": "stream",
     "text": [
      "70%\n"
     ]
    },
    {
     "name": "stderr",
     "output_type": "stream",
     "text": [
      " 72%|███████▏  | 72/100 [1:56:50<44:05, 94.48s/it]"
     ]
    },
    {
     "name": "stdout",
     "output_type": "stream",
     "text": [
      "71%\n"
     ]
    },
    {
     "name": "stderr",
     "output_type": "stream",
     "text": [
      " 73%|███████▎  | 73/100 [1:58:25<42:35, 94.65s/it]"
     ]
    },
    {
     "name": "stdout",
     "output_type": "stream",
     "text": [
      "72%\n"
     ]
    },
    {
     "name": "stderr",
     "output_type": "stream",
     "text": [
      " 74%|███████▍  | 74/100 [2:00:00<41:01, 94.69s/it]"
     ]
    },
    {
     "name": "stdout",
     "output_type": "stream",
     "text": [
      "73%\n"
     ]
    },
    {
     "name": "stderr",
     "output_type": "stream",
     "text": [
      " 75%|███████▌  | 75/100 [2:01:37<39:45, 95.44s/it]"
     ]
    },
    {
     "name": "stdout",
     "output_type": "stream",
     "text": [
      "74%\n"
     ]
    },
    {
     "name": "stderr",
     "output_type": "stream",
     "text": [
      " 76%|███████▌  | 76/100 [2:03:13<38:14, 95.62s/it]"
     ]
    },
    {
     "name": "stdout",
     "output_type": "stream",
     "text": [
      "75%\n"
     ]
    },
    {
     "name": "stderr",
     "output_type": "stream",
     "text": [
      " 77%|███████▋  | 77/100 [2:04:47<36:25, 95.02s/it]"
     ]
    },
    {
     "name": "stdout",
     "output_type": "stream",
     "text": [
      "76%\n"
     ]
    },
    {
     "name": "stderr",
     "output_type": "stream",
     "text": [
      " 78%|███████▊  | 78/100 [2:06:20<34:40, 94.59s/it]"
     ]
    },
    {
     "name": "stdout",
     "output_type": "stream",
     "text": [
      "77%\n"
     ]
    },
    {
     "name": "stderr",
     "output_type": "stream",
     "text": [
      " 79%|███████▉  | 79/100 [2:07:55<33:07, 94.62s/it]"
     ]
    },
    {
     "name": "stdout",
     "output_type": "stream",
     "text": [
      "78%\n"
     ]
    },
    {
     "name": "stderr",
     "output_type": "stream",
     "text": [
      " 80%|████████  | 80/100 [2:09:31<31:37, 94.89s/it]"
     ]
    },
    {
     "name": "stdout",
     "output_type": "stream",
     "text": [
      "79%\n"
     ]
    },
    {
     "name": "stderr",
     "output_type": "stream",
     "text": [
      " 81%|████████  | 81/100 [2:11:05<30:02, 94.89s/it]"
     ]
    },
    {
     "name": "stdout",
     "output_type": "stream",
     "text": [
      "80%\n"
     ]
    },
    {
     "name": "stderr",
     "output_type": "stream",
     "text": [
      " 82%|████████▏ | 82/100 [2:12:42<28:35, 95.32s/it]"
     ]
    },
    {
     "name": "stdout",
     "output_type": "stream",
     "text": [
      "81%\n"
     ]
    },
    {
     "name": "stderr",
     "output_type": "stream",
     "text": [
      " 83%|████████▎ | 83/100 [2:14:15<26:50, 94.76s/it]"
     ]
    },
    {
     "name": "stdout",
     "output_type": "stream",
     "text": [
      "82%\n"
     ]
    },
    {
     "name": "stderr",
     "output_type": "stream",
     "text": [
      " 84%|████████▍ | 84/100 [2:15:49<25:12, 94.51s/it]"
     ]
    },
    {
     "name": "stdout",
     "output_type": "stream",
     "text": [
      "83%\n"
     ]
    },
    {
     "name": "stderr",
     "output_type": "stream",
     "text": [
      " 85%|████████▌ | 85/100 [2:17:23<23:33, 94.24s/it]"
     ]
    },
    {
     "name": "stdout",
     "output_type": "stream",
     "text": [
      "84%\n"
     ]
    },
    {
     "name": "stderr",
     "output_type": "stream",
     "text": [
      " 86%|████████▌ | 86/100 [2:18:58<22:03, 94.54s/it]"
     ]
    },
    {
     "name": "stdout",
     "output_type": "stream",
     "text": [
      "85%\n"
     ]
    },
    {
     "name": "stderr",
     "output_type": "stream",
     "text": [
      " 87%|████████▋ | 87/100 [2:20:34<20:35, 95.00s/it]"
     ]
    },
    {
     "name": "stdout",
     "output_type": "stream",
     "text": [
      "86%\n"
     ]
    },
    {
     "name": "stderr",
     "output_type": "stream",
     "text": [
      " 88%|████████▊ | 88/100 [2:22:11<19:08, 95.70s/it]"
     ]
    },
    {
     "name": "stdout",
     "output_type": "stream",
     "text": [
      "87%\n"
     ]
    },
    {
     "name": "stderr",
     "output_type": "stream",
     "text": [
      " 89%|████████▉ | 89/100 [2:23:48<17:35, 95.93s/it]"
     ]
    },
    {
     "name": "stdout",
     "output_type": "stream",
     "text": [
      "88%\n"
     ]
    },
    {
     "name": "stderr",
     "output_type": "stream",
     "text": [
      " 90%|█████████ | 90/100 [2:25:25<16:04, 96.43s/it]"
     ]
    },
    {
     "name": "stdout",
     "output_type": "stream",
     "text": [
      "89%\n"
     ]
    },
    {
     "name": "stderr",
     "output_type": "stream",
     "text": [
      " 91%|█████████ | 91/100 [2:27:05<14:37, 97.48s/it]"
     ]
    },
    {
     "name": "stdout",
     "output_type": "stream",
     "text": [
      "90%\n"
     ]
    },
    {
     "name": "stderr",
     "output_type": "stream",
     "text": [
      " 92%|█████████▏| 92/100 [2:28:42<12:57, 97.16s/it]"
     ]
    },
    {
     "name": "stdout",
     "output_type": "stream",
     "text": [
      "91%\n"
     ]
    },
    {
     "name": "stderr",
     "output_type": "stream",
     "text": [
      " 93%|█████████▎| 93/100 [2:30:17<11:15, 96.56s/it]"
     ]
    },
    {
     "name": "stdout",
     "output_type": "stream",
     "text": [
      "92%\n"
     ]
    },
    {
     "name": "stderr",
     "output_type": "stream",
     "text": [
      " 94%|█████████▍| 94/100 [2:31:52<09:36, 96.15s/it]"
     ]
    },
    {
     "name": "stdout",
     "output_type": "stream",
     "text": [
      "93%\n"
     ]
    },
    {
     "name": "stderr",
     "output_type": "stream",
     "text": [
      " 95%|█████████▌| 95/100 [2:33:25<07:56, 95.30s/it]"
     ]
    },
    {
     "name": "stdout",
     "output_type": "stream",
     "text": [
      "94%\n"
     ]
    },
    {
     "name": "stderr",
     "output_type": "stream",
     "text": [
      " 96%|█████████▌| 96/100 [2:35:08<06:29, 97.39s/it]"
     ]
    },
    {
     "name": "stdout",
     "output_type": "stream",
     "text": [
      "95%\n"
     ]
    },
    {
     "name": "stderr",
     "output_type": "stream",
     "text": [
      " 97%|█████████▋| 97/100 [2:36:45<04:51, 97.32s/it]"
     ]
    },
    {
     "name": "stdout",
     "output_type": "stream",
     "text": [
      "96%\n"
     ]
    },
    {
     "name": "stderr",
     "output_type": "stream",
     "text": [
      " 98%|█████████▊| 98/100 [2:38:23<03:15, 97.50s/it]"
     ]
    },
    {
     "name": "stdout",
     "output_type": "stream",
     "text": [
      "97%\n"
     ]
    },
    {
     "name": "stderr",
     "output_type": "stream",
     "text": [
      " 99%|█████████▉| 99/100 [2:40:02<01:37, 97.87s/it]"
     ]
    },
    {
     "name": "stdout",
     "output_type": "stream",
     "text": [
      "98%\n"
     ]
    },
    {
     "name": "stderr",
     "output_type": "stream",
     "text": [
      "100%|██████████| 100/100 [2:41:45<00:00, 97.05s/it]"
     ]
    },
    {
     "name": "stdout",
     "output_type": "stream",
     "text": [
      "99%\n"
     ]
    },
    {
     "name": "stderr",
     "output_type": "stream",
     "text": [
      "\n"
     ]
    }
   ],
   "source": [
    "iteration = 100\n",
    "\n",
    "for _ in trange(iteration):\n",
    "    for m, d in enumerate(corpus):\n",
    "        for l, w in enumerate(d):\n",
    "            v = w2i[w.lower()]\n",
    "\n",
    "            k = z[m][l] # gibb's 대상 삭제\n",
    "            theta[m][k] -= 1\n",
    "            phi[v][k] -= 1\n",
    "\n",
    "            topic = list()\n",
    "            for t in range(K):\n",
    "                A = (phi[v].get(t+1,0) + beta) / sum([T.get(t+1,0)+beta for v, T in phi.items()])\n",
    "                B = theta[m].get(t+1,0) + alpha\n",
    "                topic.append(A*B)\n",
    "\n",
    "            k = choices(range(K), weights=topic, k=1)[0]+1\n",
    "\n",
    "            z[m][l] = k\n",
    "            theta[m][k] = (theta[m][k] if k in theta[m] else 0) + 1\n",
    "            phi[v][k] = (phi[v][k] if k in phi[v] else 0) + 1\n",
    "    # print('{}%'.format(_))"
   ],
   "metadata": {
    "collapsed": false
   }
  },
  {
   "cell_type": "code",
   "execution_count": 22,
   "outputs": [],
   "source": [
    "with open('LDA_news_theta.pickle', 'wb') as f:\n",
    "    pickle.dump(theta, f)\n",
    "\n",
    "with open('LDA_news_phi.pickle', 'wb') as f:\n",
    "    pickle.dump(phi, f)\n",
    "\n",
    "with open('LDA_news_z.pickle', 'wb') as f:\n",
    "    pickle.dump(z, f)\n",
    "\n",
    "with open('LDA_news_V.pickle', 'wb') as f:\n",
    "    pickle.dump(V, f)\n"
   ],
   "metadata": {
    "collapsed": false
   }
  },
  {
   "cell_type": "code",
   "execution_count": 4,
   "outputs": [
    {
     "ename": "NameError",
     "evalue": "name 'i2w' is not defined",
     "output_type": "error",
     "traceback": [
      "\u001B[1;31m---------------------------------------------------------------------------\u001B[0m",
      "\u001B[1;31mNameError\u001B[0m                                 Traceback (most recent call last)",
      "Cell \u001B[1;32mIn [4], line 3\u001B[0m\n\u001B[0;32m      1\u001B[0m \u001B[38;5;28;01mfor\u001B[39;00m l, T \u001B[38;5;129;01min\u001B[39;00m phi\u001B[38;5;241m.\u001B[39mitems():\n\u001B[0;32m      2\u001B[0m     \u001B[38;5;28;01mif\u001B[39;00m T[\u001B[38;5;241m1\u001B[39m] \u001B[38;5;241m>\u001B[39m \u001B[38;5;241m0\u001B[39m:\n\u001B[1;32m----> 3\u001B[0m         \u001B[38;5;28mprint\u001B[39m(i2w[l], T[\u001B[38;5;241m1\u001B[39m])\n",
      "\u001B[1;31mNameError\u001B[0m: name 'i2w' is not defined"
     ]
    }
   ],
   "source": [
    "for l, T in phi.items():\n",
    "    if T[1] > 0:\n",
    "        print(i2w[l], T[1])"
   ],
   "metadata": {
    "collapsed": false
   }
  },
  {
   "cell_type": "code",
   "execution_count": null,
   "outputs": [],
   "source": [],
   "metadata": {
    "collapsed": false
   }
  }
 ],
 "metadata": {
  "kernelspec": {
   "display_name": "Python 3",
   "language": "python",
   "name": "python3"
  },
  "language_info": {
   "codemirror_mode": {
    "name": "ipython",
    "version": 2
   },
   "file_extension": ".py",
   "mimetype": "text/x-python",
   "name": "python",
   "nbconvert_exporter": "python",
   "pygments_lexer": "ipython2",
   "version": "2.7.6"
  }
 },
 "nbformat": 4,
 "nbformat_minor": 0
}
